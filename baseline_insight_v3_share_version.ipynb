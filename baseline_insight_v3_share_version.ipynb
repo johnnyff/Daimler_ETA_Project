{
 "cells": [
  {
   "cell_type": "code",
   "execution_count": 1,
   "metadata": {
    "ExecuteTime": {
     "end_time": "2022-12-07T21:01:06.195206Z",
     "start_time": "2022-12-07T21:00:55.158713Z"
    }
   },
   "outputs": [],
   "source": [
    "import random\n",
    "import datetime\n",
    "import pandas as pd\n",
    "import numpy as np\n",
    "from haversine import haversine\n",
    "import folium\n",
    "from datetime import datetime\n",
    "import time\n",
    "from tqdm import tqdm\n",
    "import gc\n",
    "import geopy.distance\n",
    "import seaborn as sns\n",
    "import shap\n",
    "import matplotlib.pyplot as plt"
   ]
  },
  {
   "cell_type": "markdown",
   "metadata": {},
   "source": [
    "## Data preprocessing"
   ]
  },
  {
   "cell_type": "code",
   "execution_count": 3,
   "metadata": {
    "ExecuteTime": {
     "end_time": "2022-12-07T18:01:46.422158Z",
     "start_time": "2022-12-07T18:00:38.440384Z"
    },
    "scrolled": true
   },
   "outputs": [
    {
     "data": {
      "text/html": [
       "<div>\n",
       "<style scoped>\n",
       "    .dataframe tbody tr th:only-of-type {\n",
       "        vertical-align: middle;\n",
       "    }\n",
       "\n",
       "    .dataframe tbody tr th {\n",
       "        vertical-align: top;\n",
       "    }\n",
       "\n",
       "    .dataframe thead th {\n",
       "        text-align: right;\n",
       "    }\n",
       "</style>\n",
       "<table border=\"1\" class=\"dataframe\">\n",
       "  <thead>\n",
       "    <tr style=\"text-align: right;\">\n",
       "      <th></th>\n",
       "      <th>vehicleCode</th>\n",
       "      <th>lat</th>\n",
       "      <th>lng</th>\n",
       "      <th>timestamp</th>\n",
       "      <th>distance</th>\n",
       "    </tr>\n",
       "  </thead>\n",
       "  <tbody>\n",
       "    <tr>\n",
       "      <th>0</th>\n",
       "      <td>W46-スポット</td>\n",
       "      <td>34.640898</td>\n",
       "      <td>133.966966</td>\n",
       "      <td>2022-05-12T10:17:32+09:00</td>\n",
       "      <td>0.000000</td>\n",
       "    </tr>\n",
       "    <tr>\n",
       "      <th>1</th>\n",
       "      <td>W46-スポット</td>\n",
       "      <td>34.640920</td>\n",
       "      <td>133.966956</td>\n",
       "      <td>2022-05-12T10:27:28+09:00</td>\n",
       "      <td>2.607085</td>\n",
       "    </tr>\n",
       "    <tr>\n",
       "      <th>2</th>\n",
       "      <td>W46-スポット</td>\n",
       "      <td>34.640933</td>\n",
       "      <td>133.966950</td>\n",
       "      <td>2022-05-12T10:48:50+09:00</td>\n",
       "      <td>1.543501</td>\n",
       "    </tr>\n",
       "    <tr>\n",
       "      <th>3</th>\n",
       "      <td>W46-スポット</td>\n",
       "      <td>34.641057</td>\n",
       "      <td>133.966894</td>\n",
       "      <td>2022-05-12T10:48:55+09:00</td>\n",
       "      <td>14.682787</td>\n",
       "    </tr>\n",
       "    <tr>\n",
       "      <th>4</th>\n",
       "      <td>W46-スポット</td>\n",
       "      <td>34.641229</td>\n",
       "      <td>133.966861</td>\n",
       "      <td>2022-05-12T10:49:00+09:00</td>\n",
       "      <td>19.319046</td>\n",
       "    </tr>\n",
       "    <tr>\n",
       "      <th>...</th>\n",
       "      <td>...</td>\n",
       "      <td>...</td>\n",
       "      <td>...</td>\n",
       "      <td>...</td>\n",
       "      <td>...</td>\n",
       "    </tr>\n",
       "    <tr>\n",
       "      <th>18876064</th>\n",
       "      <td>W1</td>\n",
       "      <td>35.082180</td>\n",
       "      <td>136.932447</td>\n",
       "      <td>2022-08-19T07:08:17+09:00</td>\n",
       "      <td>0.000000</td>\n",
       "    </tr>\n",
       "    <tr>\n",
       "      <th>18876065</th>\n",
       "      <td>W1</td>\n",
       "      <td>35.082399</td>\n",
       "      <td>136.932265</td>\n",
       "      <td>2022-08-19T07:08:29+09:00</td>\n",
       "      <td>29.424443</td>\n",
       "    </tr>\n",
       "    <tr>\n",
       "      <th>18876066</th>\n",
       "      <td>W1</td>\n",
       "      <td>35.082374</td>\n",
       "      <td>136.932283</td>\n",
       "      <td>2022-08-19T07:08:34+09:00</td>\n",
       "      <td>3.222924</td>\n",
       "    </tr>\n",
       "    <tr>\n",
       "      <th>18876067</th>\n",
       "      <td>W1</td>\n",
       "      <td>35.082375</td>\n",
       "      <td>136.932268</td>\n",
       "      <td>2022-08-19T07:08:40+09:00</td>\n",
       "      <td>1.372440</td>\n",
       "    </tr>\n",
       "    <tr>\n",
       "      <th>18876068</th>\n",
       "      <td>W1</td>\n",
       "      <td>35.082333</td>\n",
       "      <td>136.932183</td>\n",
       "      <td>2022-08-19T07:08:45+09:00</td>\n",
       "      <td>9.044369</td>\n",
       "    </tr>\n",
       "  </tbody>\n",
       "</table>\n",
       "<p>18876069 rows × 5 columns</p>\n",
       "</div>"
      ],
      "text/plain": [
       "         vehicleCode        lat         lng                  timestamp  \\\n",
       "0           W46-スポット  34.640898  133.966966  2022-05-12T10:17:32+09:00   \n",
       "1           W46-スポット  34.640920  133.966956  2022-05-12T10:27:28+09:00   \n",
       "2           W46-スポット  34.640933  133.966950  2022-05-12T10:48:50+09:00   \n",
       "3           W46-スポット  34.641057  133.966894  2022-05-12T10:48:55+09:00   \n",
       "4           W46-スポット  34.641229  133.966861  2022-05-12T10:49:00+09:00   \n",
       "...              ...        ...         ...                        ...   \n",
       "18876064          W1  35.082180  136.932447  2022-08-19T07:08:17+09:00   \n",
       "18876065          W1  35.082399  136.932265  2022-08-19T07:08:29+09:00   \n",
       "18876066          W1  35.082374  136.932283  2022-08-19T07:08:34+09:00   \n",
       "18876067          W1  35.082375  136.932268  2022-08-19T07:08:40+09:00   \n",
       "18876068          W1  35.082333  136.932183  2022-08-19T07:08:45+09:00   \n",
       "\n",
       "           distance  \n",
       "0          0.000000  \n",
       "1          2.607085  \n",
       "2          1.543501  \n",
       "3         14.682787  \n",
       "4         19.319046  \n",
       "...             ...  \n",
       "18876064   0.000000  \n",
       "18876065  29.424443  \n",
       "18876066   3.222924  \n",
       "18876067   1.372440  \n",
       "18876068   9.044369  \n",
       "\n",
       "[18876069 rows x 5 columns]"
      ]
     },
     "execution_count": 3,
     "metadata": {},
     "output_type": "execute_result"
    }
   ],
   "source": [
    "df1 = pd.read_csv(\"data/gps_fulldata_20220512_20220819.csv\", encoding='shift_jis', usecols=[0,1,2,4,6])\n",
    "df1"
   ]
  },
  {
   "cell_type": "code",
   "execution_count": 4,
   "metadata": {
    "ExecuteTime": {
     "end_time": "2022-12-07T18:02:19.944969Z",
     "start_time": "2022-12-07T18:01:46.430109Z"
    }
   },
   "outputs": [
    {
     "data": {
      "text/html": [
       "<div>\n",
       "<style scoped>\n",
       "    .dataframe tbody tr th:only-of-type {\n",
       "        vertical-align: middle;\n",
       "    }\n",
       "\n",
       "    .dataframe tbody tr th {\n",
       "        vertical-align: top;\n",
       "    }\n",
       "\n",
       "    .dataframe thead th {\n",
       "        text-align: right;\n",
       "    }\n",
       "</style>\n",
       "<table border=\"1\" class=\"dataframe\">\n",
       "  <thead>\n",
       "    <tr style=\"text-align: right;\">\n",
       "      <th></th>\n",
       "      <th>vehicleCode</th>\n",
       "      <th>lat</th>\n",
       "      <th>lng</th>\n",
       "      <th>timestamp</th>\n",
       "      <th>distance</th>\n",
       "    </tr>\n",
       "  </thead>\n",
       "  <tbody>\n",
       "    <tr>\n",
       "      <th>0</th>\n",
       "      <td>W46-スポット</td>\n",
       "      <td>34.640362</td>\n",
       "      <td>133.966977</td>\n",
       "      <td>2022-08-23T07:54:19+09:00</td>\n",
       "      <td>0.000000</td>\n",
       "    </tr>\n",
       "    <tr>\n",
       "      <th>1</th>\n",
       "      <td>W46-スポット</td>\n",
       "      <td>34.640391</td>\n",
       "      <td>133.966973</td>\n",
       "      <td>2022-08-23T07:54:33+09:00</td>\n",
       "      <td>0.000000</td>\n",
       "    </tr>\n",
       "    <tr>\n",
       "      <th>2</th>\n",
       "      <td>W46-スポット</td>\n",
       "      <td>34.640391</td>\n",
       "      <td>133.966973</td>\n",
       "      <td>2022-08-23T07:54:34+09:00</td>\n",
       "      <td>0.000000</td>\n",
       "    </tr>\n",
       "    <tr>\n",
       "      <th>3</th>\n",
       "      <td>W46-スポット</td>\n",
       "      <td>34.640651</td>\n",
       "      <td>133.967012</td>\n",
       "      <td>2022-08-23T08:04:27+09:00</td>\n",
       "      <td>29.063645</td>\n",
       "    </tr>\n",
       "    <tr>\n",
       "      <th>4</th>\n",
       "      <td>W46-スポット</td>\n",
       "      <td>34.640643</td>\n",
       "      <td>133.967039</td>\n",
       "      <td>2022-08-23T08:23:20+09:00</td>\n",
       "      <td>2.629780</td>\n",
       "    </tr>\n",
       "    <tr>\n",
       "      <th>...</th>\n",
       "      <td>...</td>\n",
       "      <td>...</td>\n",
       "      <td>...</td>\n",
       "      <td>...</td>\n",
       "      <td>...</td>\n",
       "    </tr>\n",
       "    <tr>\n",
       "      <th>14963701</th>\n",
       "      <td>W1</td>\n",
       "      <td>35.081417</td>\n",
       "      <td>136.931780</td>\n",
       "      <td>2022-11-04T18:37:21+09:00</td>\n",
       "      <td>12.617725</td>\n",
       "    </tr>\n",
       "    <tr>\n",
       "      <th>14963702</th>\n",
       "      <td>W1</td>\n",
       "      <td>35.081387</td>\n",
       "      <td>136.931712</td>\n",
       "      <td>2022-11-04T18:37:26+09:00</td>\n",
       "      <td>7.038125</td>\n",
       "    </tr>\n",
       "    <tr>\n",
       "      <th>14963703</th>\n",
       "      <td>W1</td>\n",
       "      <td>35.081454</td>\n",
       "      <td>136.931645</td>\n",
       "      <td>2022-11-04T18:37:31+09:00</td>\n",
       "      <td>9.622178</td>\n",
       "    </tr>\n",
       "    <tr>\n",
       "      <th>14963704</th>\n",
       "      <td>W1</td>\n",
       "      <td>35.081527</td>\n",
       "      <td>136.931603</td>\n",
       "      <td>2022-11-04T18:37:36+09:00</td>\n",
       "      <td>8.958866</td>\n",
       "    </tr>\n",
       "    <tr>\n",
       "      <th>14963705</th>\n",
       "      <td>W1</td>\n",
       "      <td>35.081571</td>\n",
       "      <td>136.931570</td>\n",
       "      <td>2022-11-04T18:37:41+09:00</td>\n",
       "      <td>5.734611</td>\n",
       "    </tr>\n",
       "  </tbody>\n",
       "</table>\n",
       "<p>14963706 rows × 5 columns</p>\n",
       "</div>"
      ],
      "text/plain": [
       "         vehicleCode        lat         lng                  timestamp  \\\n",
       "0           W46-スポット  34.640362  133.966977  2022-08-23T07:54:19+09:00   \n",
       "1           W46-スポット  34.640391  133.966973  2022-08-23T07:54:33+09:00   \n",
       "2           W46-スポット  34.640391  133.966973  2022-08-23T07:54:34+09:00   \n",
       "3           W46-スポット  34.640651  133.967012  2022-08-23T08:04:27+09:00   \n",
       "4           W46-スポット  34.640643  133.967039  2022-08-23T08:23:20+09:00   \n",
       "...              ...        ...         ...                        ...   \n",
       "14963701          W1  35.081417  136.931780  2022-11-04T18:37:21+09:00   \n",
       "14963702          W1  35.081387  136.931712  2022-11-04T18:37:26+09:00   \n",
       "14963703          W1  35.081454  136.931645  2022-11-04T18:37:31+09:00   \n",
       "14963704          W1  35.081527  136.931603  2022-11-04T18:37:36+09:00   \n",
       "14963705          W1  35.081571  136.931570  2022-11-04T18:37:41+09:00   \n",
       "\n",
       "           distance  \n",
       "0          0.000000  \n",
       "1          0.000000  \n",
       "2          0.000000  \n",
       "3         29.063645  \n",
       "4          2.629780  \n",
       "...             ...  \n",
       "14963701  12.617725  \n",
       "14963702   7.038125  \n",
       "14963703   9.622178  \n",
       "14963704   8.958866  \n",
       "14963705   5.734611  \n",
       "\n",
       "[14963706 rows x 5 columns]"
      ]
     },
     "execution_count": 4,
     "metadata": {},
     "output_type": "execute_result"
    }
   ],
   "source": [
    "df2 = pd.read_csv(\"data/gps_20220820_20221107.csv\", encoding='shift_jis', header=None, usecols=[0,1,2,4,6], names=df1.columns)\n",
    "df2"
   ]
  },
  {
   "cell_type": "code",
   "execution_count": 5,
   "metadata": {
    "ExecuteTime": {
     "end_time": "2022-12-07T18:04:40.275502Z",
     "start_time": "2022-12-07T18:03:00.759483Z"
    }
   },
   "outputs": [
    {
     "data": {
      "text/html": [
       "<div>\n",
       "<style scoped>\n",
       "    .dataframe tbody tr th:only-of-type {\n",
       "        vertical-align: middle;\n",
       "    }\n",
       "\n",
       "    .dataframe tbody tr th {\n",
       "        vertical-align: top;\n",
       "    }\n",
       "\n",
       "    .dataframe thead th {\n",
       "        text-align: right;\n",
       "    }\n",
       "</style>\n",
       "<table border=\"1\" class=\"dataframe\">\n",
       "  <thead>\n",
       "    <tr style=\"text-align: right;\">\n",
       "      <th></th>\n",
       "      <th>vehicleCode</th>\n",
       "      <th>lat</th>\n",
       "      <th>lng</th>\n",
       "      <th>timestamp</th>\n",
       "      <th>distance</th>\n",
       "    </tr>\n",
       "  </thead>\n",
       "  <tbody>\n",
       "    <tr>\n",
       "      <th>0</th>\n",
       "      <td>W1</td>\n",
       "      <td>35.081511</td>\n",
       "      <td>136.931423</td>\n",
       "      <td>2022-05-12T06:41:13+09:00</td>\n",
       "      <td>0.000000</td>\n",
       "    </tr>\n",
       "    <tr>\n",
       "      <th>1</th>\n",
       "      <td>W1</td>\n",
       "      <td>35.081820</td>\n",
       "      <td>136.931295</td>\n",
       "      <td>2022-05-12T06:49:47+09:00</td>\n",
       "      <td>36.214071</td>\n",
       "    </tr>\n",
       "    <tr>\n",
       "      <th>2</th>\n",
       "      <td>W1</td>\n",
       "      <td>35.081825</td>\n",
       "      <td>136.931280</td>\n",
       "      <td>2022-05-12T06:50:34+09:00</td>\n",
       "      <td>1.476148</td>\n",
       "    </tr>\n",
       "    <tr>\n",
       "      <th>3</th>\n",
       "      <td>W1</td>\n",
       "      <td>35.081957</td>\n",
       "      <td>136.931339</td>\n",
       "      <td>2022-05-12T06:50:39+09:00</td>\n",
       "      <td>15.601548</td>\n",
       "    </tr>\n",
       "    <tr>\n",
       "      <th>4</th>\n",
       "      <td>W1</td>\n",
       "      <td>35.082085</td>\n",
       "      <td>136.931459</td>\n",
       "      <td>2022-05-12T06:50:44+09:00</td>\n",
       "      <td>17.928186</td>\n",
       "    </tr>\n",
       "    <tr>\n",
       "      <th>...</th>\n",
       "      <td>...</td>\n",
       "      <td>...</td>\n",
       "      <td>...</td>\n",
       "      <td>...</td>\n",
       "      <td>...</td>\n",
       "    </tr>\n",
       "    <tr>\n",
       "      <th>33839770</th>\n",
       "      <td>座間エンジン（3時区）-2</td>\n",
       "      <td>35.501584</td>\n",
       "      <td>139.439746</td>\n",
       "      <td>2022-11-04T16:55:42+09:00</td>\n",
       "      <td>4.121708</td>\n",
       "    </tr>\n",
       "    <tr>\n",
       "      <th>33839771</th>\n",
       "      <td>座間エンジン（3時区）-2</td>\n",
       "      <td>35.501576</td>\n",
       "      <td>139.439728</td>\n",
       "      <td>2022-11-04T16:55:48+09:00</td>\n",
       "      <td>1.858719</td>\n",
       "    </tr>\n",
       "    <tr>\n",
       "      <th>33839772</th>\n",
       "      <td>座間エンジン（3時区）-2</td>\n",
       "      <td>35.501510</td>\n",
       "      <td>139.439645</td>\n",
       "      <td>2022-11-04T16:55:53+09:00</td>\n",
       "      <td>10.503742</td>\n",
       "    </tr>\n",
       "    <tr>\n",
       "      <th>33839773</th>\n",
       "      <td>座間エンジン（3時区）-2</td>\n",
       "      <td>35.501472</td>\n",
       "      <td>139.439588</td>\n",
       "      <td>2022-11-04T16:55:58+09:00</td>\n",
       "      <td>6.672303</td>\n",
       "    </tr>\n",
       "    <tr>\n",
       "      <th>33839774</th>\n",
       "      <td>座間エンジン（3時区）-2</td>\n",
       "      <td>35.501484</td>\n",
       "      <td>139.439587</td>\n",
       "      <td>2022-11-04T16:56:03+09:00</td>\n",
       "      <td>1.334485</td>\n",
       "    </tr>\n",
       "  </tbody>\n",
       "</table>\n",
       "<p>33839775 rows × 5 columns</p>\n",
       "</div>"
      ],
      "text/plain": [
       "            vehicleCode        lat         lng                  timestamp  \\\n",
       "0                    W1  35.081511  136.931423  2022-05-12T06:41:13+09:00   \n",
       "1                    W1  35.081820  136.931295  2022-05-12T06:49:47+09:00   \n",
       "2                    W1  35.081825  136.931280  2022-05-12T06:50:34+09:00   \n",
       "3                    W1  35.081957  136.931339  2022-05-12T06:50:39+09:00   \n",
       "4                    W1  35.082085  136.931459  2022-05-12T06:50:44+09:00   \n",
       "...                 ...        ...         ...                        ...   \n",
       "33839770  座間エンジン（3時区）-2  35.501584  139.439746  2022-11-04T16:55:42+09:00   \n",
       "33839771  座間エンジン（3時区）-2  35.501576  139.439728  2022-11-04T16:55:48+09:00   \n",
       "33839772  座間エンジン（3時区）-2  35.501510  139.439645  2022-11-04T16:55:53+09:00   \n",
       "33839773  座間エンジン（3時区）-2  35.501472  139.439588  2022-11-04T16:55:58+09:00   \n",
       "33839774  座間エンジン（3時区）-2  35.501484  139.439587  2022-11-04T16:56:03+09:00   \n",
       "\n",
       "           distance  \n",
       "0          0.000000  \n",
       "1         36.214071  \n",
       "2          1.476148  \n",
       "3         15.601548  \n",
       "4         17.928186  \n",
       "...             ...  \n",
       "33839770   4.121708  \n",
       "33839771   1.858719  \n",
       "33839772  10.503742  \n",
       "33839773   6.672303  \n",
       "33839774   1.334485  \n",
       "\n",
       "[33839775 rows x 5 columns]"
      ]
     },
     "execution_count": 5,
     "metadata": {},
     "output_type": "execute_result"
    }
   ],
   "source": [
    "df = pd.concat([df1, df2],axis=0)\n",
    "df.sort_values(by=['vehicleCode', 'timestamp'], axis=0, inplace=True)\n",
    "df.reset_index(drop=True, inplace=True)\n",
    "df"
   ]
  },
  {
   "cell_type": "code",
   "execution_count": 6,
   "metadata": {
    "ExecuteTime": {
     "end_time": "2022-12-07T18:04:41.146801Z",
     "start_time": "2022-12-07T18:04:40.284489Z"
    }
   },
   "outputs": [],
   "source": [
    "del [[df1, df2]]\n",
    "gc.collect()\n",
    "df1 = pd.DataFrame()\n",
    "df2 = pd.DataFrame()"
   ]
  },
  {
   "cell_type": "code",
   "execution_count": 7,
   "metadata": {
    "ExecuteTime": {
     "end_time": "2022-12-07T18:04:41.192822Z",
     "start_time": "2022-12-07T18:04:41.147800Z"
    }
   },
   "outputs": [
    {
     "name": "stdout",
     "output_type": "stream",
     "text": [
      "<class 'pandas.core.frame.DataFrame'>\n",
      "RangeIndex: 33839775 entries, 0 to 33839774\n",
      "Data columns (total 5 columns):\n",
      " #   Column       Dtype  \n",
      "---  ------       -----  \n",
      " 0   vehicleCode  object \n",
      " 1   lat          float64\n",
      " 2   lng          float64\n",
      " 3   timestamp    object \n",
      " 4   distance     float64\n",
      "dtypes: float64(3), object(2)\n",
      "memory usage: 1.3+ GB\n"
     ]
    }
   ],
   "source": [
    "df.info()"
   ]
  },
  {
   "cell_type": "markdown",
   "metadata": {},
   "source": [
    "### Target Segment With Radi\n",
    "- location : make tuple like (lat, lng)\n",
    "- is_in_target : \n",
    "    - we have 4 target\n",
    "    - i if location is in the target i (i = 1, 2, 3, 4)\n",
    "    - 0 if not\n",
    "\n",
    "We use only data passing through the target\n",
    "- 33839775 rows -> 27092775 rows\n",
    "- 93 vehicleCode -> 69 vehicleCode"
   ]
  },
  {
   "cell_type": "code",
   "execution_count": 8,
   "metadata": {
    "ExecuteTime": {
     "end_time": "2022-12-07T18:09:24.731057Z",
     "start_time": "2022-12-07T18:09:24.720083Z"
    }
   },
   "outputs": [],
   "source": [
    "def get_gps_distance(location, radi):\n",
    "    for i in range(1, 5):\n",
    "        if(haversine(location, target_place[str(i)]) < radi):\n",
    "            return i\n",
    "    return 0"
   ]
  },
  {
   "cell_type": "code",
   "execution_count": 9,
   "metadata": {
    "ExecuteTime": {
     "end_time": "2022-12-07T18:38:43.993460Z",
     "start_time": "2022-12-07T18:09:26.046416Z"
    }
   },
   "outputs": [
    {
     "data": {
      "text/html": [
       "<div>\n",
       "<style scoped>\n",
       "    .dataframe tbody tr th:only-of-type {\n",
       "        vertical-align: middle;\n",
       "    }\n",
       "\n",
       "    .dataframe tbody tr th {\n",
       "        vertical-align: top;\n",
       "    }\n",
       "\n",
       "    .dataframe thead th {\n",
       "        text-align: right;\n",
       "    }\n",
       "</style>\n",
       "<table border=\"1\" class=\"dataframe\">\n",
       "  <thead>\n",
       "    <tr style=\"text-align: right;\">\n",
       "      <th></th>\n",
       "      <th>vehicleCode</th>\n",
       "      <th>lat</th>\n",
       "      <th>lng</th>\n",
       "      <th>timestamp</th>\n",
       "      <th>distance</th>\n",
       "      <th>is_in_target</th>\n",
       "    </tr>\n",
       "  </thead>\n",
       "  <tbody>\n",
       "    <tr>\n",
       "      <th>0</th>\n",
       "      <td>W1</td>\n",
       "      <td>35.081511</td>\n",
       "      <td>136.931423</td>\n",
       "      <td>2022-05-12T06:41:13+09:00</td>\n",
       "      <td>0.000000</td>\n",
       "      <td>0</td>\n",
       "    </tr>\n",
       "    <tr>\n",
       "      <th>1</th>\n",
       "      <td>W1</td>\n",
       "      <td>35.081820</td>\n",
       "      <td>136.931295</td>\n",
       "      <td>2022-05-12T06:49:47+09:00</td>\n",
       "      <td>36.214071</td>\n",
       "      <td>0</td>\n",
       "    </tr>\n",
       "    <tr>\n",
       "      <th>2</th>\n",
       "      <td>W1</td>\n",
       "      <td>35.081825</td>\n",
       "      <td>136.931280</td>\n",
       "      <td>2022-05-12T06:50:34+09:00</td>\n",
       "      <td>1.476148</td>\n",
       "      <td>0</td>\n",
       "    </tr>\n",
       "    <tr>\n",
       "      <th>3</th>\n",
       "      <td>W1</td>\n",
       "      <td>35.081957</td>\n",
       "      <td>136.931339</td>\n",
       "      <td>2022-05-12T06:50:39+09:00</td>\n",
       "      <td>15.601548</td>\n",
       "      <td>0</td>\n",
       "    </tr>\n",
       "    <tr>\n",
       "      <th>4</th>\n",
       "      <td>W1</td>\n",
       "      <td>35.082085</td>\n",
       "      <td>136.931459</td>\n",
       "      <td>2022-05-12T06:50:44+09:00</td>\n",
       "      <td>17.928186</td>\n",
       "      <td>0</td>\n",
       "    </tr>\n",
       "  </tbody>\n",
       "</table>\n",
       "</div>"
      ],
      "text/plain": [
       "  vehicleCode        lat         lng                  timestamp   distance  \\\n",
       "0          W1  35.081511  136.931423  2022-05-12T06:41:13+09:00   0.000000   \n",
       "1          W1  35.081820  136.931295  2022-05-12T06:49:47+09:00  36.214071   \n",
       "2          W1  35.081825  136.931280  2022-05-12T06:50:34+09:00   1.476148   \n",
       "3          W1  35.081957  136.931339  2022-05-12T06:50:39+09:00  15.601548   \n",
       "4          W1  35.082085  136.931459  2022-05-12T06:50:44+09:00  17.928186   \n",
       "\n",
       "   is_in_target  \n",
       "0             0  \n",
       "1             0  \n",
       "2             0  \n",
       "3             0  \n",
       "4             0  "
      ]
     },
     "execution_count": 9,
     "metadata": {},
     "output_type": "execute_result"
    }
   ],
   "source": [
    "target_place = {}\n",
    "target_place['1'] = (35.50114245663584, 139.77058608966317)\n",
    "target_place['2'] = (35.55767062747489, 139.6647807694566)\n",
    "target_place['3'] = (35.47113783648265, 139.36696119089578)\n",
    "target_place['4'] = (35.52031899275968, 139.35217137718712)\n",
    "\n",
    "radi = 0.7 # 여러개로 실험 가능 700m\n",
    "df['is_in_target'] = df[['lat','lng']].apply(lambda x : get_gps_distance(tuple(x.values), radi), axis=1)\n",
    "df.head()"
   ]
  },
  {
   "cell_type": "code",
   "execution_count": 10,
   "metadata": {
    "ExecuteTime": {
     "end_time": "2022-12-07T18:38:52.815563Z",
     "start_time": "2022-12-07T18:38:44.019496Z"
    },
    "scrolled": true
   },
   "outputs": [
    {
     "name": "stdout",
     "output_type": "stream",
     "text": [
      "['W102', 'W103', 'W104', 'W105', 'W106', 'W108', 'W109', 'W110', 'W111', 'W112', 'W113', 'W114', 'W115', 'W117', 'W118', 'W119', 'W120-1', 'W120-2', 'W40-1', 'W40-2', 'W41-1', 'W41-2', 'W42-1', 'W42-2', 'W44-1', 'W44-2', 'W44-スポット', 'W45-1', 'W45-2', 'W46', 'W46-スポット', 'W47-1', 'W47-2', 'W47-3', 'W52', 'W53', 'W54', 'W69', 'W70', 'W71', 'W72', 'W73', 'W74', 'W75', 'W76', 'W77', 'W78', 'W79', 'W80', 'W82-2', 'W83-1', 'W83-2', 'W83-3', 'W84', 'W86', 'W87-1', 'W87-2', 'W88', 'W90', 'W91', 'W92-1', 'W93-1', 'W93-2', 'W94', 'W95-1', 'W95-2', 'W97-1', 'W97-2', 'W98-1', 'W98-2', '座間エンジン（1・2・4時区）-1', '座間エンジン（1・2・4時区）-2', '座間エンジン（3時区）-1', '座間エンジン（3時区）-2']\n"
     ]
    }
   ],
   "source": [
    "target_pass_result= list(df[df['is_in_target']!=0]['vehicleCode'].unique())\n",
    "print(target_pass_result)"
   ]
  },
  {
   "cell_type": "code",
   "execution_count": 11,
   "metadata": {
    "ExecuteTime": {
     "end_time": "2022-12-07T18:39:14.448983Z",
     "start_time": "2022-12-07T18:38:52.821518Z"
    },
    "scrolled": false
   },
   "outputs": [
    {
     "data": {
      "text/html": [
       "<div>\n",
       "<style scoped>\n",
       "    .dataframe tbody tr th:only-of-type {\n",
       "        vertical-align: middle;\n",
       "    }\n",
       "\n",
       "    .dataframe tbody tr th {\n",
       "        vertical-align: top;\n",
       "    }\n",
       "\n",
       "    .dataframe thead th {\n",
       "        text-align: right;\n",
       "    }\n",
       "</style>\n",
       "<table border=\"1\" class=\"dataframe\">\n",
       "  <thead>\n",
       "    <tr style=\"text-align: right;\">\n",
       "      <th></th>\n",
       "      <th>vehicleCode</th>\n",
       "      <th>lat</th>\n",
       "      <th>lng</th>\n",
       "      <th>timestamp</th>\n",
       "      <th>distance</th>\n",
       "      <th>is_in_target</th>\n",
       "    </tr>\n",
       "  </thead>\n",
       "  <tbody>\n",
       "    <tr>\n",
       "      <th>0</th>\n",
       "      <td>W102</td>\n",
       "      <td>35.534938</td>\n",
       "      <td>139.651564</td>\n",
       "      <td>2022-05-12T03:49:19+09:00</td>\n",
       "      <td>40.923383</td>\n",
       "      <td>0</td>\n",
       "    </tr>\n",
       "    <tr>\n",
       "      <th>1</th>\n",
       "      <td>W102</td>\n",
       "      <td>35.534921</td>\n",
       "      <td>139.651580</td>\n",
       "      <td>2022-05-12T03:49:20+09:00</td>\n",
       "      <td>2.379729</td>\n",
       "      <td>0</td>\n",
       "    </tr>\n",
       "    <tr>\n",
       "      <th>2</th>\n",
       "      <td>W102</td>\n",
       "      <td>35.534921</td>\n",
       "      <td>139.651580</td>\n",
       "      <td>2022-05-12T03:49:24+09:00</td>\n",
       "      <td>0.000000</td>\n",
       "      <td>0</td>\n",
       "    </tr>\n",
       "    <tr>\n",
       "      <th>3</th>\n",
       "      <td>W102</td>\n",
       "      <td>35.534921</td>\n",
       "      <td>139.651580</td>\n",
       "      <td>2022-05-12T03:49:29+09:00</td>\n",
       "      <td>0.000000</td>\n",
       "      <td>0</td>\n",
       "    </tr>\n",
       "    <tr>\n",
       "      <th>4</th>\n",
       "      <td>W102</td>\n",
       "      <td>35.534976</td>\n",
       "      <td>139.651498</td>\n",
       "      <td>2022-05-12T03:49:31+09:00</td>\n",
       "      <td>9.619799</td>\n",
       "      <td>0</td>\n",
       "    </tr>\n",
       "    <tr>\n",
       "      <th>...</th>\n",
       "      <td>...</td>\n",
       "      <td>...</td>\n",
       "      <td>...</td>\n",
       "      <td>...</td>\n",
       "      <td>...</td>\n",
       "      <td>...</td>\n",
       "    </tr>\n",
       "    <tr>\n",
       "      <th>28043370</th>\n",
       "      <td>座間エンジン（3時区）-2</td>\n",
       "      <td>35.501584</td>\n",
       "      <td>139.439746</td>\n",
       "      <td>2022-11-04T16:55:42+09:00</td>\n",
       "      <td>4.121708</td>\n",
       "      <td>0</td>\n",
       "    </tr>\n",
       "    <tr>\n",
       "      <th>28043371</th>\n",
       "      <td>座間エンジン（3時区）-2</td>\n",
       "      <td>35.501576</td>\n",
       "      <td>139.439728</td>\n",
       "      <td>2022-11-04T16:55:48+09:00</td>\n",
       "      <td>1.858719</td>\n",
       "      <td>0</td>\n",
       "    </tr>\n",
       "    <tr>\n",
       "      <th>28043372</th>\n",
       "      <td>座間エンジン（3時区）-2</td>\n",
       "      <td>35.501510</td>\n",
       "      <td>139.439645</td>\n",
       "      <td>2022-11-04T16:55:53+09:00</td>\n",
       "      <td>10.503742</td>\n",
       "      <td>0</td>\n",
       "    </tr>\n",
       "    <tr>\n",
       "      <th>28043373</th>\n",
       "      <td>座間エンジン（3時区）-2</td>\n",
       "      <td>35.501472</td>\n",
       "      <td>139.439588</td>\n",
       "      <td>2022-11-04T16:55:58+09:00</td>\n",
       "      <td>6.672303</td>\n",
       "      <td>0</td>\n",
       "    </tr>\n",
       "    <tr>\n",
       "      <th>28043374</th>\n",
       "      <td>座間エンジン（3時区）-2</td>\n",
       "      <td>35.501484</td>\n",
       "      <td>139.439587</td>\n",
       "      <td>2022-11-04T16:56:03+09:00</td>\n",
       "      <td>1.334485</td>\n",
       "      <td>0</td>\n",
       "    </tr>\n",
       "  </tbody>\n",
       "</table>\n",
       "<p>28043375 rows × 6 columns</p>\n",
       "</div>"
      ],
      "text/plain": [
       "            vehicleCode        lat         lng                  timestamp  \\\n",
       "0                  W102  35.534938  139.651564  2022-05-12T03:49:19+09:00   \n",
       "1                  W102  35.534921  139.651580  2022-05-12T03:49:20+09:00   \n",
       "2                  W102  35.534921  139.651580  2022-05-12T03:49:24+09:00   \n",
       "3                  W102  35.534921  139.651580  2022-05-12T03:49:29+09:00   \n",
       "4                  W102  35.534976  139.651498  2022-05-12T03:49:31+09:00   \n",
       "...                 ...        ...         ...                        ...   \n",
       "28043370  座間エンジン（3時区）-2  35.501584  139.439746  2022-11-04T16:55:42+09:00   \n",
       "28043371  座間エンジン（3時区）-2  35.501576  139.439728  2022-11-04T16:55:48+09:00   \n",
       "28043372  座間エンジン（3時区）-2  35.501510  139.439645  2022-11-04T16:55:53+09:00   \n",
       "28043373  座間エンジン（3時区）-2  35.501472  139.439588  2022-11-04T16:55:58+09:00   \n",
       "28043374  座間エンジン（3時区）-2  35.501484  139.439587  2022-11-04T16:56:03+09:00   \n",
       "\n",
       "           distance  is_in_target  \n",
       "0         40.923383             0  \n",
       "1          2.379729             0  \n",
       "2          0.000000             0  \n",
       "3          0.000000             0  \n",
       "4          9.619799             0  \n",
       "...             ...           ...  \n",
       "28043370   4.121708             0  \n",
       "28043371   1.858719             0  \n",
       "28043372  10.503742             0  \n",
       "28043373   6.672303             0  \n",
       "28043374   1.334485             0  \n",
       "\n",
       "[28043375 rows x 6 columns]"
      ]
     },
     "execution_count": 11,
     "metadata": {},
     "output_type": "execute_result"
    }
   ],
   "source": [
    "target_df= df[df['vehicleCode'].isin(target_pass_result)]\n",
    "target_df.reset_index(drop=True, inplace=True)\n",
    "target_df"
   ]
  },
  {
   "cell_type": "code",
   "execution_count": 12,
   "metadata": {
    "ExecuteTime": {
     "end_time": "2022-12-07T18:39:15.235657Z",
     "start_time": "2022-12-07T18:39:14.467932Z"
    },
    "scrolled": true
   },
   "outputs": [
    {
     "data": {
      "text/plain": [
       "0    0.927852\n",
       "2    0.045563\n",
       "1    0.010662\n",
       "4    0.010287\n",
       "3    0.005636\n",
       "Name: is_in_target, dtype: float64"
      ]
     },
     "execution_count": 12,
     "metadata": {},
     "output_type": "execute_result"
    }
   ],
   "source": [
    "target_df['is_in_target'].value_counts(normalize=True)"
   ]
  },
  {
   "cell_type": "markdown",
   "metadata": {},
   "source": [
    "### Determination of arrival status\n",
    "- del_time : Time difference between before and now\n",
    "- course : In same vehicleCode, seperate different drive\n",
    "    - criterion : del_time >= 3 hours\n",
    "- segmentation_point : Get O at the moment the is_in_target changes\n",
    "- final_seg_point : Get O at Estimated Arrivals (vehicle stop point)\n",
    "    - criterion : 10 minutes after entering the target area"
   ]
  },
  {
   "cell_type": "code",
   "execution_count": 13,
   "metadata": {
    "ExecuteTime": {
     "end_time": "2022-12-07T19:16:17.526251Z",
     "start_time": "2022-12-07T18:39:15.241642Z"
    },
    "scrolled": true
   },
   "outputs": [
    {
     "name": "stderr",
     "output_type": "stream",
     "text": [
      "\n",
      "A value is trying to be set on a copy of a slice from a DataFrame.\n",
      "Try using .loc[row_indexer,col_indexer] = value instead\n",
      "\n",
      "See the caveats in the documentation: https://pandas.pydata.org/pandas-docs/stable/user_guide/indexing.html#returning-a-view-versus-a-copy\n",
      "\n",
      "A value is trying to be set on a copy of a slice from a DataFrame.\n",
      "Try using .loc[row_indexer,col_indexer] = value instead\n",
      "\n",
      "See the caveats in the documentation: https://pandas.pydata.org/pandas-docs/stable/user_guide/indexing.html#returning-a-view-versus-a-copy\n"
     ]
    }
   ],
   "source": [
    "import datetime\n",
    "target_df['timestamp']=target_df['timestamp'].apply(lambda x: datetime.datetime.strptime(x[:-6], '%Y-%m-%dt%H:%M:%S'))\n",
    "\n",
    "serials = target_df['vehicleCode'].unique()\n",
    "for serial in serials:\n",
    "    target_df.loc[target_df.vehicleCode==serial, 'del_time'] = \\\n",
    "    np.append(0, (target_df.loc[target_df.vehicleCode==serial, 'timestamp'][1:].reset_index(drop=True)-target_df.loc[target_df.vehicleCode==serial, 'timestamp'][:-1].reset_index(drop=True)).apply(lambda x: x.seconds).values)"
   ]
  },
  {
   "cell_type": "code",
   "execution_count": 14,
   "metadata": {
    "ExecuteTime": {
     "end_time": "2022-12-07T19:20:47.627516Z",
     "start_time": "2022-12-07T19:16:17.574928Z"
    },
    "scrolled": false
   },
   "outputs": [
    {
     "name": "stderr",
     "output_type": "stream",
     "text": [
      "\n",
      "A value is trying to be set on a copy of a slice from a DataFrame.\n",
      "Try using .loc[row_indexer,col_indexer] = value instead\n",
      "\n",
      "See the caveats in the documentation: https://pandas.pydata.org/pandas-docs/stable/user_guide/indexing.html#returning-a-view-versus-a-copy\n",
      "\n",
      "A value is trying to be set on a copy of a slice from a DataFrame\n",
      "\n",
      "See the caveats in the documentation: https://pandas.pydata.org/pandas-docs/stable/user_guide/indexing.html#returning-a-view-versus-a-copy\n"
     ]
    }
   ],
   "source": [
    "# more than 3 hours -> new course\n",
    "vehicleCodes=target_df['vehicleCode'].unique()\n",
    "idx = list(target_df[target_df['del_time']>3*60*60].index)\n",
    "\n",
    "for i in vehicleCodes:\n",
    "    idx.append(target_df[target_df['vehicleCode']==i].index[0])\n",
    "    \n",
    "idx=sorted(list(set(idx)))\n",
    "\n",
    "target_df.loc[0, 'course'] = 0\n",
    "target_df.loc[idx, 'course'] = np.arange(1, len(idx)+1)\n",
    "target_df['course'].fillna(method='ffill', inplace=True)"
   ]
  },
  {
   "cell_type": "code",
   "execution_count": 15,
   "metadata": {
    "ExecuteTime": {
     "end_time": "2022-12-07T19:30:46.984599Z",
     "start_time": "2022-12-07T19:20:47.633365Z"
    }
   },
   "outputs": [],
   "source": [
    "courses=target_df['course'].unique()\n",
    "idx=[]\n",
    "for i in courses:\n",
    "    idx.append(target_df[target_df['course']==i].index[0])\n",
    "\n",
    "target_df.loc[idx, 'del_time'] = 0"
   ]
  },
  {
   "cell_type": "code",
   "execution_count": 16,
   "metadata": {
    "ExecuteTime": {
     "end_time": "2022-12-07T20:11:04.246056Z",
     "start_time": "2022-12-07T20:01:09.077462Z"
    }
   },
   "outputs": [],
   "source": [
    "target_df['temp'] = target_df['is_in_target'].shift(periods=1, fill_value=0)\n",
    "target_df['segmentation_point'] = target_df.apply(lambda x : \"O\" if x['is_in_target']!= x['temp'] else \"X\", axis=1)"
   ]
  },
  {
   "cell_type": "code",
   "execution_count": 17,
   "metadata": {
    "ExecuteTime": {
     "end_time": "2022-12-07T20:13:50.613090Z",
     "start_time": "2022-12-07T20:11:04.276957Z"
    }
   },
   "outputs": [
    {
     "name": "stderr",
     "output_type": "stream",
     "text": [
      "100%|███████████████████████████████████████████████████████████████████████████| 37431/37431 [02:40<00:00, 233.41it/s]\n"
     ]
    }
   ],
   "source": [
    "from tqdm import tqdm\n",
    "target_df['final_seg_point'] = \"X\"\n",
    "\n",
    "# criterion : 10 minutes after entering the target area\n",
    "for i in tqdm(target_df[target_df['segmentation_point']=='O'].index):\n",
    "    now = i\n",
    "    while(target_df['course'][now]==target_df['course'][i]):\n",
    "        now += 1\n",
    "        if((target_df['timestamp'][now]-target_df['timestamp'][i]).total_seconds()>600):\n",
    "            if(target_df['is_in_target'][now] == target_df['is_in_target'][i]):\n",
    "                target_df.loc[now,'final_seg_point'] ='O'\n",
    "                break\n",
    "            else:\n",
    "                break"
   ]
  },
  {
   "cell_type": "code",
   "execution_count": 18,
   "metadata": {
    "ExecuteTime": {
     "end_time": "2022-12-07T20:13:51.750546Z",
     "start_time": "2022-12-07T20:13:50.614855Z"
    },
    "scrolled": true
   },
   "outputs": [
    {
     "data": {
      "text/plain": [
       "X    28005944\n",
       "O       37431\n",
       "Name: segmentation_point, dtype: int64"
      ]
     },
     "execution_count": 18,
     "metadata": {},
     "output_type": "execute_result"
    }
   ],
   "source": [
    "target_df['segmentation_point'].value_counts()"
   ]
  },
  {
   "cell_type": "code",
   "execution_count": 19,
   "metadata": {
    "ExecuteTime": {
     "end_time": "2022-12-07T20:13:52.857958Z",
     "start_time": "2022-12-07T20:13:51.753505Z"
    },
    "scrolled": true
   },
   "outputs": [
    {
     "data": {
      "text/plain": [
       "X    28012888\n",
       "O       30487\n",
       "Name: final_seg_point, dtype: int64"
      ]
     },
     "execution_count": 19,
     "metadata": {},
     "output_type": "execute_result"
    }
   ],
   "source": [
    "target_df['final_seg_point'].value_counts()"
   ]
  },
  {
   "cell_type": "code",
   "execution_count": 20,
   "metadata": {
    "ExecuteTime": {
     "end_time": "2022-12-07T20:13:55.791614Z",
     "start_time": "2022-12-07T20:13:52.858921Z"
    }
   },
   "outputs": [],
   "source": [
    "target_df.drop(['temp', 'segmentation_point'], axis=1, inplace=True)"
   ]
  },
  {
   "cell_type": "code",
   "execution_count": 21,
   "metadata": {
    "ExecuteTime": {
     "end_time": "2022-12-07T20:13:57.229095Z",
     "start_time": "2022-12-07T20:13:55.797596Z"
    }
   },
   "outputs": [],
   "source": [
    "target_df['course'] = target_df['course'].astype('int')"
   ]
  },
  {
   "cell_type": "markdown",
   "metadata": {},
   "source": [
    "## feature\n",
    "- velocity\n",
    "- weekday\n",
    "- velocity_mean_sec\n",
    "- velocity_std_sec\n",
    "- velocity_mean_day\n",
    "- velocity_std_day\n",
    "- left_time\n",
    "- total_distance\n",
    "- left_distance\n",
    "- time_cum_sum\n",
    "- total_time\n",
    "- route_name"
   ]
  },
  {
   "cell_type": "code",
   "execution_count": 22,
   "metadata": {
    "ExecuteTime": {
     "end_time": "2022-12-07T20:13:58.054884Z",
     "start_time": "2022-12-07T20:13:57.233082Z"
    }
   },
   "outputs": [],
   "source": [
    "target_df['velocity'] = target_df['distance']/target_df['del_time']"
   ]
  },
  {
   "cell_type": "code",
   "execution_count": 23,
   "metadata": {
    "ExecuteTime": {
     "end_time": "2022-12-07T20:18:00.080094Z",
     "start_time": "2022-12-07T20:13:58.057877Z"
    }
   },
   "outputs": [],
   "source": [
    "target_df['weekday'] = target_df['timestamp'].dt.weekday\n",
    "target_df['five_sec'] = target_df['timestamp'].dt.round('5s').dt.time\n",
    "target_df['five_sec'] = target_df['five_sec'].apply(lambda x: x.strftime(\"%H:%M:%S\"))\n",
    "target_df = target_df.fillna(0)\n",
    "target_df.loc[target_df['velocity']==np.inf, 'velocity'] = 0"
   ]
  },
  {
   "cell_type": "code",
   "execution_count": 27,
   "metadata": {
    "ExecuteTime": {
     "end_time": "2022-12-07T20:18:50.018643Z",
     "start_time": "2022-12-07T20:18:46.259012Z"
    }
   },
   "outputs": [],
   "source": [
    "a = pd.DataFrame(target_df.groupby('five_sec')['velocity'].mean())\n",
    "a.rename(columns = {'velocity':'velocity_mean_5sec'},inplace=True)\n",
    "b = pd.DataFrame(target_df.groupby('five_sec')['velocity'].std())\n",
    "b.rename(columns = {'velocity':'velocity_std_5sec'},inplace=True)\n",
    "df1=pd.concat([a,b],axis=1).reset_index()"
   ]
  },
  {
   "cell_type": "code",
   "execution_count": 31,
   "metadata": {
    "ExecuteTime": {
     "end_time": "2022-12-07T20:19:41.239470Z",
     "start_time": "2022-12-07T20:19:40.003994Z"
    }
   },
   "outputs": [],
   "source": [
    "c = pd.DataFrame(target_df.groupby('weekday')['velocity'].mean())\n",
    "c.rename(columns = {'velocity':'velocity_mean_weekday'},inplace=True)\n",
    "d = pd.DataFrame(target_df.groupby('weekday')['velocity'].std())\n",
    "d.rename(columns = {'velocity':'velocity_std_weekday'},inplace=True)\n",
    "df2=pd.concat([c,d],axis=1).reset_index()"
   ]
  },
  {
   "cell_type": "code",
   "execution_count": 34,
   "metadata": {
    "ExecuteTime": {
     "end_time": "2022-12-07T20:22:36.846581Z",
     "start_time": "2022-12-07T20:21:40.948436Z"
    }
   },
   "outputs": [],
   "source": [
    "target_df = pd.merge(target_df, df1, on='five_sec', how='left')\n",
    "target_df = pd.merge(target_df, df2, on='weekday', how='left')"
   ]
  },
  {
   "cell_type": "code",
   "execution_count": 40,
   "metadata": {
    "ExecuteTime": {
     "end_time": "2022-12-07T20:27:58.717712Z",
     "start_time": "2022-12-07T20:27:53.354822Z"
    }
   },
   "outputs": [],
   "source": [
    "# vehicleCode별로 코스의 총거리 평균\n",
    "e = pd.DataFrame(target_df.groupby([\"vehicleCode\",\"course\"]).distance.sum().reset_index().groupby('vehicleCode').distance.mean())\n",
    "e.rename(columns = {'distance':'total_distance_mean_vehicle'},inplace=True)\n",
    "# vehicleCode별로 코스의 총시간 평균\n",
    "f = pd.DataFrame(target_df.groupby([\"vehicleCode\",\"course\"]).del_time.sum().reset_index().groupby('vehicleCode').del_time.mean())\n",
    "f.rename(columns = {'del_time':'total_time_mean_vehicle'},inplace=True)\n",
    "df3=pd.concat([e,f],axis=1).reset_index()"
   ]
  },
  {
   "cell_type": "code",
   "execution_count": 42,
   "metadata": {
    "ExecuteTime": {
     "end_time": "2022-12-07T20:28:53.087283Z",
     "start_time": "2022-12-07T20:28:22.796693Z"
    }
   },
   "outputs": [],
   "source": [
    "target_df = pd.merge(target_df, df3, on='vehicleCode', how='left')"
   ]
  },
  {
   "cell_type": "code",
   "execution_count": 61,
   "metadata": {
    "ExecuteTime": {
     "end_time": "2022-12-07T20:47:06.032621Z",
     "start_time": "2022-12-07T20:47:05.914935Z"
    }
   },
   "outputs": [],
   "source": [
    "#df1.to_csv('../data/constant_velocity_5sec.csv',index=False)\n",
    "#df2.to_csv('../data/constant_velocity_weekday.csv',index=False)\n",
    "#df3.to_csv('../data/constant_total_distance_time.csv',index=False, encoding='shift_jis')"
   ]
  },
  {
   "cell_type": "code",
   "execution_count": 48,
   "metadata": {
    "ExecuteTime": {
     "end_time": "2022-12-07T20:41:04.329865Z",
     "start_time": "2022-12-07T20:39:12.364175Z"
    }
   },
   "outputs": [],
   "source": [
    "#accumulative distance per course\n",
    "target_df['cum_sum_distance'] = target_df.groupby(\"course\").distance.cumsum()\n",
    "\n",
    "#total distance per course\n",
    "total_distance = target_df.groupby(\"course\").distance.sum()\n",
    "\n",
    "# mapping target_df with total distance per course\n",
    "target_df['total_distance']= target_df.course.apply(lambda x : total_distance[x])\n",
    "\n",
    "# left_distance per course\n",
    "target_df['left_distance'] = target_df['total_distance'] - target_df['cum_sum_distance']"
   ]
  },
  {
   "cell_type": "code",
   "execution_count": 49,
   "metadata": {
    "ExecuteTime": {
     "end_time": "2022-12-07T20:43:11.770184Z",
     "start_time": "2022-12-07T20:41:04.332824Z"
    }
   },
   "outputs": [],
   "source": [
    "#accumulative time per course\n",
    "target_df['cum_sum_time'] = target_df.groupby(\"course\").del_time.cumsum()\n",
    "\n",
    "#total time_consumption per course\n",
    "total_time = target_df.groupby(\"course\").del_time.sum()\n",
    "\n",
    "# mapping target_df with total tite_consumption per course\n",
    "target_df['total_time']= target_df.course.apply(lambda x : total_time[x])\n",
    "\n",
    "# left_time per course\n",
    "target_df['left_time'] = target_df['total_time'] - target_df['cum_sum_time']"
   ]
  },
  {
   "cell_type": "code",
   "execution_count": 56,
   "metadata": {
    "ExecuteTime": {
     "end_time": "2022-12-07T21:17:24.425678Z",
     "start_time": "2022-12-07T21:09:27.075884Z"
    }
   },
   "outputs": [
    {
     "name": "stderr",
     "output_type": "stream",
     "text": [
      "\n",
      "A value is trying to be set on a copy of a slice from a DataFrame\n",
      "\n",
      "See the caveats in the documentation: https://pandas.pydata.org/pandas-docs/stable/user_guide/indexing.html#returning-a-view-versus-a-copy\n"
     ]
    }
   ],
   "source": [
    "target_df['start']=target_df['is_in_target']\n",
    "target_df['end']=target_df['is_in_target']\n",
    "target_df['start'].replace(0, np.NaN,inplace=True)\n",
    "target_df['end'].replace(0, np.NaN,inplace=True)\n",
    "\n",
    "courses=target_df['course'].unique()\n",
    "courses.sort()\n",
    "\n",
    "\n",
    "idx=[]\n",
    "for i in courses:\n",
    "    idx.append(target_df[target_df['course']==i].index[0])\n",
    "target_df.loc[idx, 'start'] = 0\n",
    "target_df.loc[idx, 'end'] = 0\n",
    "\n",
    "\n",
    "if np.isnan(target_df['end'].iloc[-1]):\n",
    "    target_df['end'].iloc[-1]=0\n",
    "target_df['start'].fillna(method='ffill', inplace=True)\n",
    "target_df['end'].fillna(method='bfill', inplace=True)\n",
    "\n",
    "target_df['route_name']=target_df['start'].astype('int').astype('str')+target_df['end'].astype('int').astype('str')+target_df['vehicleCode']"
   ]
  },
  {
   "cell_type": "code",
   "execution_count": 57,
   "metadata": {
    "ExecuteTime": {
     "end_time": "2022-12-07T21:17:24.588877Z",
     "start_time": "2022-12-07T21:17:24.446167Z"
    },
    "scrolled": true
   },
   "outputs": [
    {
     "name": "stdout",
     "output_type": "stream",
     "text": [
      "<class 'pandas.core.frame.DataFrame'>\n",
      "RangeIndex: 28043375 entries, 0 to 28043374\n",
      "Data columns (total 27 columns):\n",
      " #   Column                       Dtype         \n",
      "---  ------                       -----         \n",
      " 0   vehicleCode                  object        \n",
      " 1   lat                          float64       \n",
      " 2   lng                          float64       \n",
      " 3   timestamp                    datetime64[ns]\n",
      " 4   distance                     float64       \n",
      " 5   is_in_target                 int64         \n",
      " 6   del_time                     float64       \n",
      " 7   course                       int64         \n",
      " 8   final_seg_point              object        \n",
      " 9   velocity                     float64       \n",
      " 10  weekday                      int64         \n",
      " 11  five_sec                     object        \n",
      " 12  velocity_mean_5sec           float64       \n",
      " 13  velocity_std_5sec            float64       \n",
      " 14  velocity_mean_weekday        float64       \n",
      " 15  velocity_std_weekday         float64       \n",
      " 16  total_distance_mean_vehicle  float64       \n",
      " 17  total_time_mean_vehicle      float64       \n",
      " 18  cum_sum_distance             float64       \n",
      " 19  left_distance                float64       \n",
      " 20  cum_sum_time                 float64       \n",
      " 21  left_time                    float64       \n",
      " 22  total_distance               float64       \n",
      " 23  total_time                   float64       \n",
      " 24  start                        float64       \n",
      " 25  end                          float64       \n",
      " 26  route_name                   object        \n",
      "dtypes: datetime64[ns](1), float64(19), int64(3), object(4)\n",
      "memory usage: 5.6+ GB\n"
     ]
    }
   ],
   "source": [
    "target_df.info()"
   ]
  },
  {
   "cell_type": "code",
   "execution_count": 58,
   "metadata": {
    "ExecuteTime": {
     "end_time": "2022-12-07T21:17:24.723832Z",
     "start_time": "2022-12-07T21:17:24.590870Z"
    }
   },
   "outputs": [
    {
     "data": {
      "text/html": [
       "<div>\n",
       "<style scoped>\n",
       "    .dataframe tbody tr th:only-of-type {\n",
       "        vertical-align: middle;\n",
       "    }\n",
       "\n",
       "    .dataframe tbody tr th {\n",
       "        vertical-align: top;\n",
       "    }\n",
       "\n",
       "    .dataframe thead th {\n",
       "        text-align: right;\n",
       "    }\n",
       "</style>\n",
       "<table border=\"1\" class=\"dataframe\">\n",
       "  <thead>\n",
       "    <tr style=\"text-align: right;\">\n",
       "      <th></th>\n",
       "      <th>vehicleCode</th>\n",
       "      <th>lat</th>\n",
       "      <th>lng</th>\n",
       "      <th>timestamp</th>\n",
       "      <th>distance</th>\n",
       "      <th>is_in_target</th>\n",
       "      <th>del_time</th>\n",
       "      <th>course</th>\n",
       "      <th>final_seg_point</th>\n",
       "      <th>velocity</th>\n",
       "      <th>...</th>\n",
       "      <th>total_time_mean_vehicle</th>\n",
       "      <th>cum_sum_distance</th>\n",
       "      <th>left_distance</th>\n",
       "      <th>cum_sum_time</th>\n",
       "      <th>left_time</th>\n",
       "      <th>total_distance</th>\n",
       "      <th>total_time</th>\n",
       "      <th>start</th>\n",
       "      <th>end</th>\n",
       "      <th>route_name</th>\n",
       "    </tr>\n",
       "  </thead>\n",
       "  <tbody>\n",
       "    <tr>\n",
       "      <th>0</th>\n",
       "      <td>W102</td>\n",
       "      <td>35.534938</td>\n",
       "      <td>139.651564</td>\n",
       "      <td>2022-05-12 03:49:19</td>\n",
       "      <td>40.923383</td>\n",
       "      <td>0</td>\n",
       "      <td>0.0</td>\n",
       "      <td>1</td>\n",
       "      <td>X</td>\n",
       "      <td>0.000000</td>\n",
       "      <td>...</td>\n",
       "      <td>43944.075758</td>\n",
       "      <td>40.923383</td>\n",
       "      <td>121007.184836</td>\n",
       "      <td>0.0</td>\n",
       "      <td>46228.0</td>\n",
       "      <td>121048.108219</td>\n",
       "      <td>46228.0</td>\n",
       "      <td>0.0</td>\n",
       "      <td>0.0</td>\n",
       "      <td>00W102</td>\n",
       "    </tr>\n",
       "    <tr>\n",
       "      <th>1</th>\n",
       "      <td>W102</td>\n",
       "      <td>35.534921</td>\n",
       "      <td>139.651580</td>\n",
       "      <td>2022-05-12 03:49:20</td>\n",
       "      <td>2.379729</td>\n",
       "      <td>0</td>\n",
       "      <td>1.0</td>\n",
       "      <td>1</td>\n",
       "      <td>X</td>\n",
       "      <td>2.379729</td>\n",
       "      <td>...</td>\n",
       "      <td>43944.075758</td>\n",
       "      <td>43.303112</td>\n",
       "      <td>121004.805107</td>\n",
       "      <td>1.0</td>\n",
       "      <td>46227.0</td>\n",
       "      <td>121048.108219</td>\n",
       "      <td>46228.0</td>\n",
       "      <td>0.0</td>\n",
       "      <td>2.0</td>\n",
       "      <td>02W102</td>\n",
       "    </tr>\n",
       "    <tr>\n",
       "      <th>2</th>\n",
       "      <td>W102</td>\n",
       "      <td>35.534921</td>\n",
       "      <td>139.651580</td>\n",
       "      <td>2022-05-12 03:49:24</td>\n",
       "      <td>0.000000</td>\n",
       "      <td>0</td>\n",
       "      <td>4.0</td>\n",
       "      <td>1</td>\n",
       "      <td>X</td>\n",
       "      <td>0.000000</td>\n",
       "      <td>...</td>\n",
       "      <td>43944.075758</td>\n",
       "      <td>43.303112</td>\n",
       "      <td>121004.805107</td>\n",
       "      <td>5.0</td>\n",
       "      <td>46223.0</td>\n",
       "      <td>121048.108219</td>\n",
       "      <td>46228.0</td>\n",
       "      <td>0.0</td>\n",
       "      <td>2.0</td>\n",
       "      <td>02W102</td>\n",
       "    </tr>\n",
       "    <tr>\n",
       "      <th>3</th>\n",
       "      <td>W102</td>\n",
       "      <td>35.534921</td>\n",
       "      <td>139.651580</td>\n",
       "      <td>2022-05-12 03:49:29</td>\n",
       "      <td>0.000000</td>\n",
       "      <td>0</td>\n",
       "      <td>5.0</td>\n",
       "      <td>1</td>\n",
       "      <td>X</td>\n",
       "      <td>0.000000</td>\n",
       "      <td>...</td>\n",
       "      <td>43944.075758</td>\n",
       "      <td>43.303112</td>\n",
       "      <td>121004.805107</td>\n",
       "      <td>10.0</td>\n",
       "      <td>46218.0</td>\n",
       "      <td>121048.108219</td>\n",
       "      <td>46228.0</td>\n",
       "      <td>0.0</td>\n",
       "      <td>2.0</td>\n",
       "      <td>02W102</td>\n",
       "    </tr>\n",
       "    <tr>\n",
       "      <th>4</th>\n",
       "      <td>W102</td>\n",
       "      <td>35.534976</td>\n",
       "      <td>139.651498</td>\n",
       "      <td>2022-05-12 03:49:31</td>\n",
       "      <td>9.619799</td>\n",
       "      <td>0</td>\n",
       "      <td>2.0</td>\n",
       "      <td>1</td>\n",
       "      <td>X</td>\n",
       "      <td>4.809900</td>\n",
       "      <td>...</td>\n",
       "      <td>43944.075758</td>\n",
       "      <td>52.922911</td>\n",
       "      <td>120995.185308</td>\n",
       "      <td>12.0</td>\n",
       "      <td>46216.0</td>\n",
       "      <td>121048.108219</td>\n",
       "      <td>46228.0</td>\n",
       "      <td>0.0</td>\n",
       "      <td>2.0</td>\n",
       "      <td>02W102</td>\n",
       "    </tr>\n",
       "  </tbody>\n",
       "</table>\n",
       "<p>5 rows × 27 columns</p>\n",
       "</div>"
      ],
      "text/plain": [
       "  vehicleCode        lat         lng           timestamp   distance  \\\n",
       "0        W102  35.534938  139.651564 2022-05-12 03:49:19  40.923383   \n",
       "1        W102  35.534921  139.651580 2022-05-12 03:49:20   2.379729   \n",
       "2        W102  35.534921  139.651580 2022-05-12 03:49:24   0.000000   \n",
       "3        W102  35.534921  139.651580 2022-05-12 03:49:29   0.000000   \n",
       "4        W102  35.534976  139.651498 2022-05-12 03:49:31   9.619799   \n",
       "\n",
       "   is_in_target  del_time  course final_seg_point  velocity  ...  \\\n",
       "0             0       0.0       1               X  0.000000  ...   \n",
       "1             0       1.0       1               X  2.379729  ...   \n",
       "2             0       4.0       1               X  0.000000  ...   \n",
       "3             0       5.0       1               X  0.000000  ...   \n",
       "4             0       2.0       1               X  4.809900  ...   \n",
       "\n",
       "   total_time_mean_vehicle cum_sum_distance  left_distance  cum_sum_time  \\\n",
       "0             43944.075758        40.923383  121007.184836           0.0   \n",
       "1             43944.075758        43.303112  121004.805107           1.0   \n",
       "2             43944.075758        43.303112  121004.805107           5.0   \n",
       "3             43944.075758        43.303112  121004.805107          10.0   \n",
       "4             43944.075758        52.922911  120995.185308          12.0   \n",
       "\n",
       "   left_time  total_distance  total_time  start  end  route_name  \n",
       "0    46228.0   121048.108219     46228.0    0.0  0.0      00W102  \n",
       "1    46227.0   121048.108219     46228.0    0.0  2.0      02W102  \n",
       "2    46223.0   121048.108219     46228.0    0.0  2.0      02W102  \n",
       "3    46218.0   121048.108219     46228.0    0.0  2.0      02W102  \n",
       "4    46216.0   121048.108219     46228.0    0.0  2.0      02W102  \n",
       "\n",
       "[5 rows x 27 columns]"
      ]
     },
     "execution_count": 58,
     "metadata": {},
     "output_type": "execute_result"
    }
   ],
   "source": [
    "target_df.head()"
   ]
  },
  {
   "cell_type": "code",
   "execution_count": 59,
   "metadata": {
    "ExecuteTime": {
     "end_time": "2022-12-07T21:32:17.571268Z",
     "start_time": "2022-12-07T21:18:17.883185Z"
    }
   },
   "outputs": [],
   "source": [
    "target_df.to_csv('../data/1208_preprocessed_dataset.csv',index=False, encoding='shift_jis')"
   ]
  },
  {
   "cell_type": "markdown",
   "metadata": {},
   "source": [
    "## Modeling"
   ]
  },
  {
   "cell_type": "code",
   "execution_count": 4,
   "metadata": {
    "scrolled": true
   },
   "outputs": [
    {
     "data": {
      "text/html": [
       "<div>\n",
       "<style scoped>\n",
       "    .dataframe tbody tr th:only-of-type {\n",
       "        vertical-align: middle;\n",
       "    }\n",
       "\n",
       "    .dataframe tbody tr th {\n",
       "        vertical-align: top;\n",
       "    }\n",
       "\n",
       "    .dataframe thead th {\n",
       "        text-align: right;\n",
       "    }\n",
       "</style>\n",
       "<table border=\"1\" class=\"dataframe\">\n",
       "  <thead>\n",
       "    <tr style=\"text-align: right;\">\n",
       "      <th></th>\n",
       "      <th>vehicleCode</th>\n",
       "      <th>lat</th>\n",
       "      <th>lng</th>\n",
       "      <th>timestamp</th>\n",
       "      <th>distance</th>\n",
       "      <th>is_in_target</th>\n",
       "      <th>del_time</th>\n",
       "      <th>course</th>\n",
       "      <th>final_seg_point</th>\n",
       "      <th>velocity</th>\n",
       "      <th>...</th>\n",
       "      <th>total_time_mean_vehicle</th>\n",
       "      <th>cum_sum_distance</th>\n",
       "      <th>left_distance</th>\n",
       "      <th>cum_sum_time</th>\n",
       "      <th>left_time</th>\n",
       "      <th>total_distance</th>\n",
       "      <th>total_time</th>\n",
       "      <th>start</th>\n",
       "      <th>end</th>\n",
       "      <th>route_name</th>\n",
       "    </tr>\n",
       "  </thead>\n",
       "  <tbody>\n",
       "    <tr>\n",
       "      <th>0</th>\n",
       "      <td>W102</td>\n",
       "      <td>35.534938</td>\n",
       "      <td>139.651564</td>\n",
       "      <td>2022-05-12 03:49:19</td>\n",
       "      <td>40.923383</td>\n",
       "      <td>0</td>\n",
       "      <td>0.0</td>\n",
       "      <td>1</td>\n",
       "      <td>X</td>\n",
       "      <td>0.000000</td>\n",
       "      <td>...</td>\n",
       "      <td>43944.075758</td>\n",
       "      <td>40.923383</td>\n",
       "      <td>121007.184836</td>\n",
       "      <td>0.0</td>\n",
       "      <td>46228.0</td>\n",
       "      <td>121048.108219</td>\n",
       "      <td>46228.0</td>\n",
       "      <td>0.0</td>\n",
       "      <td>0.0</td>\n",
       "      <td>00W102</td>\n",
       "    </tr>\n",
       "    <tr>\n",
       "      <th>1</th>\n",
       "      <td>W102</td>\n",
       "      <td>35.534921</td>\n",
       "      <td>139.651580</td>\n",
       "      <td>2022-05-12 03:49:20</td>\n",
       "      <td>2.379729</td>\n",
       "      <td>0</td>\n",
       "      <td>1.0</td>\n",
       "      <td>1</td>\n",
       "      <td>X</td>\n",
       "      <td>2.379729</td>\n",
       "      <td>...</td>\n",
       "      <td>43944.075758</td>\n",
       "      <td>43.303112</td>\n",
       "      <td>121004.805107</td>\n",
       "      <td>1.0</td>\n",
       "      <td>46227.0</td>\n",
       "      <td>121048.108219</td>\n",
       "      <td>46228.0</td>\n",
       "      <td>0.0</td>\n",
       "      <td>2.0</td>\n",
       "      <td>02W102</td>\n",
       "    </tr>\n",
       "    <tr>\n",
       "      <th>2</th>\n",
       "      <td>W102</td>\n",
       "      <td>35.534921</td>\n",
       "      <td>139.651580</td>\n",
       "      <td>2022-05-12 03:49:24</td>\n",
       "      <td>0.000000</td>\n",
       "      <td>0</td>\n",
       "      <td>4.0</td>\n",
       "      <td>1</td>\n",
       "      <td>X</td>\n",
       "      <td>0.000000</td>\n",
       "      <td>...</td>\n",
       "      <td>43944.075758</td>\n",
       "      <td>43.303112</td>\n",
       "      <td>121004.805107</td>\n",
       "      <td>5.0</td>\n",
       "      <td>46223.0</td>\n",
       "      <td>121048.108219</td>\n",
       "      <td>46228.0</td>\n",
       "      <td>0.0</td>\n",
       "      <td>2.0</td>\n",
       "      <td>02W102</td>\n",
       "    </tr>\n",
       "    <tr>\n",
       "      <th>3</th>\n",
       "      <td>W102</td>\n",
       "      <td>35.534921</td>\n",
       "      <td>139.651580</td>\n",
       "      <td>2022-05-12 03:49:29</td>\n",
       "      <td>0.000000</td>\n",
       "      <td>0</td>\n",
       "      <td>5.0</td>\n",
       "      <td>1</td>\n",
       "      <td>X</td>\n",
       "      <td>0.000000</td>\n",
       "      <td>...</td>\n",
       "      <td>43944.075758</td>\n",
       "      <td>43.303112</td>\n",
       "      <td>121004.805107</td>\n",
       "      <td>10.0</td>\n",
       "      <td>46218.0</td>\n",
       "      <td>121048.108219</td>\n",
       "      <td>46228.0</td>\n",
       "      <td>0.0</td>\n",
       "      <td>2.0</td>\n",
       "      <td>02W102</td>\n",
       "    </tr>\n",
       "    <tr>\n",
       "      <th>4</th>\n",
       "      <td>W102</td>\n",
       "      <td>35.534976</td>\n",
       "      <td>139.651498</td>\n",
       "      <td>2022-05-12 03:49:31</td>\n",
       "      <td>9.619799</td>\n",
       "      <td>0</td>\n",
       "      <td>2.0</td>\n",
       "      <td>1</td>\n",
       "      <td>X</td>\n",
       "      <td>4.809900</td>\n",
       "      <td>...</td>\n",
       "      <td>43944.075758</td>\n",
       "      <td>52.922911</td>\n",
       "      <td>120995.185308</td>\n",
       "      <td>12.0</td>\n",
       "      <td>46216.0</td>\n",
       "      <td>121048.108219</td>\n",
       "      <td>46228.0</td>\n",
       "      <td>0.0</td>\n",
       "      <td>2.0</td>\n",
       "      <td>02W102</td>\n",
       "    </tr>\n",
       "  </tbody>\n",
       "</table>\n",
       "<p>5 rows × 27 columns</p>\n",
       "</div>"
      ],
      "text/plain": [
       "  vehicleCode        lat         lng            timestamp   distance  \\\n",
       "0        W102  35.534938  139.651564  2022-05-12 03:49:19  40.923383   \n",
       "1        W102  35.534921  139.651580  2022-05-12 03:49:20   2.379729   \n",
       "2        W102  35.534921  139.651580  2022-05-12 03:49:24   0.000000   \n",
       "3        W102  35.534921  139.651580  2022-05-12 03:49:29   0.000000   \n",
       "4        W102  35.534976  139.651498  2022-05-12 03:49:31   9.619799   \n",
       "\n",
       "   is_in_target  del_time  course final_seg_point  velocity  ...  \\\n",
       "0             0       0.0       1               X  0.000000  ...   \n",
       "1             0       1.0       1               X  2.379729  ...   \n",
       "2             0       4.0       1               X  0.000000  ...   \n",
       "3             0       5.0       1               X  0.000000  ...   \n",
       "4             0       2.0       1               X  4.809900  ...   \n",
       "\n",
       "   total_time_mean_vehicle cum_sum_distance  left_distance  cum_sum_time  \\\n",
       "0             43944.075758        40.923383  121007.184836           0.0   \n",
       "1             43944.075758        43.303112  121004.805107           1.0   \n",
       "2             43944.075758        43.303112  121004.805107           5.0   \n",
       "3             43944.075758        43.303112  121004.805107          10.0   \n",
       "4             43944.075758        52.922911  120995.185308          12.0   \n",
       "\n",
       "   left_time  total_distance  total_time  start  end  route_name  \n",
       "0    46228.0   121048.108219     46228.0    0.0  0.0      00W102  \n",
       "1    46227.0   121048.108219     46228.0    0.0  2.0      02W102  \n",
       "2    46223.0   121048.108219     46228.0    0.0  2.0      02W102  \n",
       "3    46218.0   121048.108219     46228.0    0.0  2.0      02W102  \n",
       "4    46216.0   121048.108219     46228.0    0.0  2.0      02W102  \n",
       "\n",
       "[5 rows x 27 columns]"
      ]
     },
     "execution_count": 4,
     "metadata": {},
     "output_type": "execute_result"
    }
   ],
   "source": [
    "#import preprocessed_Dataset\n",
    "data = pd.read_csv(\"1208_preprocessed_dataset.csv\", encoding='shift_jis')\n",
    "data.head()"
   ]
  },
  {
   "cell_type": "code",
   "execution_count": 7,
   "metadata": {},
   "outputs": [
    {
     "data": {
      "text/plain": [
       "Index(['vehicleCode', 'lat', 'lng', 'timestamp', 'distance', 'is_in_target',\n",
       "       'del_time', 'course', 'final_seg_point', 'velocity', 'weekday',\n",
       "       'five_sec', 'velocity_mean_5sec', 'velocity_std_5sec',\n",
       "       'velocity_mean_weekday', 'velocity_std_weekday',\n",
       "       'total_distance_mean_vehicle', 'total_time_mean_vehicle',\n",
       "       'cum_sum_distance', 'left_distance', 'cum_sum_time', 'left_time',\n",
       "       'total_distance', 'total_time', 'start', 'end', 'route_name'],\n",
       "      dtype='object')"
      ]
     },
     "execution_count": 7,
     "metadata": {},
     "output_type": "execute_result"
    }
   ],
   "source": [
    "data.columns"
   ]
  },
  {
   "cell_type": "code",
   "execution_count": 8,
   "metadata": {},
   "outputs": [],
   "source": [
    "# in our model, only certain feature will be used (below features)\n",
    "final_data=data[['vehicleCode', 'lat', 'lng', 'velocity', 'distance', 'is_in_target','course','total_distance_mean_vehicle','left_distance', 'cum_sum_time', 'total_time','route_name','weekday', 'velocity_mean_5sec', 'velocity_std_5sec','velocity_mean_weekday', 'velocity_std_weekday','left_time']]"
   ]
  },
  {
   "cell_type": "code",
   "execution_count": 9,
   "metadata": {
    "ExecuteTime": {
     "end_time": "2022-11-18T01:44:33.488109Z",
     "start_time": "2022-11-17T19:58:22.987Z"
    }
   },
   "outputs": [
    {
     "name": "stderr",
     "output_type": "stream",
     "text": [
      "\n",
      "A value is trying to be set on a copy of a slice from a DataFrame.\n",
      "Try using .loc[row_indexer,col_indexer] = value instead\n",
      "\n",
      "See the caveats in the documentation: https://pandas.pydata.org/pandas-docs/stable/user_guide/indexing.html#returning-a-view-versus-a-copy\n"
     ]
    },
    {
     "data": {
      "text/html": [
       "<div>\n",
       "<style scoped>\n",
       "    .dataframe tbody tr th:only-of-type {\n",
       "        vertical-align: middle;\n",
       "    }\n",
       "\n",
       "    .dataframe tbody tr th {\n",
       "        vertical-align: top;\n",
       "    }\n",
       "\n",
       "    .dataframe thead th {\n",
       "        text-align: right;\n",
       "    }\n",
       "</style>\n",
       "<table border=\"1\" class=\"dataframe\">\n",
       "  <thead>\n",
       "    <tr style=\"text-align: right;\">\n",
       "      <th></th>\n",
       "      <th>vehicleCode</th>\n",
       "      <th>lat</th>\n",
       "      <th>lng</th>\n",
       "      <th>velocity</th>\n",
       "      <th>distance</th>\n",
       "      <th>is_in_target</th>\n",
       "      <th>course</th>\n",
       "      <th>total_distance_mean_vehicle</th>\n",
       "      <th>left_distance</th>\n",
       "      <th>cum_sum_time</th>\n",
       "      <th>total_time</th>\n",
       "      <th>route_name</th>\n",
       "      <th>weekday</th>\n",
       "      <th>velocity_mean_5sec</th>\n",
       "      <th>velocity_std_5sec</th>\n",
       "      <th>velocity_mean_weekday</th>\n",
       "      <th>velocity_std_weekday</th>\n",
       "      <th>left_time</th>\n",
       "    </tr>\n",
       "  </thead>\n",
       "  <tbody>\n",
       "    <tr>\n",
       "      <th>0</th>\n",
       "      <td>W102</td>\n",
       "      <td>35.534938</td>\n",
       "      <td>139.651564</td>\n",
       "      <td>0.000000</td>\n",
       "      <td>40.923383</td>\n",
       "      <td>0</td>\n",
       "      <td>1</td>\n",
       "      <td>112856.851854</td>\n",
       "      <td>121007.184836</td>\n",
       "      <td>0.0</td>\n",
       "      <td>46228.0</td>\n",
       "      <td>00W102</td>\n",
       "      <td>3</td>\n",
       "      <td>12.714170</td>\n",
       "      <td>8.451423</td>\n",
       "      <td>14.855925</td>\n",
       "      <td>1382.331636</td>\n",
       "      <td>770</td>\n",
       "    </tr>\n",
       "    <tr>\n",
       "      <th>1</th>\n",
       "      <td>W102</td>\n",
       "      <td>35.534921</td>\n",
       "      <td>139.651580</td>\n",
       "      <td>2.379729</td>\n",
       "      <td>2.379729</td>\n",
       "      <td>0</td>\n",
       "      <td>1</td>\n",
       "      <td>112856.851854</td>\n",
       "      <td>121004.805107</td>\n",
       "      <td>1.0</td>\n",
       "      <td>46228.0</td>\n",
       "      <td>02W102</td>\n",
       "      <td>3</td>\n",
       "      <td>12.714170</td>\n",
       "      <td>8.451423</td>\n",
       "      <td>14.855925</td>\n",
       "      <td>1382.331636</td>\n",
       "      <td>770</td>\n",
       "    </tr>\n",
       "    <tr>\n",
       "      <th>2</th>\n",
       "      <td>W102</td>\n",
       "      <td>35.534921</td>\n",
       "      <td>139.651580</td>\n",
       "      <td>0.000000</td>\n",
       "      <td>0.000000</td>\n",
       "      <td>0</td>\n",
       "      <td>1</td>\n",
       "      <td>112856.851854</td>\n",
       "      <td>121004.805107</td>\n",
       "      <td>5.0</td>\n",
       "      <td>46228.0</td>\n",
       "      <td>02W102</td>\n",
       "      <td>3</td>\n",
       "      <td>12.761008</td>\n",
       "      <td>9.212830</td>\n",
       "      <td>14.855925</td>\n",
       "      <td>1382.331636</td>\n",
       "      <td>770</td>\n",
       "    </tr>\n",
       "    <tr>\n",
       "      <th>3</th>\n",
       "      <td>W102</td>\n",
       "      <td>35.534921</td>\n",
       "      <td>139.651580</td>\n",
       "      <td>0.000000</td>\n",
       "      <td>0.000000</td>\n",
       "      <td>0</td>\n",
       "      <td>1</td>\n",
       "      <td>112856.851854</td>\n",
       "      <td>121004.805107</td>\n",
       "      <td>10.0</td>\n",
       "      <td>46228.0</td>\n",
       "      <td>02W102</td>\n",
       "      <td>3</td>\n",
       "      <td>14.166098</td>\n",
       "      <td>40.625645</td>\n",
       "      <td>14.855925</td>\n",
       "      <td>1382.331636</td>\n",
       "      <td>770</td>\n",
       "    </tr>\n",
       "    <tr>\n",
       "      <th>4</th>\n",
       "      <td>W102</td>\n",
       "      <td>35.534976</td>\n",
       "      <td>139.651498</td>\n",
       "      <td>4.809900</td>\n",
       "      <td>9.619799</td>\n",
       "      <td>0</td>\n",
       "      <td>1</td>\n",
       "      <td>112856.851854</td>\n",
       "      <td>120995.185308</td>\n",
       "      <td>12.0</td>\n",
       "      <td>46228.0</td>\n",
       "      <td>02W102</td>\n",
       "      <td>3</td>\n",
       "      <td>14.166098</td>\n",
       "      <td>40.625645</td>\n",
       "      <td>14.855925</td>\n",
       "      <td>1382.331636</td>\n",
       "      <td>770</td>\n",
       "    </tr>\n",
       "    <tr>\n",
       "      <th>...</th>\n",
       "      <td>...</td>\n",
       "      <td>...</td>\n",
       "      <td>...</td>\n",
       "      <td>...</td>\n",
       "      <td>...</td>\n",
       "      <td>...</td>\n",
       "      <td>...</td>\n",
       "      <td>...</td>\n",
       "      <td>...</td>\n",
       "      <td>...</td>\n",
       "      <td>...</td>\n",
       "      <td>...</td>\n",
       "      <td>...</td>\n",
       "      <td>...</td>\n",
       "      <td>...</td>\n",
       "      <td>...</td>\n",
       "      <td>...</td>\n",
       "      <td>...</td>\n",
       "    </tr>\n",
       "    <tr>\n",
       "      <th>28043370</th>\n",
       "      <td>座間エンジン（3時区）-2</td>\n",
       "      <td>35.501584</td>\n",
       "      <td>139.439746</td>\n",
       "      <td>0.824342</td>\n",
       "      <td>4.121708</td>\n",
       "      <td>0</td>\n",
       "      <td>8951</td>\n",
       "      <td>119612.038095</td>\n",
       "      <td>20.369249</td>\n",
       "      <td>36399.0</td>\n",
       "      <td>36420.0</td>\n",
       "      <td>30座間エンジン（3時区）-2</td>\n",
       "      <td>4</td>\n",
       "      <td>15.459545</td>\n",
       "      <td>59.483187</td>\n",
       "      <td>12.702903</td>\n",
       "      <td>49.704713</td>\n",
       "      <td>0</td>\n",
       "    </tr>\n",
       "    <tr>\n",
       "      <th>28043371</th>\n",
       "      <td>座間エンジン（3時区）-2</td>\n",
       "      <td>35.501576</td>\n",
       "      <td>139.439728</td>\n",
       "      <td>0.309787</td>\n",
       "      <td>1.858719</td>\n",
       "      <td>0</td>\n",
       "      <td>8951</td>\n",
       "      <td>119612.038095</td>\n",
       "      <td>18.510530</td>\n",
       "      <td>36405.0</td>\n",
       "      <td>36420.0</td>\n",
       "      <td>30座間エンジン（3時区）-2</td>\n",
       "      <td>4</td>\n",
       "      <td>18.548741</td>\n",
       "      <td>123.468030</td>\n",
       "      <td>12.702903</td>\n",
       "      <td>49.704713</td>\n",
       "      <td>0</td>\n",
       "    </tr>\n",
       "    <tr>\n",
       "      <th>28043372</th>\n",
       "      <td>座間エンジン（3時区）-2</td>\n",
       "      <td>35.501510</td>\n",
       "      <td>139.439645</td>\n",
       "      <td>2.100748</td>\n",
       "      <td>10.503742</td>\n",
       "      <td>0</td>\n",
       "      <td>8951</td>\n",
       "      <td>119612.038095</td>\n",
       "      <td>8.006789</td>\n",
       "      <td>36410.0</td>\n",
       "      <td>36420.0</td>\n",
       "      <td>30座間エンジン（3時区）-2</td>\n",
       "      <td>4</td>\n",
       "      <td>16.145609</td>\n",
       "      <td>48.045460</td>\n",
       "      <td>12.702903</td>\n",
       "      <td>49.704713</td>\n",
       "      <td>0</td>\n",
       "    </tr>\n",
       "    <tr>\n",
       "      <th>28043373</th>\n",
       "      <td>座間エンジン（3時区）-2</td>\n",
       "      <td>35.501472</td>\n",
       "      <td>139.439588</td>\n",
       "      <td>1.334461</td>\n",
       "      <td>6.672303</td>\n",
       "      <td>0</td>\n",
       "      <td>8951</td>\n",
       "      <td>119612.038095</td>\n",
       "      <td>1.334485</td>\n",
       "      <td>36415.0</td>\n",
       "      <td>36420.0</td>\n",
       "      <td>30座間エンジン（3時区）-2</td>\n",
       "      <td>4</td>\n",
       "      <td>16.078983</td>\n",
       "      <td>59.840919</td>\n",
       "      <td>12.702903</td>\n",
       "      <td>49.704713</td>\n",
       "      <td>0</td>\n",
       "    </tr>\n",
       "    <tr>\n",
       "      <th>28043374</th>\n",
       "      <td>座間エンジン（3時区）-2</td>\n",
       "      <td>35.501484</td>\n",
       "      <td>139.439587</td>\n",
       "      <td>0.266897</td>\n",
       "      <td>1.334485</td>\n",
       "      <td>0</td>\n",
       "      <td>8951</td>\n",
       "      <td>119612.038095</td>\n",
       "      <td>0.000000</td>\n",
       "      <td>36420.0</td>\n",
       "      <td>36420.0</td>\n",
       "      <td>30座間エンジン（3時区）-2</td>\n",
       "      <td>4</td>\n",
       "      <td>16.876879</td>\n",
       "      <td>73.202845</td>\n",
       "      <td>12.702903</td>\n",
       "      <td>49.704713</td>\n",
       "      <td>0</td>\n",
       "    </tr>\n",
       "  </tbody>\n",
       "</table>\n",
       "<p>28043375 rows × 18 columns</p>\n",
       "</div>"
      ],
      "text/plain": [
       "            vehicleCode        lat         lng  velocity   distance  \\\n",
       "0                  W102  35.534938  139.651564  0.000000  40.923383   \n",
       "1                  W102  35.534921  139.651580  2.379729   2.379729   \n",
       "2                  W102  35.534921  139.651580  0.000000   0.000000   \n",
       "3                  W102  35.534921  139.651580  0.000000   0.000000   \n",
       "4                  W102  35.534976  139.651498  4.809900   9.619799   \n",
       "...                 ...        ...         ...       ...        ...   \n",
       "28043370  座間エンジン（3時区）-2  35.501584  139.439746  0.824342   4.121708   \n",
       "28043371  座間エンジン（3時区）-2  35.501576  139.439728  0.309787   1.858719   \n",
       "28043372  座間エンジン（3時区）-2  35.501510  139.439645  2.100748  10.503742   \n",
       "28043373  座間エンジン（3時区）-2  35.501472  139.439588  1.334461   6.672303   \n",
       "28043374  座間エンジン（3時区）-2  35.501484  139.439587  0.266897   1.334485   \n",
       "\n",
       "          is_in_target  course  total_distance_mean_vehicle  left_distance  \\\n",
       "0                    0       1                112856.851854  121007.184836   \n",
       "1                    0       1                112856.851854  121004.805107   \n",
       "2                    0       1                112856.851854  121004.805107   \n",
       "3                    0       1                112856.851854  121004.805107   \n",
       "4                    0       1                112856.851854  120995.185308   \n",
       "...                ...     ...                          ...            ...   \n",
       "28043370             0    8951                119612.038095      20.369249   \n",
       "28043371             0    8951                119612.038095      18.510530   \n",
       "28043372             0    8951                119612.038095       8.006789   \n",
       "28043373             0    8951                119612.038095       1.334485   \n",
       "28043374             0    8951                119612.038095       0.000000   \n",
       "\n",
       "          cum_sum_time  total_time       route_name  weekday  \\\n",
       "0                  0.0     46228.0           00W102        3   \n",
       "1                  1.0     46228.0           02W102        3   \n",
       "2                  5.0     46228.0           02W102        3   \n",
       "3                 10.0     46228.0           02W102        3   \n",
       "4                 12.0     46228.0           02W102        3   \n",
       "...                ...         ...              ...      ...   \n",
       "28043370       36399.0     36420.0  30座間エンジン（3時区）-2        4   \n",
       "28043371       36405.0     36420.0  30座間エンジン（3時区）-2        4   \n",
       "28043372       36410.0     36420.0  30座間エンジン（3時区）-2        4   \n",
       "28043373       36415.0     36420.0  30座間エンジン（3時区）-2        4   \n",
       "28043374       36420.0     36420.0  30座間エンジン（3時区）-2        4   \n",
       "\n",
       "          velocity_mean_5sec  velocity_std_5sec  velocity_mean_weekday  \\\n",
       "0                  12.714170           8.451423              14.855925   \n",
       "1                  12.714170           8.451423              14.855925   \n",
       "2                  12.761008           9.212830              14.855925   \n",
       "3                  14.166098          40.625645              14.855925   \n",
       "4                  14.166098          40.625645              14.855925   \n",
       "...                      ...                ...                    ...   \n",
       "28043370           15.459545          59.483187              12.702903   \n",
       "28043371           18.548741         123.468030              12.702903   \n",
       "28043372           16.145609          48.045460              12.702903   \n",
       "28043373           16.078983          59.840919              12.702903   \n",
       "28043374           16.876879          73.202845              12.702903   \n",
       "\n",
       "          velocity_std_weekday  left_time  \n",
       "0                  1382.331636        770  \n",
       "1                  1382.331636        770  \n",
       "2                  1382.331636        770  \n",
       "3                  1382.331636        770  \n",
       "4                  1382.331636        770  \n",
       "...                        ...        ...  \n",
       "28043370             49.704713          0  \n",
       "28043371             49.704713          0  \n",
       "28043372             49.704713          0  \n",
       "28043373             49.704713          0  \n",
       "28043374             49.704713          0  \n",
       "\n",
       "[28043375 rows x 18 columns]"
      ]
     },
     "execution_count": 9,
     "metadata": {},
     "output_type": "execute_result"
    }
   ],
   "source": [
    "# make y value into minutes scale\n",
    "final_data['left_time'] = final_data['left_time'].apply(lambda x : int(x/60))\n",
    "final_data"
   ]
  },
  {
   "cell_type": "markdown",
   "metadata": {},
   "source": [
    "### For making model more precisely, select validated course data\n",
    "\n",
    "- By using IQR, delete the course that has too less timestamp\n",
    "- Only course that passing through 4 of target place will be considered"
   ]
  },
  {
   "cell_type": "code",
   "execution_count": 10,
   "metadata": {},
   "outputs": [],
   "source": [
    "s = pd.DataFrame(data.groupby(\"course\")['is_in_target'])\n",
    "not_pass_target = []\n",
    "for i in range(len(s)):\n",
    "    if(s.iloc[i][1].sum()==0):\n",
    "        not_pass_target.append(i+1)"
   ]
  },
  {
   "cell_type": "code",
   "execution_count": 11,
   "metadata": {},
   "outputs": [
    {
     "data": {
      "text/plain": [
       "2374"
      ]
     },
     "execution_count": 11,
     "metadata": {},
     "output_type": "execute_result"
    }
   ],
   "source": [
    "len(not_pass_target)"
   ]
  },
  {
   "cell_type": "code",
   "execution_count": 12,
   "metadata": {},
   "outputs": [
    {
     "data": {
      "text/html": [
       "<div>\n",
       "<style scoped>\n",
       "    .dataframe tbody tr th:only-of-type {\n",
       "        vertical-align: middle;\n",
       "    }\n",
       "\n",
       "    .dataframe tbody tr th {\n",
       "        vertical-align: top;\n",
       "    }\n",
       "\n",
       "    .dataframe thead th {\n",
       "        text-align: right;\n",
       "    }\n",
       "</style>\n",
       "<table border=\"1\" class=\"dataframe\">\n",
       "  <thead>\n",
       "    <tr style=\"text-align: right;\">\n",
       "      <th></th>\n",
       "      <th>vehicleCode</th>\n",
       "      <th>lat</th>\n",
       "      <th>lng</th>\n",
       "      <th>velocity</th>\n",
       "      <th>distance</th>\n",
       "      <th>is_in_target</th>\n",
       "      <th>course</th>\n",
       "      <th>total_distance_mean_vehicle</th>\n",
       "      <th>left_distance</th>\n",
       "      <th>cum_sum_time</th>\n",
       "      <th>total_time</th>\n",
       "      <th>route_name</th>\n",
       "      <th>weekday</th>\n",
       "      <th>velocity_mean_5sec</th>\n",
       "      <th>velocity_std_5sec</th>\n",
       "      <th>velocity_mean_weekday</th>\n",
       "      <th>velocity_std_weekday</th>\n",
       "      <th>left_time</th>\n",
       "    </tr>\n",
       "  </thead>\n",
       "  <tbody>\n",
       "    <tr>\n",
       "      <th>0</th>\n",
       "      <td>W102</td>\n",
       "      <td>35.534938</td>\n",
       "      <td>139.651564</td>\n",
       "      <td>0.000000</td>\n",
       "      <td>40.923383</td>\n",
       "      <td>0</td>\n",
       "      <td>1</td>\n",
       "      <td>112856.851854</td>\n",
       "      <td>121007.184836</td>\n",
       "      <td>0.0</td>\n",
       "      <td>46228.0</td>\n",
       "      <td>00W102</td>\n",
       "      <td>3</td>\n",
       "      <td>12.714170</td>\n",
       "      <td>8.451423</td>\n",
       "      <td>14.855925</td>\n",
       "      <td>1382.331636</td>\n",
       "      <td>770</td>\n",
       "    </tr>\n",
       "    <tr>\n",
       "      <th>1</th>\n",
       "      <td>W102</td>\n",
       "      <td>35.534921</td>\n",
       "      <td>139.651580</td>\n",
       "      <td>2.379729</td>\n",
       "      <td>2.379729</td>\n",
       "      <td>0</td>\n",
       "      <td>1</td>\n",
       "      <td>112856.851854</td>\n",
       "      <td>121004.805107</td>\n",
       "      <td>1.0</td>\n",
       "      <td>46228.0</td>\n",
       "      <td>02W102</td>\n",
       "      <td>3</td>\n",
       "      <td>12.714170</td>\n",
       "      <td>8.451423</td>\n",
       "      <td>14.855925</td>\n",
       "      <td>1382.331636</td>\n",
       "      <td>770</td>\n",
       "    </tr>\n",
       "    <tr>\n",
       "      <th>2</th>\n",
       "      <td>W102</td>\n",
       "      <td>35.534921</td>\n",
       "      <td>139.651580</td>\n",
       "      <td>0.000000</td>\n",
       "      <td>0.000000</td>\n",
       "      <td>0</td>\n",
       "      <td>1</td>\n",
       "      <td>112856.851854</td>\n",
       "      <td>121004.805107</td>\n",
       "      <td>5.0</td>\n",
       "      <td>46228.0</td>\n",
       "      <td>02W102</td>\n",
       "      <td>3</td>\n",
       "      <td>12.761008</td>\n",
       "      <td>9.212830</td>\n",
       "      <td>14.855925</td>\n",
       "      <td>1382.331636</td>\n",
       "      <td>770</td>\n",
       "    </tr>\n",
       "    <tr>\n",
       "      <th>3</th>\n",
       "      <td>W102</td>\n",
       "      <td>35.534921</td>\n",
       "      <td>139.651580</td>\n",
       "      <td>0.000000</td>\n",
       "      <td>0.000000</td>\n",
       "      <td>0</td>\n",
       "      <td>1</td>\n",
       "      <td>112856.851854</td>\n",
       "      <td>121004.805107</td>\n",
       "      <td>10.0</td>\n",
       "      <td>46228.0</td>\n",
       "      <td>02W102</td>\n",
       "      <td>3</td>\n",
       "      <td>14.166098</td>\n",
       "      <td>40.625645</td>\n",
       "      <td>14.855925</td>\n",
       "      <td>1382.331636</td>\n",
       "      <td>770</td>\n",
       "    </tr>\n",
       "    <tr>\n",
       "      <th>4</th>\n",
       "      <td>W102</td>\n",
       "      <td>35.534976</td>\n",
       "      <td>139.651498</td>\n",
       "      <td>4.809900</td>\n",
       "      <td>9.619799</td>\n",
       "      <td>0</td>\n",
       "      <td>1</td>\n",
       "      <td>112856.851854</td>\n",
       "      <td>120995.185308</td>\n",
       "      <td>12.0</td>\n",
       "      <td>46228.0</td>\n",
       "      <td>02W102</td>\n",
       "      <td>3</td>\n",
       "      <td>14.166098</td>\n",
       "      <td>40.625645</td>\n",
       "      <td>14.855925</td>\n",
       "      <td>1382.331636</td>\n",
       "      <td>770</td>\n",
       "    </tr>\n",
       "  </tbody>\n",
       "</table>\n",
       "</div>"
      ],
      "text/plain": [
       "  vehicleCode        lat         lng  velocity   distance  is_in_target  \\\n",
       "0        W102  35.534938  139.651564  0.000000  40.923383             0   \n",
       "1        W102  35.534921  139.651580  2.379729   2.379729             0   \n",
       "2        W102  35.534921  139.651580  0.000000   0.000000             0   \n",
       "3        W102  35.534921  139.651580  0.000000   0.000000             0   \n",
       "4        W102  35.534976  139.651498  4.809900   9.619799             0   \n",
       "\n",
       "   course  total_distance_mean_vehicle  left_distance  cum_sum_time  \\\n",
       "0       1                112856.851854  121007.184836           0.0   \n",
       "1       1                112856.851854  121004.805107           1.0   \n",
       "2       1                112856.851854  121004.805107           5.0   \n",
       "3       1                112856.851854  121004.805107          10.0   \n",
       "4       1                112856.851854  120995.185308          12.0   \n",
       "\n",
       "   total_time route_name  weekday  velocity_mean_5sec  velocity_std_5sec  \\\n",
       "0     46228.0     00W102        3           12.714170           8.451423   \n",
       "1     46228.0     02W102        3           12.714170           8.451423   \n",
       "2     46228.0     02W102        3           12.761008           9.212830   \n",
       "3     46228.0     02W102        3           14.166098          40.625645   \n",
       "4     46228.0     02W102        3           14.166098          40.625645   \n",
       "\n",
       "   velocity_mean_weekday  velocity_std_weekday  left_time  \n",
       "0              14.855925           1382.331636        770  \n",
       "1              14.855925           1382.331636        770  \n",
       "2              14.855925           1382.331636        770  \n",
       "3              14.855925           1382.331636        770  \n",
       "4              14.855925           1382.331636        770  "
      ]
     },
     "execution_count": 12,
     "metadata": {},
     "output_type": "execute_result"
    }
   ],
   "source": [
    "final_data = final_data[~final_data['course'].isin(not_pass_target)]\n",
    "final_data.head()"
   ]
  },
  {
   "cell_type": "code",
   "execution_count": 13,
   "metadata": {},
   "outputs": [],
   "source": [
    "temp = pd.DataFrame(final_data.groupby(['vehicleCode','course']).count())\n",
    "\n",
    "Q1 = temp.groupby(\"vehicleCode\")['lat'].describe()[\"25%\"]\n",
    "Q3 = temp.groupby(\"vehicleCode\")['lat'].describe()[\"75%\"]\n",
    "IQR = Q3-Q1\n",
    "min_limit = Q1-1.5*IQR\n",
    "min_limit_dic = {}\n",
    "\n",
    "for _,b in enumerate(min_limit.items()):\n",
    "    min_limit_dic[b[0]] =b[1]"
   ]
  },
  {
   "cell_type": "code",
   "execution_count": 14,
   "metadata": {
    "scrolled": true
   },
   "outputs": [
    {
     "data": {
      "text/plain": [
       "{'W102': 2527.25,\n",
       " 'W103': -1073.5,\n",
       " 'W104': 1351.75,\n",
       " 'W105': 883.25,\n",
       " 'W106': 1587.5,\n",
       " 'W108': 3466.0,\n",
       " 'W109': 3716.5,\n",
       " 'W110': -3317.5,\n",
       " 'W111': 1738.5,\n",
       " 'W112': 1017.625,\n",
       " 'W113': 2024.75,\n",
       " 'W114': 2384.25,\n",
       " 'W115': 1071.25,\n",
       " 'W117': 845.875,\n",
       " 'W118': 94.0,\n",
       " 'W119': 2286.5,\n",
       " 'W120-1': -1074.0,\n",
       " 'W120-2': 785.0,\n",
       " 'W40-1': -2215.5,\n",
       " 'W40-2': -4454.0,\n",
       " 'W41-1': 2265.5,\n",
       " 'W41-2': -3393.875,\n",
       " 'W42-1': 2485.75,\n",
       " 'W42-2': -2931.125,\n",
       " 'W44-1': 4038.0,\n",
       " 'W44-2': 4821.0,\n",
       " 'W44-スポット': 1665.75,\n",
       " 'W45-1': 5395.5,\n",
       " 'W45-2': 4557.125,\n",
       " 'W46': 4372.375,\n",
       " 'W46-スポット': 847.125,\n",
       " 'W47-1': 2970.625,\n",
       " 'W47-2': -2875.0,\n",
       " 'W47-3': 3402.375,\n",
       " 'W52': 1880.375,\n",
       " 'W53': 1355.625,\n",
       " 'W54': 1843.5,\n",
       " 'W69': 2750.75,\n",
       " 'W70': 2583.25,\n",
       " 'W71': 242.5,\n",
       " 'W72': 1728.25,\n",
       " 'W73': 3923.0,\n",
       " 'W74': 3883.5,\n",
       " 'W75': -804.75,\n",
       " 'W76': 1384.0,\n",
       " 'W77': 1801.75,\n",
       " 'W78': 3841.0,\n",
       " 'W79': 1865.0,\n",
       " 'W80': 1752.5,\n",
       " 'W82-2': 3674.5,\n",
       " 'W83-1': 66.0,\n",
       " 'W83-2': 2191.5,\n",
       " 'W83-3': 5037.875,\n",
       " 'W84': 2188.625,\n",
       " 'W86': 1480.0,\n",
       " 'W87-1': 796.125,\n",
       " 'W87-2': 512.25,\n",
       " 'W88': -537.0,\n",
       " 'W90': 1823.375,\n",
       " 'W91': 1942.0,\n",
       " 'W92-1': 792.625,\n",
       " 'W93-1': 820.875,\n",
       " 'W93-2': 13.875,\n",
       " 'W94': 236.0,\n",
       " 'W95-1': 1425.25,\n",
       " 'W95-2': 2487.125,\n",
       " 'W97-1': 2480.5,\n",
       " 'W97-2': 2152.75,\n",
       " 'W98-1': 1629.5,\n",
       " 'W98-2': 1911.0,\n",
       " '座間エンジン（1・2・4時区）-1': 2644.375,\n",
       " '座間エンジン（1・2・4時区）-2': 3750.625,\n",
       " '座間エンジン（3時区）-1': 826.625,\n",
       " '座間エンジン（3時区）-2': 201.25}"
      ]
     },
     "execution_count": 14,
     "metadata": {},
     "output_type": "execute_result"
    }
   ],
   "source": [
    "min_limit_dic"
   ]
  },
  {
   "cell_type": "code",
   "execution_count": 15,
   "metadata": {},
   "outputs": [
    {
     "data": {
      "text/plain": [
       "256"
      ]
     },
     "execution_count": 15,
     "metadata": {},
     "output_type": "execute_result"
    }
   ],
   "source": [
    "s = final_data.groupby(['vehicleCode',\"course\"])['vehicleCode'].count()\n",
    "not_used = []\n",
    "for key in min_limit_dic.keys():\n",
    "    for _,i in enumerate(s[key].items()):        \n",
    "        if(i[1]<min_limit_dic[key]):\n",
    "            not_used.append(i[0])\n",
    "len(not_used)"
   ]
  },
  {
   "cell_type": "code",
   "execution_count": 83,
   "metadata": {},
   "outputs": [
    {
     "data": {
      "text/html": [
       "<div>\n",
       "<style scoped>\n",
       "    .dataframe tbody tr th:only-of-type {\n",
       "        vertical-align: middle;\n",
       "    }\n",
       "\n",
       "    .dataframe tbody tr th {\n",
       "        vertical-align: top;\n",
       "    }\n",
       "\n",
       "    .dataframe thead th {\n",
       "        text-align: right;\n",
       "    }\n",
       "</style>\n",
       "<table border=\"1\" class=\"dataframe\">\n",
       "  <thead>\n",
       "    <tr style=\"text-align: right;\">\n",
       "      <th></th>\n",
       "      <th>vehicleCode</th>\n",
       "      <th>lat</th>\n",
       "      <th>lng</th>\n",
       "      <th>velocity</th>\n",
       "      <th>distance</th>\n",
       "      <th>is_in_target</th>\n",
       "      <th>course</th>\n",
       "      <th>total_distance_mean_vehicle</th>\n",
       "      <th>left_distance</th>\n",
       "      <th>cum_sum_time</th>\n",
       "      <th>total_time</th>\n",
       "      <th>route_name</th>\n",
       "      <th>weekday</th>\n",
       "      <th>velocity_mean_5sec</th>\n",
       "      <th>velocity_std_5sec</th>\n",
       "      <th>velocity_mean_weekday</th>\n",
       "      <th>velocity_std_weekday</th>\n",
       "      <th>left_time</th>\n",
       "    </tr>\n",
       "  </thead>\n",
       "  <tbody>\n",
       "    <tr>\n",
       "      <th>0</th>\n",
       "      <td>W102</td>\n",
       "      <td>35.534938</td>\n",
       "      <td>139.651564</td>\n",
       "      <td>0.000000</td>\n",
       "      <td>40.923383</td>\n",
       "      <td>0</td>\n",
       "      <td>1</td>\n",
       "      <td>112856.851854</td>\n",
       "      <td>121007.184836</td>\n",
       "      <td>0.0</td>\n",
       "      <td>46228.0</td>\n",
       "      <td>00W102</td>\n",
       "      <td>3</td>\n",
       "      <td>12.714170</td>\n",
       "      <td>8.451423</td>\n",
       "      <td>14.855925</td>\n",
       "      <td>1382.331636</td>\n",
       "      <td>770</td>\n",
       "    </tr>\n",
       "    <tr>\n",
       "      <th>1</th>\n",
       "      <td>W102</td>\n",
       "      <td>35.534921</td>\n",
       "      <td>139.651580</td>\n",
       "      <td>2.379729</td>\n",
       "      <td>2.379729</td>\n",
       "      <td>0</td>\n",
       "      <td>1</td>\n",
       "      <td>112856.851854</td>\n",
       "      <td>121004.805107</td>\n",
       "      <td>1.0</td>\n",
       "      <td>46228.0</td>\n",
       "      <td>02W102</td>\n",
       "      <td>3</td>\n",
       "      <td>12.714170</td>\n",
       "      <td>8.451423</td>\n",
       "      <td>14.855925</td>\n",
       "      <td>1382.331636</td>\n",
       "      <td>770</td>\n",
       "    </tr>\n",
       "    <tr>\n",
       "      <th>2</th>\n",
       "      <td>W102</td>\n",
       "      <td>35.534921</td>\n",
       "      <td>139.651580</td>\n",
       "      <td>0.000000</td>\n",
       "      <td>0.000000</td>\n",
       "      <td>0</td>\n",
       "      <td>1</td>\n",
       "      <td>112856.851854</td>\n",
       "      <td>121004.805107</td>\n",
       "      <td>5.0</td>\n",
       "      <td>46228.0</td>\n",
       "      <td>02W102</td>\n",
       "      <td>3</td>\n",
       "      <td>12.761008</td>\n",
       "      <td>9.212830</td>\n",
       "      <td>14.855925</td>\n",
       "      <td>1382.331636</td>\n",
       "      <td>770</td>\n",
       "    </tr>\n",
       "    <tr>\n",
       "      <th>3</th>\n",
       "      <td>W102</td>\n",
       "      <td>35.534921</td>\n",
       "      <td>139.651580</td>\n",
       "      <td>0.000000</td>\n",
       "      <td>0.000000</td>\n",
       "      <td>0</td>\n",
       "      <td>1</td>\n",
       "      <td>112856.851854</td>\n",
       "      <td>121004.805107</td>\n",
       "      <td>10.0</td>\n",
       "      <td>46228.0</td>\n",
       "      <td>02W102</td>\n",
       "      <td>3</td>\n",
       "      <td>14.166098</td>\n",
       "      <td>40.625645</td>\n",
       "      <td>14.855925</td>\n",
       "      <td>1382.331636</td>\n",
       "      <td>770</td>\n",
       "    </tr>\n",
       "    <tr>\n",
       "      <th>4</th>\n",
       "      <td>W102</td>\n",
       "      <td>35.534976</td>\n",
       "      <td>139.651498</td>\n",
       "      <td>4.809900</td>\n",
       "      <td>9.619799</td>\n",
       "      <td>0</td>\n",
       "      <td>1</td>\n",
       "      <td>112856.851854</td>\n",
       "      <td>120995.185308</td>\n",
       "      <td>12.0</td>\n",
       "      <td>46228.0</td>\n",
       "      <td>02W102</td>\n",
       "      <td>3</td>\n",
       "      <td>14.166098</td>\n",
       "      <td>40.625645</td>\n",
       "      <td>14.855925</td>\n",
       "      <td>1382.331636</td>\n",
       "      <td>770</td>\n",
       "    </tr>\n",
       "    <tr>\n",
       "      <th>...</th>\n",
       "      <td>...</td>\n",
       "      <td>...</td>\n",
       "      <td>...</td>\n",
       "      <td>...</td>\n",
       "      <td>...</td>\n",
       "      <td>...</td>\n",
       "      <td>...</td>\n",
       "      <td>...</td>\n",
       "      <td>...</td>\n",
       "      <td>...</td>\n",
       "      <td>...</td>\n",
       "      <td>...</td>\n",
       "      <td>...</td>\n",
       "      <td>...</td>\n",
       "      <td>...</td>\n",
       "      <td>...</td>\n",
       "      <td>...</td>\n",
       "      <td>...</td>\n",
       "    </tr>\n",
       "    <tr>\n",
       "      <th>28043370</th>\n",
       "      <td>座間エンジン（3時区）-2</td>\n",
       "      <td>35.501584</td>\n",
       "      <td>139.439746</td>\n",
       "      <td>0.824342</td>\n",
       "      <td>4.121708</td>\n",
       "      <td>0</td>\n",
       "      <td>8951</td>\n",
       "      <td>119612.038095</td>\n",
       "      <td>20.369249</td>\n",
       "      <td>36399.0</td>\n",
       "      <td>36420.0</td>\n",
       "      <td>30座間エンジン（3時区）-2</td>\n",
       "      <td>4</td>\n",
       "      <td>15.459545</td>\n",
       "      <td>59.483187</td>\n",
       "      <td>12.702903</td>\n",
       "      <td>49.704713</td>\n",
       "      <td>0</td>\n",
       "    </tr>\n",
       "    <tr>\n",
       "      <th>28043371</th>\n",
       "      <td>座間エンジン（3時区）-2</td>\n",
       "      <td>35.501576</td>\n",
       "      <td>139.439728</td>\n",
       "      <td>0.309787</td>\n",
       "      <td>1.858719</td>\n",
       "      <td>0</td>\n",
       "      <td>8951</td>\n",
       "      <td>119612.038095</td>\n",
       "      <td>18.510530</td>\n",
       "      <td>36405.0</td>\n",
       "      <td>36420.0</td>\n",
       "      <td>30座間エンジン（3時区）-2</td>\n",
       "      <td>4</td>\n",
       "      <td>18.548741</td>\n",
       "      <td>123.468030</td>\n",
       "      <td>12.702903</td>\n",
       "      <td>49.704713</td>\n",
       "      <td>0</td>\n",
       "    </tr>\n",
       "    <tr>\n",
       "      <th>28043372</th>\n",
       "      <td>座間エンジン（3時区）-2</td>\n",
       "      <td>35.501510</td>\n",
       "      <td>139.439645</td>\n",
       "      <td>2.100748</td>\n",
       "      <td>10.503742</td>\n",
       "      <td>0</td>\n",
       "      <td>8951</td>\n",
       "      <td>119612.038095</td>\n",
       "      <td>8.006789</td>\n",
       "      <td>36410.0</td>\n",
       "      <td>36420.0</td>\n",
       "      <td>30座間エンジン（3時区）-2</td>\n",
       "      <td>4</td>\n",
       "      <td>16.145609</td>\n",
       "      <td>48.045460</td>\n",
       "      <td>12.702903</td>\n",
       "      <td>49.704713</td>\n",
       "      <td>0</td>\n",
       "    </tr>\n",
       "    <tr>\n",
       "      <th>28043373</th>\n",
       "      <td>座間エンジン（3時区）-2</td>\n",
       "      <td>35.501472</td>\n",
       "      <td>139.439588</td>\n",
       "      <td>1.334461</td>\n",
       "      <td>6.672303</td>\n",
       "      <td>0</td>\n",
       "      <td>8951</td>\n",
       "      <td>119612.038095</td>\n",
       "      <td>1.334485</td>\n",
       "      <td>36415.0</td>\n",
       "      <td>36420.0</td>\n",
       "      <td>30座間エンジン（3時区）-2</td>\n",
       "      <td>4</td>\n",
       "      <td>16.078983</td>\n",
       "      <td>59.840919</td>\n",
       "      <td>12.702903</td>\n",
       "      <td>49.704713</td>\n",
       "      <td>0</td>\n",
       "    </tr>\n",
       "    <tr>\n",
       "      <th>28043374</th>\n",
       "      <td>座間エンジン（3時区）-2</td>\n",
       "      <td>35.501484</td>\n",
       "      <td>139.439587</td>\n",
       "      <td>0.266897</td>\n",
       "      <td>1.334485</td>\n",
       "      <td>0</td>\n",
       "      <td>8951</td>\n",
       "      <td>119612.038095</td>\n",
       "      <td>0.000000</td>\n",
       "      <td>36420.0</td>\n",
       "      <td>36420.0</td>\n",
       "      <td>30座間エンジン（3時区）-2</td>\n",
       "      <td>4</td>\n",
       "      <td>16.876879</td>\n",
       "      <td>73.202845</td>\n",
       "      <td>12.702903</td>\n",
       "      <td>49.704713</td>\n",
       "      <td>0</td>\n",
       "    </tr>\n",
       "  </tbody>\n",
       "</table>\n",
       "<p>21380562 rows × 18 columns</p>\n",
       "</div>"
      ],
      "text/plain": [
       "            vehicleCode        lat         lng  velocity   distance  \\\n",
       "0                  W102  35.534938  139.651564  0.000000  40.923383   \n",
       "1                  W102  35.534921  139.651580  2.379729   2.379729   \n",
       "2                  W102  35.534921  139.651580  0.000000   0.000000   \n",
       "3                  W102  35.534921  139.651580  0.000000   0.000000   \n",
       "4                  W102  35.534976  139.651498  4.809900   9.619799   \n",
       "...                 ...        ...         ...       ...        ...   \n",
       "28043370  座間エンジン（3時区）-2  35.501584  139.439746  0.824342   4.121708   \n",
       "28043371  座間エンジン（3時区）-2  35.501576  139.439728  0.309787   1.858719   \n",
       "28043372  座間エンジン（3時区）-2  35.501510  139.439645  2.100748  10.503742   \n",
       "28043373  座間エンジン（3時区）-2  35.501472  139.439588  1.334461   6.672303   \n",
       "28043374  座間エンジン（3時区）-2  35.501484  139.439587  0.266897   1.334485   \n",
       "\n",
       "          is_in_target  course  total_distance_mean_vehicle  left_distance  \\\n",
       "0                    0       1                112856.851854  121007.184836   \n",
       "1                    0       1                112856.851854  121004.805107   \n",
       "2                    0       1                112856.851854  121004.805107   \n",
       "3                    0       1                112856.851854  121004.805107   \n",
       "4                    0       1                112856.851854  120995.185308   \n",
       "...                ...     ...                          ...            ...   \n",
       "28043370             0    8951                119612.038095      20.369249   \n",
       "28043371             0    8951                119612.038095      18.510530   \n",
       "28043372             0    8951                119612.038095       8.006789   \n",
       "28043373             0    8951                119612.038095       1.334485   \n",
       "28043374             0    8951                119612.038095       0.000000   \n",
       "\n",
       "          cum_sum_time  total_time       route_name  weekday  \\\n",
       "0                  0.0     46228.0           00W102        3   \n",
       "1                  1.0     46228.0           02W102        3   \n",
       "2                  5.0     46228.0           02W102        3   \n",
       "3                 10.0     46228.0           02W102        3   \n",
       "4                 12.0     46228.0           02W102        3   \n",
       "...                ...         ...              ...      ...   \n",
       "28043370       36399.0     36420.0  30座間エンジン（3時区）-2        4   \n",
       "28043371       36405.0     36420.0  30座間エンジン（3時区）-2        4   \n",
       "28043372       36410.0     36420.0  30座間エンジン（3時区）-2        4   \n",
       "28043373       36415.0     36420.0  30座間エンジン（3時区）-2        4   \n",
       "28043374       36420.0     36420.0  30座間エンジン（3時区）-2        4   \n",
       "\n",
       "          velocity_mean_5sec  velocity_std_5sec  velocity_mean_weekday  \\\n",
       "0                  12.714170           8.451423              14.855925   \n",
       "1                  12.714170           8.451423              14.855925   \n",
       "2                  12.761008           9.212830              14.855925   \n",
       "3                  14.166098          40.625645              14.855925   \n",
       "4                  14.166098          40.625645              14.855925   \n",
       "...                      ...                ...                    ...   \n",
       "28043370           15.459545          59.483187              12.702903   \n",
       "28043371           18.548741         123.468030              12.702903   \n",
       "28043372           16.145609          48.045460              12.702903   \n",
       "28043373           16.078983          59.840919              12.702903   \n",
       "28043374           16.876879          73.202845              12.702903   \n",
       "\n",
       "          velocity_std_weekday  left_time  \n",
       "0                  1382.331636        770  \n",
       "1                  1382.331636        770  \n",
       "2                  1382.331636        770  \n",
       "3                  1382.331636        770  \n",
       "4                  1382.331636        770  \n",
       "...                        ...        ...  \n",
       "28043370             49.704713          0  \n",
       "28043371             49.704713          0  \n",
       "28043372             49.704713          0  \n",
       "28043373             49.704713          0  \n",
       "28043374             49.704713          0  \n",
       "\n",
       "[21380562 rows x 18 columns]"
      ]
     },
     "execution_count": 83,
     "metadata": {},
     "output_type": "execute_result"
    }
   ],
   "source": [
    "selected_data = final_data[~final_data['course'].isin(not_used)]\n",
    "selected_data"
   ]
  },
  {
   "cell_type": "code",
   "execution_count": null,
   "metadata": {},
   "outputs": [],
   "source": [
    "selected_data = selected_data.drop('course',axis=1)"
   ]
  },
  {
   "cell_type": "markdown",
   "metadata": {},
   "source": [
    "### train, test split\n",
    "\n",
    "- split the dataset into (train, test) with course-wise by vehicleCode\n"
   ]
  },
  {
   "cell_type": "code",
   "execution_count": 19,
   "metadata": {},
   "outputs": [
    {
     "name": "stderr",
     "output_type": "stream",
     "text": [
      "Sampling from a set deprecated\n",
      "since Python 3.9 and will be removed in a subsequent version.\n"
     ]
    }
   ],
   "source": [
    "import random\n",
    "temp = pd.DataFrame(selected_data.groupby(\"vehicleCode\").course)\n",
    "random.seed =1\n",
    "test_course = []\n",
    "for i in range(len(temp)):\n",
    "    t = temp[1][i].values\n",
    "    set_t = set(t)\n",
    "    idx = random.sample(set_t,int(len(set_t)/8))\n",
    "    set_t = list(set_t)\n",
    "    test_course.extend(idx)\n",
    "    "
   ]
  },
  {
   "cell_type": "code",
   "execution_count": 84,
   "metadata": {},
   "outputs": [
    {
     "name": "stdout",
     "output_type": "stream",
     "text": [
      "train_data len is 18841097\n",
      "test_data len is 2539465\n"
     ]
    }
   ],
   "source": [
    "test_data = selected_data[selected_data['course'].isin(test_course)]\n",
    "train_data = selected_data[~selected_data['course'].isin(test_course)]\n",
    "print(\"train_data len is {}\".format(len(train_data)))\n",
    "print(\"test_data len is {}\".format(len(test_data)))"
   ]
  },
  {
   "cell_type": "code",
   "execution_count": 42,
   "metadata": {
    "scrolled": true
   },
   "outputs": [
    {
     "name": "stdout",
     "output_type": "stream",
     "text": [
      "Learning rate set to 0.193931\n",
      "0:\tlearn: 284.0617087\ttotal: 9.14s\tremaining: 2h 32m 8s\n",
      "1:\tlearn: 243.9192328\ttotal: 16.3s\tremaining: 2h 15m 34s\n",
      "2:\tlearn: 211.0325972\ttotal: 23.7s\tremaining: 2h 11m 13s\n",
      "3:\tlearn: 184.4189299\ttotal: 29.6s\tremaining: 2h 2m 58s\n",
      "4:\tlearn: 160.4118834\ttotal: 35.9s\tremaining: 1h 58m 55s\n",
      "5:\tlearn: 142.9313925\ttotal: 42.6s\tremaining: 1h 57m 35s\n",
      "6:\tlearn: 126.5719143\ttotal: 48.4s\tremaining: 1h 54m 30s\n",
      "7:\tlearn: 112.4461783\ttotal: 54.8s\tremaining: 1h 53m 11s\n",
      "8:\tlearn: 101.0364857\ttotal: 1m\tremaining: 1h 51m 14s\n",
      "9:\tlearn: 92.3477073\ttotal: 1m 6s\tremaining: 1h 49m 18s\n",
      "10:\tlearn: 83.8005335\ttotal: 1m 11s\tremaining: 1h 46m 40s\n",
      "11:\tlearn: 76.9535521\ttotal: 1m 16s\tremaining: 1h 45m 8s\n",
      "12:\tlearn: 71.2004975\ttotal: 1m 22s\tremaining: 1h 44m 10s\n",
      "13:\tlearn: 66.5884823\ttotal: 1m 27s\tremaining: 1h 42m 55s\n",
      "14:\tlearn: 62.9199824\ttotal: 1m 33s\tremaining: 1h 42m 10s\n",
      "15:\tlearn: 59.8192039\ttotal: 1m 38s\tremaining: 1h 41m 4s\n",
      "16:\tlearn: 57.1118029\ttotal: 1m 44s\tremaining: 1h 40m 29s\n",
      "17:\tlearn: 54.4841413\ttotal: 1m 49s\tremaining: 1h 39m 56s\n",
      "18:\tlearn: 52.2835113\ttotal: 1m 55s\tremaining: 1h 39m 11s\n",
      "19:\tlearn: 50.2983333\ttotal: 2m 1s\tremaining: 1h 39m 3s\n",
      "20:\tlearn: 48.5988942\ttotal: 2m 6s\tremaining: 1h 38m 31s\n",
      "21:\tlearn: 47.0428043\ttotal: 2m 12s\tremaining: 1h 38m 19s\n",
      "22:\tlearn: 45.9856788\ttotal: 2m 17s\tremaining: 1h 37m 24s\n",
      "23:\tlearn: 44.4911269\ttotal: 2m 23s\tremaining: 1h 37m 3s\n",
      "24:\tlearn: 43.3576079\ttotal: 2m 28s\tremaining: 1h 36m 36s\n",
      "25:\tlearn: 42.0688993\ttotal: 2m 33s\tremaining: 1h 35m 59s\n",
      "26:\tlearn: 41.1471108\ttotal: 2m 38s\tremaining: 1h 35m 28s\n",
      "27:\tlearn: 40.2868117\ttotal: 2m 43s\tremaining: 1h 34m 43s\n",
      "28:\tlearn: 39.3638896\ttotal: 2m 49s\tremaining: 1h 34m 29s\n",
      "29:\tlearn: 38.2732368\ttotal: 2m 54s\tremaining: 1h 33m 58s\n",
      "30:\tlearn: 37.6913673\ttotal: 3m\tremaining: 1h 33m 58s\n",
      "31:\tlearn: 37.0238087\ttotal: 3m 6s\tremaining: 1h 33m 55s\n",
      "32:\tlearn: 36.3253462\ttotal: 3m 12s\tremaining: 1h 33m 46s\n",
      "33:\tlearn: 35.6189912\ttotal: 3m 17s\tremaining: 1h 33m 21s\n",
      "34:\tlearn: 34.6397699\ttotal: 3m 21s\tremaining: 1h 32m 49s\n",
      "35:\tlearn: 33.8877039\ttotal: 3m 27s\tremaining: 1h 32m 38s\n",
      "36:\tlearn: 33.4282580\ttotal: 3m 32s\tremaining: 1h 32m 8s\n",
      "37:\tlearn: 33.0257607\ttotal: 3m 38s\tremaining: 1h 32m\n",
      "38:\tlearn: 32.4022893\ttotal: 3m 43s\tremaining: 1h 31m 44s\n",
      "39:\tlearn: 31.8215015\ttotal: 3m 48s\tremaining: 1h 31m 34s\n",
      "40:\tlearn: 31.3801781\ttotal: 3m 54s\tremaining: 1h 31m 29s\n",
      "41:\tlearn: 30.8681852\ttotal: 4m\tremaining: 1h 31m 24s\n",
      "42:\tlearn: 30.5541315\ttotal: 4m 6s\tremaining: 1h 31m 34s\n",
      "43:\tlearn: 30.1678625\ttotal: 4m 12s\tremaining: 1h 31m 35s\n",
      "44:\tlearn: 29.8158792\ttotal: 4m 17s\tremaining: 1h 31m 13s\n",
      "45:\tlearn: 29.4370592\ttotal: 4m 22s\tremaining: 1h 30m 54s\n",
      "46:\tlearn: 29.1111194\ttotal: 4m 28s\tremaining: 1h 30m 48s\n",
      "47:\tlearn: 28.8964171\ttotal: 4m 33s\tremaining: 1h 30m 21s\n",
      "48:\tlearn: 28.5118981\ttotal: 4m 38s\tremaining: 1h 30m 13s\n",
      "49:\tlearn: 28.2250594\ttotal: 4m 44s\tremaining: 1h 30m 2s\n",
      "50:\tlearn: 27.9138058\ttotal: 4m 49s\tremaining: 1h 29m 41s\n",
      "51:\tlearn: 27.6180378\ttotal: 4m 54s\tremaining: 1h 29m 34s\n",
      "52:\tlearn: 27.3536225\ttotal: 4m 59s\tremaining: 1h 29m 13s\n",
      "53:\tlearn: 27.1340470\ttotal: 5m 4s\tremaining: 1h 28m 58s\n",
      "54:\tlearn: 26.8888883\ttotal: 5m 11s\tremaining: 1h 29m 4s\n",
      "55:\tlearn: 26.6034119\ttotal: 5m 16s\tremaining: 1h 29m 2s\n",
      "56:\tlearn: 26.3829114\ttotal: 5m 23s\tremaining: 1h 29m 5s\n",
      "57:\tlearn: 26.0795932\ttotal: 5m 29s\tremaining: 1h 29m 10s\n",
      "58:\tlearn: 25.7794470\ttotal: 5m 34s\tremaining: 1h 28m 57s\n",
      "59:\tlearn: 25.5031595\ttotal: 5m 40s\tremaining: 1h 28m 57s\n",
      "60:\tlearn: 25.2494395\ttotal: 5m 45s\tremaining: 1h 28m 43s\n",
      "61:\tlearn: 24.9801166\ttotal: 5m 51s\tremaining: 1h 28m 40s\n",
      "62:\tlearn: 24.8588951\ttotal: 5m 57s\tremaining: 1h 28m 41s\n",
      "63:\tlearn: 24.7603873\ttotal: 6m 3s\tremaining: 1h 28m 37s\n",
      "64:\tlearn: 24.6118660\ttotal: 6m 8s\tremaining: 1h 28m 21s\n",
      "65:\tlearn: 24.3515610\ttotal: 6m 14s\tremaining: 1h 28m 14s\n",
      "66:\tlearn: 24.1591284\ttotal: 6m 19s\tremaining: 1h 28m 7s\n",
      "67:\tlearn: 23.9967923\ttotal: 6m 25s\tremaining: 1h 28m 7s\n",
      "68:\tlearn: 23.7962158\ttotal: 6m 31s\tremaining: 1h 28m 7s\n",
      "69:\tlearn: 23.6582452\ttotal: 6m 37s\tremaining: 1h 27m 57s\n",
      "70:\tlearn: 23.5351637\ttotal: 6m 42s\tremaining: 1h 27m 47s\n",
      "71:\tlearn: 23.3361983\ttotal: 6m 48s\tremaining: 1h 27m 40s\n",
      "72:\tlearn: 23.1388778\ttotal: 6m 54s\tremaining: 1h 27m 39s\n",
      "73:\tlearn: 22.9347949\ttotal: 7m\tremaining: 1h 27m 42s\n",
      "74:\tlearn: 22.7745974\ttotal: 7m 6s\tremaining: 1h 27m 35s\n",
      "75:\tlearn: 22.6131159\ttotal: 7m 11s\tremaining: 1h 27m 20s\n",
      "76:\tlearn: 22.4482419\ttotal: 7m 16s\tremaining: 1h 27m 7s\n",
      "77:\tlearn: 22.3166246\ttotal: 7m 21s\tremaining: 1h 26m 59s\n",
      "78:\tlearn: 22.1612961\ttotal: 7m 27s\tremaining: 1h 26m 54s\n",
      "79:\tlearn: 22.0549232\ttotal: 7m 33s\tremaining: 1h 26m 51s\n",
      "80:\tlearn: 21.8331654\ttotal: 7m 38s\tremaining: 1h 26m 41s\n",
      "81:\tlearn: 21.7014597\ttotal: 7m 43s\tremaining: 1h 26m 31s\n",
      "82:\tlearn: 21.5637348\ttotal: 7m 49s\tremaining: 1h 26m 29s\n",
      "83:\tlearn: 21.4400311\ttotal: 7m 55s\tremaining: 1h 26m 25s\n",
      "84:\tlearn: 21.2931062\ttotal: 8m 1s\tremaining: 1h 26m 20s\n",
      "85:\tlearn: 21.1989472\ttotal: 8m 6s\tremaining: 1h 26m 12s\n",
      "86:\tlearn: 21.0947408\ttotal: 8m 12s\tremaining: 1h 26m 11s\n",
      "87:\tlearn: 21.0144434\ttotal: 8m 19s\tremaining: 1h 26m 14s\n",
      "88:\tlearn: 20.8816251\ttotal: 8m 25s\tremaining: 1h 26m 14s\n",
      "89:\tlearn: 20.7748554\ttotal: 8m 30s\tremaining: 1h 26m 4s\n",
      "90:\tlearn: 20.6907592\ttotal: 8m 36s\tremaining: 1h 25m 57s\n",
      "91:\tlearn: 20.5956291\ttotal: 8m 41s\tremaining: 1h 25m 47s\n",
      "92:\tlearn: 20.5113259\ttotal: 8m 47s\tremaining: 1h 25m 40s\n",
      "93:\tlearn: 20.4194125\ttotal: 8m 52s\tremaining: 1h 25m 34s\n",
      "94:\tlearn: 20.3105091\ttotal: 8m 57s\tremaining: 1h 25m 22s\n",
      "95:\tlearn: 20.1766729\ttotal: 9m 2s\tremaining: 1h 25m 8s\n",
      "96:\tlearn: 20.0279881\ttotal: 9m 7s\tremaining: 1h 25m\n",
      "97:\tlearn: 19.9481469\ttotal: 9m 13s\tremaining: 1h 24m 55s\n",
      "98:\tlearn: 19.8465093\ttotal: 9m 18s\tremaining: 1h 24m 44s\n",
      "99:\tlearn: 19.7425494\ttotal: 9m 24s\tremaining: 1h 24m 38s\n",
      "100:\tlearn: 19.5812852\ttotal: 9m 29s\tremaining: 1h 24m 33s\n",
      "101:\tlearn: 19.4945238\ttotal: 9m 35s\tremaining: 1h 24m 25s\n",
      "102:\tlearn: 19.4150179\ttotal: 9m 40s\tremaining: 1h 24m 13s\n",
      "103:\tlearn: 19.3426330\ttotal: 9m 45s\tremaining: 1h 24m 7s\n",
      "104:\tlearn: 19.2759386\ttotal: 9m 51s\tremaining: 1h 23m 58s\n",
      "105:\tlearn: 19.1935854\ttotal: 9m 56s\tremaining: 1h 23m 53s\n",
      "106:\tlearn: 19.0764454\ttotal: 10m 2s\tremaining: 1h 23m 47s\n",
      "107:\tlearn: 19.0052720\ttotal: 10m 7s\tremaining: 1h 23m 38s\n",
      "108:\tlearn: 18.9026544\ttotal: 10m 12s\tremaining: 1h 23m 29s\n",
      "109:\tlearn: 18.7752496\ttotal: 10m 18s\tremaining: 1h 23m 24s\n",
      "110:\tlearn: 18.7233865\ttotal: 10m 23s\tremaining: 1h 23m 15s\n",
      "111:\tlearn: 18.6275228\ttotal: 10m 29s\tremaining: 1h 23m 9s\n",
      "112:\tlearn: 18.5414783\ttotal: 10m 34s\tremaining: 1h 23m 3s\n",
      "113:\tlearn: 18.5035980\ttotal: 10m 39s\tremaining: 1h 22m 52s\n",
      "114:\tlearn: 18.3889243\ttotal: 10m 45s\tremaining: 1h 22m 48s\n",
      "115:\tlearn: 18.2989541\ttotal: 10m 50s\tremaining: 1h 22m 37s\n",
      "116:\tlearn: 18.2174027\ttotal: 10m 55s\tremaining: 1h 22m 28s\n",
      "117:\tlearn: 18.1385425\ttotal: 11m 1s\tremaining: 1h 22m 21s\n",
      "118:\tlearn: 18.0740373\ttotal: 11m 6s\tremaining: 1h 22m 17s\n",
      "119:\tlearn: 17.9849491\ttotal: 11m 12s\tremaining: 1h 22m 10s\n",
      "120:\tlearn: 17.9069861\ttotal: 11m 17s\tremaining: 1h 22m 2s\n",
      "121:\tlearn: 17.8230956\ttotal: 11m 22s\tremaining: 1h 21m 52s\n",
      "122:\tlearn: 17.7580927\ttotal: 11m 28s\tremaining: 1h 21m 46s\n",
      "123:\tlearn: 17.7052881\ttotal: 11m 34s\tremaining: 1h 21m 43s\n",
      "124:\tlearn: 17.6446965\ttotal: 11m 39s\tremaining: 1h 21m 37s\n",
      "125:\tlearn: 17.6055874\ttotal: 11m 45s\tremaining: 1h 21m 30s\n",
      "126:\tlearn: 17.5229824\ttotal: 11m 50s\tremaining: 1h 21m 23s\n",
      "127:\tlearn: 17.4515681\ttotal: 11m 56s\tremaining: 1h 21m 18s\n",
      "128:\tlearn: 17.3802600\ttotal: 12m 1s\tremaining: 1h 21m 13s\n",
      "129:\tlearn: 17.3253539\ttotal: 12m 7s\tremaining: 1h 21m 5s\n",
      "130:\tlearn: 17.2626874\ttotal: 12m 12s\tremaining: 1h 20m 58s\n",
      "131:\tlearn: 17.2095695\ttotal: 12m 17s\tremaining: 1h 20m 49s\n",
      "132:\tlearn: 17.1676451\ttotal: 12m 22s\tremaining: 1h 20m 37s\n",
      "133:\tlearn: 17.1197896\ttotal: 12m 27s\tremaining: 1h 20m 30s\n",
      "134:\tlearn: 17.0540849\ttotal: 12m 32s\tremaining: 1h 20m 23s\n",
      "135:\tlearn: 16.9788556\ttotal: 12m 37s\tremaining: 1h 20m 15s\n",
      "136:\tlearn: 16.9141558\ttotal: 12m 43s\tremaining: 1h 20m 7s\n",
      "137:\tlearn: 16.8439638\ttotal: 12m 49s\tremaining: 1h 20m 4s\n",
      "138:\tlearn: 16.7481098\ttotal: 12m 55s\tremaining: 1h 20m\n",
      "139:\tlearn: 16.6970896\ttotal: 13m 1s\tremaining: 1h 19m 57s\n",
      "140:\tlearn: 16.6422252\ttotal: 13m 6s\tremaining: 1h 19m 51s\n"
     ]
    },
    {
     "name": "stdout",
     "output_type": "stream",
     "text": [
      "141:\tlearn: 16.5934883\ttotal: 13m 12s\tremaining: 1h 19m 48s\n",
      "142:\tlearn: 16.5484022\ttotal: 13m 18s\tremaining: 1h 19m 45s\n",
      "143:\tlearn: 16.5024522\ttotal: 13m 23s\tremaining: 1h 19m 37s\n",
      "144:\tlearn: 16.4144840\ttotal: 13m 29s\tremaining: 1h 19m 30s\n",
      "145:\tlearn: 16.3621879\ttotal: 13m 34s\tremaining: 1h 19m 23s\n",
      "146:\tlearn: 16.2922915\ttotal: 13m 39s\tremaining: 1h 19m 16s\n",
      "147:\tlearn: 16.2261558\ttotal: 13m 45s\tremaining: 1h 19m 11s\n",
      "148:\tlearn: 16.1901127\ttotal: 13m 50s\tremaining: 1h 19m 4s\n",
      "149:\tlearn: 16.1207756\ttotal: 13m 56s\tremaining: 1h 18m 59s\n",
      "150:\tlearn: 16.0383982\ttotal: 14m 1s\tremaining: 1h 18m 51s\n",
      "151:\tlearn: 15.9631169\ttotal: 14m 6s\tremaining: 1h 18m 44s\n",
      "152:\tlearn: 15.9137925\ttotal: 14m 12s\tremaining: 1h 18m 40s\n",
      "153:\tlearn: 15.8637438\ttotal: 14m 18s\tremaining: 1h 18m 33s\n",
      "154:\tlearn: 15.8310840\ttotal: 14m 24s\tremaining: 1h 18m 31s\n",
      "155:\tlearn: 15.7735892\ttotal: 14m 29s\tremaining: 1h 18m 25s\n",
      "156:\tlearn: 15.7396765\ttotal: 14m 35s\tremaining: 1h 18m 19s\n",
      "157:\tlearn: 15.7001663\ttotal: 14m 40s\tremaining: 1h 18m 14s\n",
      "158:\tlearn: 15.6708793\ttotal: 14m 46s\tremaining: 1h 18m 10s\n",
      "159:\tlearn: 15.6125915\ttotal: 14m 52s\tremaining: 1h 18m 6s\n",
      "160:\tlearn: 15.5830601\ttotal: 14m 58s\tremaining: 1h 18m 2s\n",
      "161:\tlearn: 15.5319141\ttotal: 15m 4s\tremaining: 1h 17m 57s\n",
      "162:\tlearn: 15.4721901\ttotal: 15m 9s\tremaining: 1h 17m 52s\n",
      "163:\tlearn: 15.4182749\ttotal: 15m 15s\tremaining: 1h 17m 46s\n",
      "164:\tlearn: 15.3679216\ttotal: 15m 21s\tremaining: 1h 17m 42s\n",
      "165:\tlearn: 15.3268164\ttotal: 15m 27s\tremaining: 1h 17m 38s\n",
      "166:\tlearn: 15.2765122\ttotal: 15m 33s\tremaining: 1h 17m 34s\n",
      "167:\tlearn: 15.2278954\ttotal: 15m 39s\tremaining: 1h 17m 30s\n",
      "168:\tlearn: 15.1856190\ttotal: 15m 44s\tremaining: 1h 17m 24s\n",
      "169:\tlearn: 15.1536918\ttotal: 15m 50s\tremaining: 1h 17m 18s\n",
      "170:\tlearn: 15.1116473\ttotal: 15m 55s\tremaining: 1h 17m 12s\n",
      "171:\tlearn: 15.0722485\ttotal: 16m 1s\tremaining: 1h 17m 8s\n",
      "172:\tlearn: 15.0199295\ttotal: 16m 6s\tremaining: 1h 17m 2s\n",
      "173:\tlearn: 14.9905188\ttotal: 16m 12s\tremaining: 1h 16m 54s\n",
      "174:\tlearn: 14.9445470\ttotal: 16m 17s\tremaining: 1h 16m 47s\n",
      "175:\tlearn: 14.9015553\ttotal: 16m 22s\tremaining: 1h 16m 41s\n",
      "176:\tlearn: 14.8577575\ttotal: 16m 28s\tremaining: 1h 16m 37s\n",
      "177:\tlearn: 14.8336323\ttotal: 16m 34s\tremaining: 1h 16m 31s\n",
      "178:\tlearn: 14.7815575\ttotal: 16m 39s\tremaining: 1h 16m 25s\n",
      "179:\tlearn: 14.7503104\ttotal: 16m 45s\tremaining: 1h 16m 22s\n",
      "180:\tlearn: 14.7178220\ttotal: 16m 51s\tremaining: 1h 16m 17s\n",
      "181:\tlearn: 14.6772023\ttotal: 16m 56s\tremaining: 1h 16m 10s\n",
      "182:\tlearn: 14.6474887\ttotal: 17m 2s\tremaining: 1h 16m 4s\n",
      "183:\tlearn: 14.6089628\ttotal: 17m 7s\tremaining: 1h 15m 58s\n",
      "184:\tlearn: 14.5753170\ttotal: 17m 13s\tremaining: 1h 15m 50s\n",
      "185:\tlearn: 14.5428977\ttotal: 17m 18s\tremaining: 1h 15m 43s\n",
      "186:\tlearn: 14.4701853\ttotal: 17m 23s\tremaining: 1h 15m 36s\n",
      "187:\tlearn: 14.4151578\ttotal: 17m 28s\tremaining: 1h 15m 29s\n",
      "188:\tlearn: 14.3814867\ttotal: 17m 33s\tremaining: 1h 15m 21s\n",
      "189:\tlearn: 14.3326230\ttotal: 17m 39s\tremaining: 1h 15m 17s\n",
      "190:\tlearn: 14.2789747\ttotal: 17m 44s\tremaining: 1h 15m 10s\n",
      "191:\tlearn: 14.2242479\ttotal: 17m 50s\tremaining: 1h 15m 4s\n",
      "192:\tlearn: 14.2001798\ttotal: 17m 56s\tremaining: 1h 14m 59s\n",
      "193:\tlearn: 14.1511075\ttotal: 18m 1s\tremaining: 1h 14m 53s\n",
      "194:\tlearn: 14.1155896\ttotal: 18m 7s\tremaining: 1h 14m 47s\n",
      "195:\tlearn: 14.0791958\ttotal: 18m 12s\tremaining: 1h 14m 39s\n",
      "196:\tlearn: 14.0518643\ttotal: 18m 17s\tremaining: 1h 14m 34s\n",
      "197:\tlearn: 14.0366220\ttotal: 18m 23s\tremaining: 1h 14m 28s\n",
      "198:\tlearn: 14.0110732\ttotal: 18m 28s\tremaining: 1h 14m 23s\n",
      "199:\tlearn: 13.9788172\ttotal: 18m 34s\tremaining: 1h 14m 17s\n",
      "200:\tlearn: 13.9463517\ttotal: 18m 39s\tremaining: 1h 14m 9s\n",
      "201:\tlearn: 13.9159557\ttotal: 18m 44s\tremaining: 1h 14m 4s\n",
      "202:\tlearn: 13.8766643\ttotal: 18m 50s\tremaining: 1h 13m 58s\n",
      "203:\tlearn: 13.8432340\ttotal: 18m 56s\tremaining: 1h 13m 53s\n",
      "204:\tlearn: 13.8061221\ttotal: 19m 1s\tremaining: 1h 13m 48s\n",
      "205:\tlearn: 13.7854409\ttotal: 19m 7s\tremaining: 1h 13m 43s\n",
      "206:\tlearn: 13.7564931\ttotal: 19m 12s\tremaining: 1h 13m 36s\n",
      "207:\tlearn: 13.7294567\ttotal: 19m 18s\tremaining: 1h 13m 32s\n",
      "208:\tlearn: 13.6902471\ttotal: 19m 24s\tremaining: 1h 13m 25s\n",
      "209:\tlearn: 13.6097278\ttotal: 19m 29s\tremaining: 1h 13m 18s\n",
      "210:\tlearn: 13.5682911\ttotal: 19m 34s\tremaining: 1h 13m 12s\n",
      "211:\tlearn: 13.5530610\ttotal: 19m 40s\tremaining: 1h 13m 7s\n",
      "212:\tlearn: 13.5261202\ttotal: 19m 45s\tremaining: 1h 12m 59s\n",
      "213:\tlearn: 13.5028311\ttotal: 19m 50s\tremaining: 1h 12m 52s\n",
      "214:\tlearn: 13.4646445\ttotal: 19m 56s\tremaining: 1h 12m 47s\n",
      "215:\tlearn: 13.4332451\ttotal: 20m 1s\tremaining: 1h 12m 41s\n",
      "216:\tlearn: 13.4088082\ttotal: 20m 6s\tremaining: 1h 12m 35s\n",
      "217:\tlearn: 13.3747942\ttotal: 20m 12s\tremaining: 1h 12m 29s\n",
      "218:\tlearn: 13.3334964\ttotal: 20m 18s\tremaining: 1h 12m 23s\n",
      "219:\tlearn: 13.3077619\ttotal: 20m 23s\tremaining: 1h 12m 18s\n",
      "220:\tlearn: 13.2737637\ttotal: 20m 28s\tremaining: 1h 12m 11s\n",
      "221:\tlearn: 13.2447250\ttotal: 20m 34s\tremaining: 1h 12m 6s\n",
      "222:\tlearn: 13.2193640\ttotal: 20m 39s\tremaining: 1h 11m 59s\n",
      "223:\tlearn: 13.1720532\ttotal: 20m 45s\tremaining: 1h 11m 55s\n",
      "224:\tlearn: 13.1333129\ttotal: 20m 50s\tremaining: 1h 11m 48s\n",
      "225:\tlearn: 13.0990208\ttotal: 20m 56s\tremaining: 1h 11m 41s\n",
      "226:\tlearn: 13.0639333\ttotal: 21m 1s\tremaining: 1h 11m 34s\n",
      "227:\tlearn: 13.0397198\ttotal: 21m 6s\tremaining: 1h 11m 27s\n",
      "228:\tlearn: 13.0077559\ttotal: 21m 11s\tremaining: 1h 11m 22s\n",
      "229:\tlearn: 12.9770709\ttotal: 21m 17s\tremaining: 1h 11m 16s\n",
      "230:\tlearn: 12.9500597\ttotal: 21m 23s\tremaining: 1h 11m 11s\n",
      "231:\tlearn: 12.9295697\ttotal: 21m 28s\tremaining: 1h 11m 5s\n",
      "232:\tlearn: 12.9053178\ttotal: 21m 34s\tremaining: 1h 11m\n",
      "233:\tlearn: 12.8692908\ttotal: 21m 39s\tremaining: 1h 10m 55s\n",
      "234:\tlearn: 12.8434709\ttotal: 21m 45s\tremaining: 1h 10m 49s\n",
      "235:\tlearn: 12.8168177\ttotal: 21m 50s\tremaining: 1h 10m 43s\n",
      "236:\tlearn: 12.7886307\ttotal: 21m 56s\tremaining: 1h 10m 36s\n",
      "237:\tlearn: 12.7681438\ttotal: 22m 1s\tremaining: 1h 10m 29s\n",
      "238:\tlearn: 12.7442790\ttotal: 22m 6s\tremaining: 1h 10m 24s\n",
      "239:\tlearn: 12.6812477\ttotal: 22m 11s\tremaining: 1h 10m 17s\n",
      "240:\tlearn: 12.6549736\ttotal: 22m 17s\tremaining: 1h 10m 12s\n",
      "241:\tlearn: 12.6380780\ttotal: 22m 23s\tremaining: 1h 10m 8s\n",
      "242:\tlearn: 12.6090164\ttotal: 22m 29s\tremaining: 1h 10m 2s\n",
      "243:\tlearn: 12.5774672\ttotal: 22m 35s\tremaining: 1h 9m 58s\n",
      "244:\tlearn: 12.5467093\ttotal: 22m 40s\tremaining: 1h 9m 52s\n",
      "245:\tlearn: 12.5203556\ttotal: 22m 45s\tremaining: 1h 9m 46s\n",
      "246:\tlearn: 12.4951982\ttotal: 22m 51s\tremaining: 1h 9m 41s\n",
      "247:\tlearn: 12.4756050\ttotal: 22m 56s\tremaining: 1h 9m 35s\n",
      "248:\tlearn: 12.4487400\ttotal: 23m 2s\tremaining: 1h 9m 30s\n",
      "249:\tlearn: 12.4292311\ttotal: 23m 7s\tremaining: 1h 9m 23s\n",
      "250:\tlearn: 12.3922787\ttotal: 23m 13s\tremaining: 1h 9m 18s\n",
      "251:\tlearn: 12.3656876\ttotal: 23m 18s\tremaining: 1h 9m 12s\n",
      "252:\tlearn: 12.3290790\ttotal: 23m 24s\tremaining: 1h 9m 5s\n",
      "253:\tlearn: 12.2992541\ttotal: 23m 29s\tremaining: 1h 8m 58s\n",
      "254:\tlearn: 12.2798691\ttotal: 23m 34s\tremaining: 1h 8m 53s\n",
      "255:\tlearn: 12.2673061\ttotal: 23m 40s\tremaining: 1h 8m 47s\n",
      "256:\tlearn: 12.2385900\ttotal: 23m 45s\tremaining: 1h 8m 42s\n",
      "257:\tlearn: 12.2086339\ttotal: 23m 51s\tremaining: 1h 8m 36s\n",
      "258:\tlearn: 12.1877900\ttotal: 23m 56s\tremaining: 1h 8m 31s\n",
      "259:\tlearn: 12.1675566\ttotal: 24m 2s\tremaining: 1h 8m 25s\n",
      "260:\tlearn: 12.1518736\ttotal: 24m 7s\tremaining: 1h 8m 18s\n",
      "261:\tlearn: 12.1245117\ttotal: 24m 12s\tremaining: 1h 8m 12s\n",
      "262:\tlearn: 12.1009008\ttotal: 24m 18s\tremaining: 1h 8m 6s\n",
      "263:\tlearn: 12.0662962\ttotal: 24m 23s\tremaining: 1h 8m\n",
      "264:\tlearn: 12.0462469\ttotal: 24m 28s\tremaining: 1h 7m 54s\n",
      "265:\tlearn: 12.0269032\ttotal: 24m 34s\tremaining: 1h 7m 49s\n",
      "266:\tlearn: 11.9996980\ttotal: 24m 40s\tremaining: 1h 7m 43s\n",
      "267:\tlearn: 11.9785730\ttotal: 24m 45s\tremaining: 1h 7m 38s\n",
      "268:\tlearn: 11.9512894\ttotal: 24m 50s\tremaining: 1h 7m 31s\n",
      "269:\tlearn: 11.9223010\ttotal: 24m 56s\tremaining: 1h 7m 27s\n",
      "270:\tlearn: 11.9051657\ttotal: 25m 2s\tremaining: 1h 7m 22s\n",
      "271:\tlearn: 11.8850243\ttotal: 25m 8s\tremaining: 1h 7m 16s\n",
      "272:\tlearn: 11.8456614\ttotal: 25m 13s\tremaining: 1h 7m 10s\n",
      "273:\tlearn: 11.8233463\ttotal: 25m 19s\tremaining: 1h 7m 5s\n",
      "274:\tlearn: 11.8044700\ttotal: 25m 25s\tremaining: 1h 7m\n",
      "275:\tlearn: 11.7808411\ttotal: 25m 31s\tremaining: 1h 6m 56s\n",
      "276:\tlearn: 11.7596148\ttotal: 25m 36s\tremaining: 1h 6m 49s\n",
      "277:\tlearn: 11.7450571\ttotal: 25m 41s\tremaining: 1h 6m 43s\n",
      "278:\tlearn: 11.7304313\ttotal: 25m 46s\tremaining: 1h 6m 37s\n",
      "279:\tlearn: 11.6979523\ttotal: 25m 52s\tremaining: 1h 6m 32s\n"
     ]
    },
    {
     "name": "stdout",
     "output_type": "stream",
     "text": [
      "280:\tlearn: 11.6671406\ttotal: 25m 58s\tremaining: 1h 6m 28s\n",
      "281:\tlearn: 11.6461266\ttotal: 26m 4s\tremaining: 1h 6m 23s\n",
      "282:\tlearn: 11.6301142\ttotal: 26m 10s\tremaining: 1h 6m 18s\n",
      "283:\tlearn: 11.6147060\ttotal: 26m 15s\tremaining: 1h 6m 13s\n",
      "284:\tlearn: 11.5937715\ttotal: 26m 21s\tremaining: 1h 6m 7s\n",
      "285:\tlearn: 11.5671159\ttotal: 26m 27s\tremaining: 1h 6m 2s\n",
      "286:\tlearn: 11.5267892\ttotal: 26m 31s\tremaining: 1h 5m 54s\n",
      "287:\tlearn: 11.5109674\ttotal: 26m 37s\tremaining: 1h 5m 50s\n",
      "288:\tlearn: 11.4269983\ttotal: 26m 43s\tremaining: 1h 5m 45s\n",
      "289:\tlearn: 11.4078505\ttotal: 26m 48s\tremaining: 1h 5m 38s\n",
      "290:\tlearn: 11.3885987\ttotal: 26m 54s\tremaining: 1h 5m 33s\n",
      "291:\tlearn: 11.3408939\ttotal: 26m 59s\tremaining: 1h 5m 25s\n",
      "292:\tlearn: 11.3200708\ttotal: 27m 5s\tremaining: 1h 5m 21s\n",
      "293:\tlearn: 11.2865998\ttotal: 27m 11s\tremaining: 1h 5m 16s\n",
      "294:\tlearn: 11.2556449\ttotal: 27m 16s\tremaining: 1h 5m 10s\n",
      "295:\tlearn: 11.2379509\ttotal: 27m 21s\tremaining: 1h 5m 4s\n",
      "296:\tlearn: 11.2191107\ttotal: 27m 27s\tremaining: 1h 4m 58s\n",
      "297:\tlearn: 11.2036492\ttotal: 27m 32s\tremaining: 1h 4m 53s\n",
      "298:\tlearn: 11.1877473\ttotal: 27m 37s\tremaining: 1h 4m 45s\n",
      "299:\tlearn: 11.1645987\ttotal: 27m 43s\tremaining: 1h 4m 40s\n",
      "300:\tlearn: 11.1305257\ttotal: 27m 48s\tremaining: 1h 4m 34s\n",
      "301:\tlearn: 11.1184835\ttotal: 27m 54s\tremaining: 1h 4m 29s\n",
      "302:\tlearn: 11.0994636\ttotal: 27m 59s\tremaining: 1h 4m 22s\n",
      "303:\tlearn: 11.0858259\ttotal: 28m 4s\tremaining: 1h 4m 16s\n",
      "304:\tlearn: 11.0734223\ttotal: 28m 10s\tremaining: 1h 4m 12s\n",
      "305:\tlearn: 11.0479995\ttotal: 28m 15s\tremaining: 1h 4m 6s\n",
      "306:\tlearn: 11.0051643\ttotal: 28m 20s\tremaining: 1h 3m 59s\n",
      "307:\tlearn: 10.9867673\ttotal: 28m 26s\tremaining: 1h 3m 53s\n",
      "308:\tlearn: 10.9606960\ttotal: 28m 31s\tremaining: 1h 3m 46s\n",
      "309:\tlearn: 10.9467627\ttotal: 28m 36s\tremaining: 1h 3m 40s\n",
      "310:\tlearn: 10.9301484\ttotal: 28m 42s\tremaining: 1h 3m 35s\n",
      "311:\tlearn: 10.9088630\ttotal: 28m 47s\tremaining: 1h 3m 29s\n",
      "312:\tlearn: 10.8948017\ttotal: 28m 53s\tremaining: 1h 3m 24s\n",
      "313:\tlearn: 10.8656935\ttotal: 28m 59s\tremaining: 1h 3m 19s\n",
      "314:\tlearn: 10.8484759\ttotal: 29m 4s\tremaining: 1h 3m 13s\n",
      "315:\tlearn: 10.8304371\ttotal: 29m 9s\tremaining: 1h 3m 7s\n",
      "316:\tlearn: 10.8213713\ttotal: 29m 15s\tremaining: 1h 3m 2s\n",
      "317:\tlearn: 10.7970103\ttotal: 29m 21s\tremaining: 1h 2m 56s\n",
      "318:\tlearn: 10.7811864\ttotal: 29m 26s\tremaining: 1h 2m 51s\n",
      "319:\tlearn: 10.7706873\ttotal: 29m 32s\tremaining: 1h 2m 46s\n",
      "320:\tlearn: 10.7513630\ttotal: 29m 37s\tremaining: 1h 2m 40s\n",
      "321:\tlearn: 10.7382168\ttotal: 29m 43s\tremaining: 1h 2m 35s\n",
      "322:\tlearn: 10.7232577\ttotal: 29m 48s\tremaining: 1h 2m 29s\n",
      "323:\tlearn: 10.7084527\ttotal: 29m 54s\tremaining: 1h 2m 24s\n",
      "324:\tlearn: 10.6955089\ttotal: 30m\tremaining: 1h 2m 20s\n",
      "325:\tlearn: 10.6774365\ttotal: 30m 6s\tremaining: 1h 2m 14s\n",
      "326:\tlearn: 10.6624219\ttotal: 30m 11s\tremaining: 1h 2m 8s\n",
      "327:\tlearn: 10.6507769\ttotal: 30m 17s\tremaining: 1h 2m 3s\n",
      "328:\tlearn: 10.6317613\ttotal: 30m 22s\tremaining: 1h 1m 57s\n",
      "329:\tlearn: 10.6124458\ttotal: 30m 28s\tremaining: 1h 1m 53s\n",
      "330:\tlearn: 10.6027143\ttotal: 30m 34s\tremaining: 1h 1m 47s\n",
      "331:\tlearn: 10.5864544\ttotal: 30m 39s\tremaining: 1h 1m 42s\n",
      "332:\tlearn: 10.5729195\ttotal: 30m 45s\tremaining: 1h 1m 36s\n",
      "333:\tlearn: 10.5554057\ttotal: 30m 50s\tremaining: 1h 1m 29s\n",
      "334:\tlearn: 10.5418899\ttotal: 30m 56s\tremaining: 1h 1m 24s\n",
      "335:\tlearn: 10.5238294\ttotal: 31m 1s\tremaining: 1h 1m 19s\n",
      "336:\tlearn: 10.5007703\ttotal: 31m 6s\tremaining: 1h 1m 11s\n",
      "337:\tlearn: 10.4847040\ttotal: 31m 11s\tremaining: 1h 1m 5s\n",
      "338:\tlearn: 10.4639906\ttotal: 31m 16s\tremaining: 1h 59s\n",
      "339:\tlearn: 10.4452590\ttotal: 31m 22s\tremaining: 1h 53s\n",
      "340:\tlearn: 10.4345014\ttotal: 31m 28s\tremaining: 1h 49s\n",
      "341:\tlearn: 10.4107672\ttotal: 31m 33s\tremaining: 1h 42s\n",
      "342:\tlearn: 10.3964065\ttotal: 31m 38s\tremaining: 1h 35s\n",
      "343:\tlearn: 10.3818388\ttotal: 31m 44s\tremaining: 1h 31s\n",
      "344:\tlearn: 10.3743973\ttotal: 31m 49s\tremaining: 1h 25s\n",
      "345:\tlearn: 10.3548371\ttotal: 31m 55s\tremaining: 1h 19s\n",
      "346:\tlearn: 10.3399033\ttotal: 32m\tremaining: 1h 14s\n",
      "347:\tlearn: 10.3251431\ttotal: 32m 6s\tremaining: 1h 9s\n",
      "348:\tlearn: 10.3015862\ttotal: 32m 11s\tremaining: 1h 3s\n",
      "349:\tlearn: 10.2776402\ttotal: 32m 17s\tremaining: 59m 57s\n",
      "350:\tlearn: 10.2609511\ttotal: 32m 22s\tremaining: 59m 51s\n",
      "351:\tlearn: 10.2297267\ttotal: 32m 28s\tremaining: 59m 46s\n",
      "352:\tlearn: 10.2167405\ttotal: 32m 33s\tremaining: 59m 40s\n",
      "353:\tlearn: 10.1978715\ttotal: 32m 39s\tremaining: 59m 35s\n",
      "354:\tlearn: 10.1839476\ttotal: 32m 45s\tremaining: 59m 30s\n",
      "355:\tlearn: 10.1595407\ttotal: 32m 50s\tremaining: 59m 24s\n",
      "356:\tlearn: 10.1443269\ttotal: 32m 55s\tremaining: 59m 18s\n",
      "357:\tlearn: 10.1296423\ttotal: 33m 1s\tremaining: 59m 14s\n",
      "358:\tlearn: 10.1175296\ttotal: 33m 7s\tremaining: 59m 8s\n",
      "359:\tlearn: 10.1030557\ttotal: 33m 12s\tremaining: 59m 3s\n",
      "360:\tlearn: 10.0811668\ttotal: 33m 17s\tremaining: 58m 56s\n",
      "361:\tlearn: 10.0727221\ttotal: 33m 23s\tremaining: 58m 50s\n",
      "362:\tlearn: 10.0610957\ttotal: 33m 28s\tremaining: 58m 44s\n",
      "363:\tlearn: 10.0483345\ttotal: 33m 34s\tremaining: 58m 40s\n",
      "364:\tlearn: 10.0394063\ttotal: 33m 40s\tremaining: 58m 34s\n",
      "365:\tlearn: 10.0152695\ttotal: 33m 45s\tremaining: 58m 28s\n",
      "366:\tlearn: 10.0065887\ttotal: 33m 50s\tremaining: 58m 22s\n",
      "367:\tlearn: 9.9855202\ttotal: 33m 55s\tremaining: 58m 15s\n",
      "368:\tlearn: 9.9655571\ttotal: 34m 1s\tremaining: 58m 10s\n",
      "369:\tlearn: 9.9525857\ttotal: 34m 6s\tremaining: 58m 4s\n",
      "370:\tlearn: 9.9385851\ttotal: 34m 11s\tremaining: 57m 58s\n",
      "371:\tlearn: 9.9277359\ttotal: 34m 16s\tremaining: 57m 52s\n",
      "372:\tlearn: 9.8860128\ttotal: 34m 22s\tremaining: 57m 46s\n",
      "373:\tlearn: 9.8773176\ttotal: 34m 27s\tremaining: 57m 40s\n",
      "374:\tlearn: 9.8638824\ttotal: 34m 33s\tremaining: 57m 35s\n",
      "375:\tlearn: 9.8518780\ttotal: 34m 38s\tremaining: 57m 29s\n",
      "376:\tlearn: 9.8438334\ttotal: 34m 44s\tremaining: 57m 24s\n",
      "377:\tlearn: 9.8362090\ttotal: 34m 49s\tremaining: 57m 17s\n",
      "378:\tlearn: 9.8188344\ttotal: 34m 54s\tremaining: 57m 12s\n",
      "379:\tlearn: 9.8086898\ttotal: 35m\tremaining: 57m 7s\n",
      "380:\tlearn: 9.7930104\ttotal: 35m 6s\tremaining: 57m 2s\n",
      "381:\tlearn: 9.7841900\ttotal: 35m 12s\tremaining: 56m 57s\n",
      "382:\tlearn: 9.7756838\ttotal: 35m 17s\tremaining: 56m 51s\n",
      "383:\tlearn: 9.7623400\ttotal: 35m 22s\tremaining: 56m 45s\n",
      "384:\tlearn: 9.7534921\ttotal: 35m 27s\tremaining: 56m 38s\n",
      "385:\tlearn: 9.7382522\ttotal: 35m 33s\tremaining: 56m 33s\n",
      "386:\tlearn: 9.7214074\ttotal: 35m 38s\tremaining: 56m 27s\n",
      "387:\tlearn: 9.7063050\ttotal: 35m 43s\tremaining: 56m 20s\n",
      "388:\tlearn: 9.6865413\ttotal: 35m 48s\tremaining: 56m 15s\n",
      "389:\tlearn: 9.6798875\ttotal: 35m 54s\tremaining: 56m 9s\n",
      "390:\tlearn: 9.6686824\ttotal: 35m 59s\tremaining: 56m 3s\n",
      "391:\tlearn: 9.6587146\ttotal: 36m 4s\tremaining: 55m 57s\n",
      "392:\tlearn: 9.6505971\ttotal: 36m 9s\tremaining: 55m 51s\n",
      "393:\tlearn: 9.6347714\ttotal: 36m 15s\tremaining: 55m 45s\n",
      "394:\tlearn: 9.6281107\ttotal: 36m 20s\tremaining: 55m 40s\n",
      "395:\tlearn: 9.6181036\ttotal: 36m 26s\tremaining: 55m 35s\n",
      "396:\tlearn: 9.6062205\ttotal: 36m 31s\tremaining: 55m 28s\n",
      "397:\tlearn: 9.5835776\ttotal: 36m 35s\tremaining: 55m 21s\n",
      "398:\tlearn: 9.5758763\ttotal: 36m 41s\tremaining: 55m 15s\n",
      "399:\tlearn: 9.5695096\ttotal: 36m 47s\tremaining: 55m 10s\n",
      "400:\tlearn: 9.5612528\ttotal: 36m 53s\tremaining: 55m 6s\n",
      "401:\tlearn: 9.5466838\ttotal: 36m 59s\tremaining: 55m 1s\n",
      "402:\tlearn: 9.5389996\ttotal: 37m 4s\tremaining: 54m 55s\n",
      "403:\tlearn: 9.5291766\ttotal: 37m 9s\tremaining: 54m 49s\n",
      "404:\tlearn: 9.5179734\ttotal: 37m 15s\tremaining: 54m 44s\n",
      "405:\tlearn: 9.5083609\ttotal: 37m 21s\tremaining: 54m 39s\n",
      "406:\tlearn: 9.4989256\ttotal: 37m 26s\tremaining: 54m 33s\n",
      "407:\tlearn: 9.4812183\ttotal: 37m 32s\tremaining: 54m 28s\n",
      "408:\tlearn: 9.4657504\ttotal: 37m 38s\tremaining: 54m 22s\n",
      "409:\tlearn: 9.4525527\ttotal: 37m 43s\tremaining: 54m 17s\n",
      "410:\tlearn: 9.4426163\ttotal: 37m 49s\tremaining: 54m 12s\n",
      "411:\tlearn: 9.4252343\ttotal: 37m 55s\tremaining: 54m 7s\n",
      "412:\tlearn: 9.4156431\ttotal: 38m\tremaining: 54m 1s\n",
      "413:\tlearn: 9.4095122\ttotal: 38m 5s\tremaining: 53m 55s\n",
      "414:\tlearn: 9.3994895\ttotal: 38m 11s\tremaining: 53m 50s\n",
      "415:\tlearn: 9.3888023\ttotal: 38m 17s\tremaining: 53m 44s\n",
      "416:\tlearn: 9.3786842\ttotal: 38m 22s\tremaining: 53m 39s\n",
      "417:\tlearn: 9.3695089\ttotal: 38m 28s\tremaining: 53m 34s\n",
      "418:\tlearn: 9.3610687\ttotal: 38m 34s\tremaining: 53m 29s\n",
      "419:\tlearn: 9.3500292\ttotal: 38m 40s\tremaining: 53m 24s\n",
      "420:\tlearn: 9.3405567\ttotal: 38m 45s\tremaining: 53m 18s\n",
      "421:\tlearn: 9.3295662\ttotal: 38m 51s\tremaining: 53m 13s\n",
      "422:\tlearn: 9.3211824\ttotal: 38m 57s\tremaining: 53m 7s\n",
      "423:\tlearn: 9.3094717\ttotal: 39m 2s\tremaining: 53m 2s\n"
     ]
    },
    {
     "name": "stdout",
     "output_type": "stream",
     "text": [
      "424:\tlearn: 9.2930072\ttotal: 39m 7s\tremaining: 52m 56s\n",
      "425:\tlearn: 9.2835455\ttotal: 39m 13s\tremaining: 52m 51s\n",
      "426:\tlearn: 9.2697229\ttotal: 39m 19s\tremaining: 52m 45s\n",
      "427:\tlearn: 9.2621338\ttotal: 39m 24s\tremaining: 52m 40s\n",
      "428:\tlearn: 9.2498100\ttotal: 39m 29s\tremaining: 52m 34s\n",
      "429:\tlearn: 9.2431599\ttotal: 39m 35s\tremaining: 52m 29s\n",
      "430:\tlearn: 9.2309535\ttotal: 39m 41s\tremaining: 52m 24s\n",
      "431:\tlearn: 9.2099097\ttotal: 39m 46s\tremaining: 52m 17s\n",
      "432:\tlearn: 9.1926772\ttotal: 39m 51s\tremaining: 52m 11s\n",
      "433:\tlearn: 9.1806252\ttotal: 39m 57s\tremaining: 52m 6s\n",
      "434:\tlearn: 9.1746976\ttotal: 40m 2s\tremaining: 52m\n",
      "435:\tlearn: 9.1653600\ttotal: 40m 7s\tremaining: 51m 54s\n",
      "436:\tlearn: 9.1559266\ttotal: 40m 12s\tremaining: 51m 48s\n",
      "437:\tlearn: 9.1472428\ttotal: 40m 18s\tremaining: 51m 42s\n",
      "438:\tlearn: 9.1391891\ttotal: 40m 24s\tremaining: 51m 37s\n",
      "439:\tlearn: 9.1288394\ttotal: 40m 29s\tremaining: 51m 32s\n",
      "440:\tlearn: 9.1182312\ttotal: 40m 34s\tremaining: 51m 26s\n",
      "441:\tlearn: 9.1063330\ttotal: 40m 40s\tremaining: 51m 20s\n",
      "442:\tlearn: 9.0984586\ttotal: 40m 45s\tremaining: 51m 14s\n",
      "443:\tlearn: 9.0922555\ttotal: 40m 50s\tremaining: 51m 9s\n",
      "444:\tlearn: 9.0702141\ttotal: 40m 56s\tremaining: 51m 3s\n",
      "445:\tlearn: 9.0644439\ttotal: 41m 1s\tremaining: 50m 57s\n",
      "446:\tlearn: 9.0568773\ttotal: 41m 6s\tremaining: 50m 51s\n",
      "447:\tlearn: 9.0488209\ttotal: 41m 12s\tremaining: 50m 46s\n",
      "448:\tlearn: 9.0401401\ttotal: 41m 17s\tremaining: 50m 40s\n",
      "449:\tlearn: 9.0202381\ttotal: 41m 22s\tremaining: 50m 34s\n",
      "450:\tlearn: 9.0070842\ttotal: 41m 27s\tremaining: 50m 28s\n",
      "451:\tlearn: 8.9969270\ttotal: 41m 32s\tremaining: 50m 21s\n",
      "452:\tlearn: 8.9898043\ttotal: 41m 37s\tremaining: 50m 16s\n",
      "453:\tlearn: 8.9757520\ttotal: 41m 43s\tremaining: 50m 11s\n",
      "454:\tlearn: 8.9678519\ttotal: 41m 49s\tremaining: 50m 5s\n",
      "455:\tlearn: 8.9511857\ttotal: 41m 54s\tremaining: 49m 59s\n",
      "456:\tlearn: 8.9453267\ttotal: 42m\tremaining: 49m 54s\n",
      "457:\tlearn: 8.9362725\ttotal: 42m 5s\tremaining: 49m 48s\n",
      "458:\tlearn: 8.9291230\ttotal: 42m 10s\tremaining: 49m 42s\n",
      "459:\tlearn: 8.9204784\ttotal: 42m 16s\tremaining: 49m 37s\n",
      "460:\tlearn: 8.9106917\ttotal: 42m 21s\tremaining: 49m 31s\n",
      "461:\tlearn: 8.9040541\ttotal: 42m 27s\tremaining: 49m 26s\n",
      "462:\tlearn: 8.8895461\ttotal: 42m 33s\tremaining: 49m 21s\n",
      "463:\tlearn: 8.8842845\ttotal: 42m 38s\tremaining: 49m 15s\n",
      "464:\tlearn: 8.8683583\ttotal: 42m 44s\tremaining: 49m 10s\n",
      "465:\tlearn: 8.8583863\ttotal: 42m 50s\tremaining: 49m 5s\n",
      "466:\tlearn: 8.8419914\ttotal: 42m 56s\tremaining: 49m\n",
      "467:\tlearn: 8.8310481\ttotal: 43m\tremaining: 48m 53s\n",
      "468:\tlearn: 8.8247587\ttotal: 43m 6s\tremaining: 48m 48s\n",
      "469:\tlearn: 8.8183007\ttotal: 43m 12s\tremaining: 48m 43s\n",
      "470:\tlearn: 8.8089737\ttotal: 43m 18s\tremaining: 48m 38s\n",
      "471:\tlearn: 8.7953204\ttotal: 43m 23s\tremaining: 48m 32s\n",
      "472:\tlearn: 8.7861012\ttotal: 43m 30s\tremaining: 48m 27s\n",
      "473:\tlearn: 8.7820773\ttotal: 43m 36s\tremaining: 48m 23s\n",
      "474:\tlearn: 8.7737788\ttotal: 43m 41s\tremaining: 48m 17s\n",
      "475:\tlearn: 8.7666995\ttotal: 43m 46s\tremaining: 48m 11s\n",
      "476:\tlearn: 8.7534621\ttotal: 43m 52s\tremaining: 48m 6s\n",
      "477:\tlearn: 8.7463451\ttotal: 43m 58s\tremaining: 48m\n",
      "478:\tlearn: 8.7358966\ttotal: 44m 3s\tremaining: 47m 55s\n",
      "479:\tlearn: 8.7206541\ttotal: 44m 8s\tremaining: 47m 49s\n",
      "480:\tlearn: 8.7058694\ttotal: 44m 14s\tremaining: 47m 44s\n",
      "481:\tlearn: 8.6993957\ttotal: 44m 20s\tremaining: 47m 39s\n",
      "482:\tlearn: 8.6942703\ttotal: 44m 25s\tremaining: 47m 33s\n",
      "483:\tlearn: 8.6864883\ttotal: 44m 31s\tremaining: 47m 27s\n",
      "484:\tlearn: 8.6781584\ttotal: 44m 36s\tremaining: 47m 21s\n",
      "485:\tlearn: 8.6722670\ttotal: 44m 42s\tremaining: 47m 16s\n",
      "486:\tlearn: 8.6672269\ttotal: 44m 47s\tremaining: 47m 10s\n",
      "487:\tlearn: 8.6608773\ttotal: 44m 53s\tremaining: 47m 5s\n",
      "488:\tlearn: 8.6534026\ttotal: 44m 58s\tremaining: 47m\n",
      "489:\tlearn: 8.6450132\ttotal: 45m 3s\tremaining: 46m 54s\n",
      "490:\tlearn: 8.6374882\ttotal: 45m 9s\tremaining: 46m 48s\n",
      "491:\tlearn: 8.6313224\ttotal: 45m 15s\tremaining: 46m 43s\n",
      "492:\tlearn: 8.6242385\ttotal: 45m 20s\tremaining: 46m 37s\n",
      "493:\tlearn: 8.6174824\ttotal: 45m 25s\tremaining: 46m 31s\n",
      "494:\tlearn: 8.6107590\ttotal: 45m 31s\tremaining: 46m 26s\n",
      "495:\tlearn: 8.6046452\ttotal: 45m 37s\tremaining: 46m 21s\n",
      "496:\tlearn: 8.5991795\ttotal: 45m 42s\tremaining: 46m 15s\n",
      "497:\tlearn: 8.5923735\ttotal: 45m 48s\tremaining: 46m 10s\n",
      "498:\tlearn: 8.5815264\ttotal: 45m 53s\tremaining: 46m 4s\n",
      "499:\tlearn: 8.5737068\ttotal: 45m 59s\tremaining: 45m 59s\n",
      "500:\tlearn: 8.5645192\ttotal: 46m 4s\tremaining: 45m 53s\n",
      "501:\tlearn: 8.5549607\ttotal: 46m 10s\tremaining: 45m 48s\n",
      "502:\tlearn: 8.5481361\ttotal: 46m 15s\tremaining: 45m 42s\n",
      "503:\tlearn: 8.5423361\ttotal: 46m 20s\tremaining: 45m 36s\n",
      "504:\tlearn: 8.5330115\ttotal: 46m 26s\tremaining: 45m 31s\n",
      "505:\tlearn: 8.5254385\ttotal: 46m 32s\tremaining: 45m 25s\n",
      "506:\tlearn: 8.5156450\ttotal: 46m 38s\tremaining: 45m 21s\n",
      "507:\tlearn: 8.5039416\ttotal: 46m 44s\tremaining: 45m 15s\n",
      "508:\tlearn: 8.4879589\ttotal: 46m 49s\tremaining: 45m 10s\n",
      "509:\tlearn: 8.4837587\ttotal: 46m 55s\tremaining: 45m 5s\n",
      "510:\tlearn: 8.4705601\ttotal: 47m 1s\tremaining: 44m 59s\n",
      "511:\tlearn: 8.4628107\ttotal: 47m 6s\tremaining: 44m 54s\n",
      "512:\tlearn: 8.4514289\ttotal: 47m 12s\tremaining: 44m 48s\n",
      "513:\tlearn: 8.4462564\ttotal: 47m 17s\tremaining: 44m 43s\n",
      "514:\tlearn: 8.4389897\ttotal: 47m 23s\tremaining: 44m 37s\n",
      "515:\tlearn: 8.4337818\ttotal: 47m 29s\tremaining: 44m 32s\n",
      "516:\tlearn: 8.4293769\ttotal: 47m 34s\tremaining: 44m 26s\n",
      "517:\tlearn: 8.4150445\ttotal: 47m 39s\tremaining: 44m 21s\n",
      "518:\tlearn: 8.4117644\ttotal: 47m 44s\tremaining: 44m 15s\n",
      "519:\tlearn: 8.4074742\ttotal: 47m 50s\tremaining: 44m 9s\n",
      "520:\tlearn: 8.3996707\ttotal: 47m 55s\tremaining: 44m 3s\n",
      "521:\tlearn: 8.3880522\ttotal: 48m 1s\tremaining: 43m 58s\n",
      "522:\tlearn: 8.3837823\ttotal: 48m 6s\tremaining: 43m 52s\n",
      "523:\tlearn: 8.3769887\ttotal: 48m 11s\tremaining: 43m 47s\n",
      "524:\tlearn: 8.3686904\ttotal: 48m 17s\tremaining: 43m 41s\n",
      "525:\tlearn: 8.3649519\ttotal: 48m 22s\tremaining: 43m 35s\n",
      "526:\tlearn: 8.3545054\ttotal: 48m 27s\tremaining: 43m 29s\n",
      "527:\tlearn: 8.3362121\ttotal: 48m 32s\tremaining: 43m 23s\n",
      "528:\tlearn: 8.3324207\ttotal: 48m 38s\tremaining: 43m 18s\n",
      "529:\tlearn: 8.3256622\ttotal: 48m 43s\tremaining: 43m 12s\n",
      "530:\tlearn: 8.3096878\ttotal: 48m 49s\tremaining: 43m 7s\n",
      "531:\tlearn: 8.3039608\ttotal: 48m 55s\tremaining: 43m 2s\n",
      "532:\tlearn: 8.2942589\ttotal: 49m\tremaining: 42m 56s\n",
      "533:\tlearn: 8.2878544\ttotal: 49m 6s\tremaining: 42m 51s\n",
      "534:\tlearn: 8.2806742\ttotal: 49m 12s\tremaining: 42m 45s\n",
      "535:\tlearn: 8.2698799\ttotal: 49m 15s\tremaining: 42m 38s\n",
      "536:\tlearn: 8.2634227\ttotal: 49m 21s\tremaining: 42m 33s\n",
      "537:\tlearn: 8.2592188\ttotal: 49m 26s\tremaining: 42m 27s\n",
      "538:\tlearn: 8.2498773\ttotal: 49m 32s\tremaining: 42m 22s\n",
      "539:\tlearn: 8.2445832\ttotal: 49m 38s\tremaining: 42m 17s\n",
      "540:\tlearn: 8.2342936\ttotal: 49m 43s\tremaining: 42m 11s\n",
      "541:\tlearn: 8.2292918\ttotal: 49m 48s\tremaining: 42m 5s\n",
      "542:\tlearn: 8.2229393\ttotal: 49m 54s\tremaining: 42m\n",
      "543:\tlearn: 8.2174565\ttotal: 50m\tremaining: 41m 54s\n",
      "544:\tlearn: 8.2034224\ttotal: 50m 5s\tremaining: 41m 49s\n",
      "545:\tlearn: 8.1944350\ttotal: 50m 11s\tremaining: 41m 43s\n",
      "546:\tlearn: 8.1897167\ttotal: 50m 16s\tremaining: 41m 38s\n",
      "547:\tlearn: 8.1797757\ttotal: 50m 21s\tremaining: 41m 32s\n",
      "548:\tlearn: 8.1739623\ttotal: 50m 27s\tremaining: 41m 26s\n",
      "549:\tlearn: 8.1648721\ttotal: 50m 32s\tremaining: 41m 21s\n",
      "550:\tlearn: 8.1609983\ttotal: 50m 38s\tremaining: 41m 15s\n",
      "551:\tlearn: 8.1536316\ttotal: 50m 43s\tremaining: 41m 10s\n",
      "552:\tlearn: 8.1455410\ttotal: 50m 49s\tremaining: 41m 4s\n",
      "553:\tlearn: 8.1390169\ttotal: 50m 54s\tremaining: 40m 59s\n",
      "554:\tlearn: 8.1363220\ttotal: 51m\tremaining: 40m 53s\n",
      "555:\tlearn: 8.1301735\ttotal: 51m 6s\tremaining: 40m 48s\n",
      "556:\tlearn: 8.1253186\ttotal: 51m 10s\tremaining: 40m 41s\n",
      "557:\tlearn: 8.1167659\ttotal: 51m 15s\tremaining: 40m 36s\n",
      "558:\tlearn: 8.1121646\ttotal: 51m 20s\tremaining: 40m 30s\n",
      "559:\tlearn: 8.1021234\ttotal: 51m 25s\tremaining: 40m 24s\n",
      "560:\tlearn: 8.0964898\ttotal: 51m 30s\tremaining: 40m 18s\n",
      "561:\tlearn: 8.0904944\ttotal: 51m 34s\tremaining: 40m 12s\n",
      "562:\tlearn: 8.0717523\ttotal: 51m 39s\tremaining: 40m 6s\n",
      "563:\tlearn: 8.0438132\ttotal: 51m 45s\tremaining: 40m\n",
      "564:\tlearn: 8.0254356\ttotal: 51m 50s\tremaining: 39m 54s\n",
      "565:\tlearn: 8.0225315\ttotal: 51m 56s\tremaining: 39m 49s\n",
      "566:\tlearn: 8.0152696\ttotal: 52m 2s\tremaining: 39m 44s\n",
      "567:\tlearn: 8.0084215\ttotal: 52m 7s\tremaining: 39m 38s\n",
      "568:\tlearn: 7.9948369\ttotal: 52m 12s\tremaining: 39m 32s\n",
      "569:\tlearn: 7.9889878\ttotal: 52m 18s\tremaining: 39m 27s\n",
      "570:\tlearn: 7.9822409\ttotal: 52m 23s\tremaining: 39m 21s\n",
      "571:\tlearn: 7.9746894\ttotal: 52m 29s\tremaining: 39m 16s\n"
     ]
    },
    {
     "name": "stdout",
     "output_type": "stream",
     "text": [
      "572:\tlearn: 7.9710760\ttotal: 52m 35s\tremaining: 39m 11s\n",
      "573:\tlearn: 7.9620358\ttotal: 52m 40s\tremaining: 39m 5s\n",
      "574:\tlearn: 7.9580753\ttotal: 52m 46s\tremaining: 39m\n",
      "575:\tlearn: 7.9533883\ttotal: 52m 52s\tremaining: 38m 54s\n",
      "576:\tlearn: 7.9462913\ttotal: 52m 57s\tremaining: 38m 49s\n",
      "577:\tlearn: 7.9316119\ttotal: 53m 2s\tremaining: 38m 43s\n",
      "578:\tlearn: 7.9263223\ttotal: 53m 8s\tremaining: 38m 38s\n",
      "579:\tlearn: 7.9202926\ttotal: 53m 13s\tremaining: 38m 32s\n",
      "580:\tlearn: 7.9132677\ttotal: 53m 18s\tremaining: 38m 27s\n",
      "581:\tlearn: 7.9063594\ttotal: 53m 23s\tremaining: 38m 21s\n",
      "582:\tlearn: 7.8976964\ttotal: 53m 29s\tremaining: 38m 15s\n",
      "583:\tlearn: 7.8912152\ttotal: 53m 34s\tremaining: 38m 9s\n",
      "584:\tlearn: 7.8799505\ttotal: 53m 40s\tremaining: 38m 4s\n",
      "585:\tlearn: 7.8728697\ttotal: 53m 46s\tremaining: 37m 59s\n",
      "586:\tlearn: 7.8649641\ttotal: 53m 53s\tremaining: 37m 54s\n",
      "587:\tlearn: 7.8593331\ttotal: 53m 59s\tremaining: 37m 49s\n",
      "588:\tlearn: 7.8538522\ttotal: 54m 4s\tremaining: 37m 43s\n",
      "589:\tlearn: 7.8442266\ttotal: 54m 9s\tremaining: 37m 38s\n",
      "590:\tlearn: 7.8376673\ttotal: 54m 14s\tremaining: 37m 32s\n",
      "591:\tlearn: 7.8311561\ttotal: 54m 20s\tremaining: 37m 27s\n",
      "592:\tlearn: 7.8226411\ttotal: 54m 26s\tremaining: 37m 21s\n",
      "593:\tlearn: 7.8122902\ttotal: 54m 31s\tremaining: 37m 16s\n",
      "594:\tlearn: 7.8079620\ttotal: 54m 36s\tremaining: 37m 10s\n",
      "595:\tlearn: 7.7983672\ttotal: 54m 41s\tremaining: 37m 4s\n",
      "596:\tlearn: 7.7900503\ttotal: 54m 47s\tremaining: 36m 58s\n",
      "597:\tlearn: 7.7863914\ttotal: 54m 52s\tremaining: 36m 53s\n",
      "598:\tlearn: 7.7785495\ttotal: 54m 56s\tremaining: 36m 46s\n",
      "599:\tlearn: 7.7719465\ttotal: 55m 2s\tremaining: 36m 41s\n",
      "600:\tlearn: 7.7619008\ttotal: 55m 7s\tremaining: 36m 35s\n",
      "601:\tlearn: 7.7580188\ttotal: 55m 13s\tremaining: 36m 30s\n",
      "602:\tlearn: 7.7509443\ttotal: 55m 18s\tremaining: 36m 24s\n",
      "603:\tlearn: 7.7419927\ttotal: 55m 23s\tremaining: 36m 18s\n",
      "604:\tlearn: 7.7356967\ttotal: 55m 28s\tremaining: 36m 13s\n",
      "605:\tlearn: 7.7315120\ttotal: 55m 34s\tremaining: 36m 7s\n",
      "606:\tlearn: 7.7278280\ttotal: 55m 40s\tremaining: 36m 2s\n",
      "607:\tlearn: 7.7216071\ttotal: 55m 45s\tremaining: 35m 56s\n",
      "608:\tlearn: 7.7170335\ttotal: 55m 51s\tremaining: 35m 52s\n",
      "609:\tlearn: 7.7119922\ttotal: 55m 57s\tremaining: 35m 46s\n",
      "610:\tlearn: 7.7085306\ttotal: 56m 3s\tremaining: 35m 41s\n",
      "611:\tlearn: 7.7032988\ttotal: 56m 8s\tremaining: 35m 35s\n",
      "612:\tlearn: 7.6994862\ttotal: 56m 14s\tremaining: 35m 30s\n",
      "613:\tlearn: 7.6943406\ttotal: 56m 19s\tremaining: 35m 24s\n",
      "614:\tlearn: 7.6903706\ttotal: 56m 25s\tremaining: 35m 19s\n",
      "615:\tlearn: 7.6864945\ttotal: 56m 31s\tremaining: 35m 14s\n",
      "616:\tlearn: 7.6820913\ttotal: 56m 37s\tremaining: 35m 8s\n",
      "617:\tlearn: 7.6759759\ttotal: 56m 42s\tremaining: 35m 3s\n",
      "618:\tlearn: 7.6723650\ttotal: 56m 48s\tremaining: 34m 57s\n",
      "619:\tlearn: 7.6623825\ttotal: 56m 54s\tremaining: 34m 52s\n",
      "620:\tlearn: 7.6573187\ttotal: 56m 59s\tremaining: 34m 46s\n",
      "621:\tlearn: 7.6522225\ttotal: 57m 4s\tremaining: 34m 41s\n",
      "622:\tlearn: 7.6457162\ttotal: 57m 10s\tremaining: 34m 35s\n",
      "623:\tlearn: 7.6424167\ttotal: 57m 16s\tremaining: 34m 30s\n",
      "624:\tlearn: 7.6333246\ttotal: 57m 21s\tremaining: 34m 25s\n",
      "625:\tlearn: 7.6288931\ttotal: 57m 27s\tremaining: 34m 19s\n",
      "626:\tlearn: 7.6241092\ttotal: 57m 32s\tremaining: 34m 14s\n",
      "627:\tlearn: 7.6127852\ttotal: 57m 37s\tremaining: 34m 8s\n",
      "628:\tlearn: 7.5964887\ttotal: 57m 43s\tremaining: 34m 2s\n",
      "629:\tlearn: 7.5913797\ttotal: 57m 48s\tremaining: 33m 57s\n",
      "630:\tlearn: 7.5872104\ttotal: 57m 54s\tremaining: 33m 51s\n",
      "631:\tlearn: 7.5831274\ttotal: 57m 59s\tremaining: 33m 46s\n",
      "632:\tlearn: 7.5793371\ttotal: 58m 5s\tremaining: 33m 40s\n",
      "633:\tlearn: 7.5737753\ttotal: 58m 10s\tremaining: 33m 35s\n",
      "634:\tlearn: 7.5659869\ttotal: 58m 15s\tremaining: 33m 29s\n",
      "635:\tlearn: 7.5622951\ttotal: 58m 20s\tremaining: 33m 23s\n",
      "636:\tlearn: 7.5559716\ttotal: 58m 25s\tremaining: 33m 17s\n",
      "637:\tlearn: 7.5467920\ttotal: 58m 30s\tremaining: 33m 12s\n",
      "638:\tlearn: 7.5433282\ttotal: 58m 35s\tremaining: 33m 6s\n",
      "639:\tlearn: 7.5411056\ttotal: 58m 41s\tremaining: 33m\n",
      "640:\tlearn: 7.5376645\ttotal: 58m 47s\tremaining: 32m 55s\n",
      "641:\tlearn: 7.5341243\ttotal: 58m 52s\tremaining: 32m 49s\n",
      "642:\tlearn: 7.5230231\ttotal: 58m 57s\tremaining: 32m 44s\n",
      "643:\tlearn: 7.5169896\ttotal: 59m 3s\tremaining: 32m 38s\n",
      "644:\tlearn: 7.5131895\ttotal: 59m 7s\tremaining: 32m 32s\n",
      "645:\tlearn: 7.5091021\ttotal: 59m 12s\tremaining: 32m 26s\n",
      "646:\tlearn: 7.5060332\ttotal: 59m 18s\tremaining: 32m 21s\n",
      "647:\tlearn: 7.5003150\ttotal: 59m 24s\tremaining: 32m 16s\n",
      "648:\tlearn: 7.4960890\ttotal: 59m 30s\tremaining: 32m 10s\n",
      "649:\tlearn: 7.4924595\ttotal: 59m 35s\tremaining: 32m 5s\n",
      "650:\tlearn: 7.4857736\ttotal: 59m 40s\tremaining: 31m 59s\n",
      "651:\tlearn: 7.4815977\ttotal: 59m 45s\tremaining: 31m 53s\n",
      "652:\tlearn: 7.4758508\ttotal: 59m 51s\tremaining: 31m 48s\n",
      "653:\tlearn: 7.4709479\ttotal: 59m 57s\tremaining: 31m 43s\n",
      "654:\tlearn: 7.4677607\ttotal: 1h 2s\tremaining: 31m 37s\n",
      "655:\tlearn: 7.4622849\ttotal: 1h 7s\tremaining: 31m 31s\n",
      "656:\tlearn: 7.4529653\ttotal: 1h 12s\tremaining: 31m 26s\n",
      "657:\tlearn: 7.4477157\ttotal: 1h 17s\tremaining: 31m 20s\n",
      "658:\tlearn: 7.4425446\ttotal: 1h 23s\tremaining: 31m 15s\n",
      "659:\tlearn: 7.4380743\ttotal: 1h 28s\tremaining: 31m 9s\n",
      "660:\tlearn: 7.4279285\ttotal: 1h 33s\tremaining: 31m 3s\n",
      "661:\tlearn: 7.4214244\ttotal: 1h 39s\tremaining: 30m 58s\n",
      "662:\tlearn: 7.4168497\ttotal: 1h 45s\tremaining: 30m 53s\n",
      "663:\tlearn: 7.4114815\ttotal: 1h 50s\tremaining: 30m 47s\n",
      "664:\tlearn: 7.4077902\ttotal: 1h 56s\tremaining: 30m 41s\n",
      "665:\tlearn: 7.4034683\ttotal: 1h 1m 1s\tremaining: 30m 36s\n",
      "666:\tlearn: 7.3978154\ttotal: 1h 1m 7s\tremaining: 30m 30s\n",
      "667:\tlearn: 7.3943181\ttotal: 1h 1m 12s\tremaining: 30m 25s\n",
      "668:\tlearn: 7.3909524\ttotal: 1h 1m 17s\tremaining: 30m 19s\n",
      "669:\tlearn: 7.3863948\ttotal: 1h 1m 22s\tremaining: 30m 13s\n",
      "670:\tlearn: 7.3820118\ttotal: 1h 1m 28s\tremaining: 30m 8s\n",
      "671:\tlearn: 7.3796423\ttotal: 1h 1m 34s\tremaining: 30m 3s\n",
      "672:\tlearn: 7.3732192\ttotal: 1h 1m 39s\tremaining: 29m 57s\n",
      "673:\tlearn: 7.3640838\ttotal: 1h 1m 45s\tremaining: 29m 52s\n",
      "674:\tlearn: 7.3617697\ttotal: 1h 1m 51s\tremaining: 29m 46s\n",
      "675:\tlearn: 7.3590684\ttotal: 1h 1m 56s\tremaining: 29m 41s\n",
      "676:\tlearn: 7.3550237\ttotal: 1h 2m 1s\tremaining: 29m 35s\n",
      "677:\tlearn: 7.3494744\ttotal: 1h 2m 7s\tremaining: 29m 30s\n",
      "678:\tlearn: 7.3439676\ttotal: 1h 2m 13s\tremaining: 29m 24s\n",
      "679:\tlearn: 7.3398992\ttotal: 1h 2m 18s\tremaining: 29m 19s\n",
      "680:\tlearn: 7.3372293\ttotal: 1h 2m 23s\tremaining: 29m 13s\n",
      "681:\tlearn: 7.3297903\ttotal: 1h 2m 29s\tremaining: 29m 8s\n",
      "682:\tlearn: 7.3222670\ttotal: 1h 2m 35s\tremaining: 29m 2s\n",
      "683:\tlearn: 7.3187803\ttotal: 1h 2m 40s\tremaining: 28m 57s\n",
      "684:\tlearn: 7.3110737\ttotal: 1h 2m 45s\tremaining: 28m 51s\n",
      "685:\tlearn: 7.3076908\ttotal: 1h 2m 50s\tremaining: 28m 46s\n",
      "686:\tlearn: 7.3032632\ttotal: 1h 2m 55s\tremaining: 28m 40s\n",
      "687:\tlearn: 7.2982823\ttotal: 1h 3m\tremaining: 28m 34s\n",
      "688:\tlearn: 7.2942260\ttotal: 1h 3m 6s\tremaining: 28m 29s\n",
      "689:\tlearn: 7.2908994\ttotal: 1h 3m 11s\tremaining: 28m 23s\n",
      "690:\tlearn: 7.2872832\ttotal: 1h 3m 17s\tremaining: 28m 18s\n",
      "691:\tlearn: 7.2807048\ttotal: 1h 3m 22s\tremaining: 28m 12s\n",
      "692:\tlearn: 7.2768282\ttotal: 1h 3m 27s\tremaining: 28m 6s\n",
      "693:\tlearn: 7.2668414\ttotal: 1h 3m 32s\tremaining: 28m 1s\n",
      "694:\tlearn: 7.2604458\ttotal: 1h 3m 38s\tremaining: 27m 55s\n",
      "695:\tlearn: 7.2573002\ttotal: 1h 3m 43s\tremaining: 27m 50s\n",
      "696:\tlearn: 7.2542287\ttotal: 1h 3m 49s\tremaining: 27m 44s\n",
      "697:\tlearn: 7.2483288\ttotal: 1h 3m 54s\tremaining: 27m 39s\n",
      "698:\tlearn: 7.2424528\ttotal: 1h 3m 59s\tremaining: 27m 33s\n",
      "699:\tlearn: 7.2335593\ttotal: 1h 4m 5s\tremaining: 27m 27s\n",
      "700:\tlearn: 7.2240450\ttotal: 1h 4m 10s\tremaining: 27m 22s\n",
      "701:\tlearn: 7.2168382\ttotal: 1h 4m 15s\tremaining: 27m 16s\n",
      "702:\tlearn: 7.2068674\ttotal: 1h 4m 20s\tremaining: 27m 11s\n",
      "703:\tlearn: 7.1995421\ttotal: 1h 4m 25s\tremaining: 27m 5s\n",
      "704:\tlearn: 7.1936661\ttotal: 1h 4m 31s\tremaining: 26m 59s\n",
      "705:\tlearn: 7.1912540\ttotal: 1h 4m 36s\tremaining: 26m 54s\n",
      "706:\tlearn: 7.1882942\ttotal: 1h 4m 42s\tremaining: 26m 48s\n",
      "707:\tlearn: 7.1852649\ttotal: 1h 4m 47s\tremaining: 26m 43s\n",
      "708:\tlearn: 7.1818768\ttotal: 1h 4m 53s\tremaining: 26m 37s\n",
      "709:\tlearn: 7.1782777\ttotal: 1h 4m 58s\tremaining: 26m 32s\n",
      "710:\tlearn: 7.1717994\ttotal: 1h 5m 4s\tremaining: 26m 26s\n",
      "711:\tlearn: 7.1669113\ttotal: 1h 5m 9s\tremaining: 26m 21s\n",
      "712:\tlearn: 7.1622204\ttotal: 1h 5m 15s\tremaining: 26m 16s\n",
      "713:\tlearn: 7.1557583\ttotal: 1h 5m 20s\tremaining: 26m 10s\n",
      "714:\tlearn: 7.1518384\ttotal: 1h 5m 26s\tremaining: 26m 5s\n",
      "715:\tlearn: 7.1475223\ttotal: 1h 5m 31s\tremaining: 25m 59s\n",
      "716:\tlearn: 7.1439270\ttotal: 1h 5m 37s\tremaining: 25m 54s\n",
      "717:\tlearn: 7.1379875\ttotal: 1h 5m 43s\tremaining: 25m 49s\n"
     ]
    },
    {
     "name": "stdout",
     "output_type": "stream",
     "text": [
      "718:\tlearn: 7.1338865\ttotal: 1h 5m 49s\tremaining: 25m 43s\n",
      "719:\tlearn: 7.1276838\ttotal: 1h 5m 55s\tremaining: 25m 38s\n",
      "720:\tlearn: 7.1228194\ttotal: 1h 6m\tremaining: 25m 32s\n",
      "721:\tlearn: 7.1184283\ttotal: 1h 6m 6s\tremaining: 25m 27s\n",
      "722:\tlearn: 7.1091471\ttotal: 1h 6m 11s\tremaining: 25m 21s\n",
      "723:\tlearn: 7.1060574\ttotal: 1h 6m 17s\tremaining: 25m 16s\n",
      "724:\tlearn: 7.0983044\ttotal: 1h 6m 23s\tremaining: 25m 10s\n",
      "725:\tlearn: 7.0939945\ttotal: 1h 6m 28s\tremaining: 25m 5s\n",
      "726:\tlearn: 7.0883794\ttotal: 1h 6m 34s\tremaining: 25m\n",
      "727:\tlearn: 7.0860149\ttotal: 1h 6m 40s\tremaining: 24m 54s\n",
      "728:\tlearn: 7.0831268\ttotal: 1h 6m 45s\tremaining: 24m 49s\n",
      "729:\tlearn: 7.0805920\ttotal: 1h 6m 51s\tremaining: 24m 43s\n",
      "730:\tlearn: 7.0773275\ttotal: 1h 6m 56s\tremaining: 24m 37s\n",
      "731:\tlearn: 7.0729523\ttotal: 1h 7m 2s\tremaining: 24m 32s\n",
      "732:\tlearn: 7.0705169\ttotal: 1h 7m 8s\tremaining: 24m 27s\n",
      "733:\tlearn: 7.0662208\ttotal: 1h 7m 16s\tremaining: 24m 22s\n",
      "734:\tlearn: 7.0610854\ttotal: 1h 7m 22s\tremaining: 24m 17s\n",
      "735:\tlearn: 7.0543347\ttotal: 1h 7m 28s\tremaining: 24m 12s\n",
      "736:\tlearn: 7.0508108\ttotal: 1h 7m 34s\tremaining: 24m 6s\n",
      "737:\tlearn: 7.0476685\ttotal: 1h 7m 40s\tremaining: 24m 1s\n",
      "738:\tlearn: 7.0451411\ttotal: 1h 7m 46s\tremaining: 23m 56s\n",
      "739:\tlearn: 7.0420602\ttotal: 1h 7m 52s\tremaining: 23m 50s\n",
      "740:\tlearn: 7.0380384\ttotal: 1h 7m 58s\tremaining: 23m 45s\n",
      "741:\tlearn: 7.0357518\ttotal: 1h 8m 3s\tremaining: 23m 39s\n",
      "742:\tlearn: 7.0316636\ttotal: 1h 8m 8s\tremaining: 23m 34s\n",
      "743:\tlearn: 7.0295275\ttotal: 1h 8m 14s\tremaining: 23m 28s\n",
      "744:\tlearn: 7.0224886\ttotal: 1h 8m 20s\tremaining: 23m 23s\n",
      "745:\tlearn: 7.0198889\ttotal: 1h 8m 26s\tremaining: 23m 18s\n",
      "746:\tlearn: 7.0170852\ttotal: 1h 8m 31s\tremaining: 23m 12s\n",
      "747:\tlearn: 7.0134472\ttotal: 1h 8m 37s\tremaining: 23m 7s\n",
      "748:\tlearn: 7.0118808\ttotal: 1h 8m 43s\tremaining: 23m 1s\n",
      "749:\tlearn: 7.0028238\ttotal: 1h 8m 48s\tremaining: 22m 56s\n",
      "750:\tlearn: 6.9997474\ttotal: 1h 8m 53s\tremaining: 22m 50s\n",
      "751:\tlearn: 6.9953735\ttotal: 1h 8m 59s\tremaining: 22m 45s\n",
      "752:\tlearn: 6.9923348\ttotal: 1h 9m 4s\tremaining: 22m 39s\n",
      "753:\tlearn: 6.9879817\ttotal: 1h 9m 9s\tremaining: 22m 33s\n",
      "754:\tlearn: 6.9762181\ttotal: 1h 9m 14s\tremaining: 22m 28s\n",
      "755:\tlearn: 6.9715583\ttotal: 1h 9m 19s\tremaining: 22m 22s\n",
      "756:\tlearn: 6.9692019\ttotal: 1h 9m 25s\tremaining: 22m 17s\n",
      "757:\tlearn: 6.9657585\ttotal: 1h 9m 30s\tremaining: 22m 11s\n",
      "758:\tlearn: 6.9615374\ttotal: 1h 9m 35s\tremaining: 22m 5s\n",
      "759:\tlearn: 6.9587116\ttotal: 1h 9m 41s\tremaining: 22m\n",
      "760:\tlearn: 6.9511678\ttotal: 1h 9m 47s\tremaining: 21m 55s\n",
      "761:\tlearn: 6.9454107\ttotal: 1h 9m 53s\tremaining: 21m 49s\n",
      "762:\tlearn: 6.9431631\ttotal: 1h 9m 59s\tremaining: 21m 44s\n",
      "763:\tlearn: 6.9376810\ttotal: 1h 10m 4s\tremaining: 21m 38s\n",
      "764:\tlearn: 6.9315277\ttotal: 1h 10m 10s\tremaining: 21m 33s\n",
      "765:\tlearn: 6.9251762\ttotal: 1h 10m 15s\tremaining: 21m 27s\n",
      "766:\tlearn: 6.9229099\ttotal: 1h 10m 21s\tremaining: 21m 22s\n",
      "767:\tlearn: 6.9199700\ttotal: 1h 10m 26s\tremaining: 21m 16s\n",
      "768:\tlearn: 6.9133790\ttotal: 1h 10m 32s\tremaining: 21m 11s\n",
      "769:\tlearn: 6.9064039\ttotal: 1h 10m 37s\tremaining: 21m 5s\n",
      "770:\tlearn: 6.9036242\ttotal: 1h 10m 42s\tremaining: 21m\n",
      "771:\tlearn: 6.8991460\ttotal: 1h 10m 48s\tremaining: 20m 54s\n",
      "772:\tlearn: 6.8918239\ttotal: 1h 10m 52s\tremaining: 20m 48s\n",
      "773:\tlearn: 6.8876255\ttotal: 1h 10m 57s\tremaining: 20m 43s\n",
      "774:\tlearn: 6.8833576\ttotal: 1h 11m 3s\tremaining: 20m 37s\n",
      "775:\tlearn: 6.8795737\ttotal: 1h 11m 8s\tremaining: 20m 32s\n",
      "776:\tlearn: 6.8756569\ttotal: 1h 11m 14s\tremaining: 20m 26s\n",
      "777:\tlearn: 6.8702308\ttotal: 1h 11m 20s\tremaining: 20m 21s\n",
      "778:\tlearn: 6.8661109\ttotal: 1h 11m 25s\tremaining: 20m 15s\n",
      "779:\tlearn: 6.8627631\ttotal: 1h 11m 31s\tremaining: 20m 10s\n",
      "780:\tlearn: 6.8573537\ttotal: 1h 11m 36s\tremaining: 20m 4s\n",
      "781:\tlearn: 6.8551440\ttotal: 1h 11m 42s\tremaining: 19m 59s\n",
      "782:\tlearn: 6.8531051\ttotal: 1h 11m 48s\tremaining: 19m 53s\n",
      "783:\tlearn: 6.8505358\ttotal: 1h 11m 53s\tremaining: 19m 48s\n",
      "784:\tlearn: 6.8407590\ttotal: 1h 11m 59s\tremaining: 19m 42s\n",
      "785:\tlearn: 6.8359226\ttotal: 1h 12m 4s\tremaining: 19m 37s\n",
      "786:\tlearn: 6.8308129\ttotal: 1h 12m 10s\tremaining: 19m 32s\n",
      "787:\tlearn: 6.8288550\ttotal: 1h 12m 15s\tremaining: 19m 26s\n",
      "788:\tlearn: 6.8260784\ttotal: 1h 12m 21s\tremaining: 19m 21s\n",
      "789:\tlearn: 6.8239070\ttotal: 1h 12m 26s\tremaining: 19m 15s\n",
      "790:\tlearn: 6.8198139\ttotal: 1h 12m 32s\tremaining: 19m 9s\n",
      "791:\tlearn: 6.8137706\ttotal: 1h 12m 37s\tremaining: 19m 4s\n",
      "792:\tlearn: 6.8106402\ttotal: 1h 12m 42s\tremaining: 18m 58s\n",
      "793:\tlearn: 6.8041648\ttotal: 1h 12m 47s\tremaining: 18m 53s\n",
      "794:\tlearn: 6.8006088\ttotal: 1h 12m 53s\tremaining: 18m 47s\n",
      "795:\tlearn: 6.7974920\ttotal: 1h 12m 59s\tremaining: 18m 42s\n",
      "796:\tlearn: 6.7951133\ttotal: 1h 13m 4s\tremaining: 18m 36s\n",
      "797:\tlearn: 6.7917025\ttotal: 1h 13m 10s\tremaining: 18m 31s\n",
      "798:\tlearn: 6.7864129\ttotal: 1h 13m 15s\tremaining: 18m 25s\n",
      "799:\tlearn: 6.7831574\ttotal: 1h 13m 20s\tremaining: 18m 20s\n",
      "800:\tlearn: 6.7808856\ttotal: 1h 13m 25s\tremaining: 18m 14s\n",
      "801:\tlearn: 6.7696270\ttotal: 1h 13m 31s\tremaining: 18m 9s\n",
      "802:\tlearn: 6.7661282\ttotal: 1h 13m 37s\tremaining: 18m 3s\n",
      "803:\tlearn: 6.7629673\ttotal: 1h 13m 44s\tremaining: 17m 58s\n",
      "804:\tlearn: 6.7574359\ttotal: 1h 13m 50s\tremaining: 17m 53s\n",
      "805:\tlearn: 6.7547853\ttotal: 1h 13m 55s\tremaining: 17m 47s\n",
      "806:\tlearn: 6.7518552\ttotal: 1h 14m\tremaining: 17m 42s\n",
      "807:\tlearn: 6.7472338\ttotal: 1h 14m 5s\tremaining: 17m 36s\n",
      "808:\tlearn: 6.7410472\ttotal: 1h 14m 11s\tremaining: 17m 30s\n",
      "809:\tlearn: 6.7385779\ttotal: 1h 14m 17s\tremaining: 17m 25s\n",
      "810:\tlearn: 6.7341276\ttotal: 1h 14m 22s\tremaining: 17m 19s\n",
      "811:\tlearn: 6.7284969\ttotal: 1h 14m 27s\tremaining: 17m 14s\n",
      "812:\tlearn: 6.7252490\ttotal: 1h 14m 33s\tremaining: 17m 9s\n",
      "813:\tlearn: 6.7178162\ttotal: 1h 14m 38s\tremaining: 17m 3s\n",
      "814:\tlearn: 6.7106717\ttotal: 1h 14m 44s\tremaining: 16m 57s\n",
      "815:\tlearn: 6.7077874\ttotal: 1h 14m 49s\tremaining: 16m 52s\n",
      "816:\tlearn: 6.7012830\ttotal: 1h 14m 54s\tremaining: 16m 46s\n",
      "817:\tlearn: 6.6981991\ttotal: 1h 15m\tremaining: 16m 41s\n",
      "818:\tlearn: 6.6951958\ttotal: 1h 15m 6s\tremaining: 16m 35s\n",
      "819:\tlearn: 6.6917680\ttotal: 1h 15m 11s\tremaining: 16m 30s\n",
      "820:\tlearn: 6.6878368\ttotal: 1h 15m 16s\tremaining: 16m 24s\n",
      "821:\tlearn: 6.6859869\ttotal: 1h 15m 22s\tremaining: 16m 19s\n",
      "822:\tlearn: 6.6827253\ttotal: 1h 15m 27s\tremaining: 16m 13s\n",
      "823:\tlearn: 6.6808941\ttotal: 1h 15m 32s\tremaining: 16m 8s\n",
      "824:\tlearn: 6.6785598\ttotal: 1h 15m 38s\tremaining: 16m 2s\n",
      "825:\tlearn: 6.6745650\ttotal: 1h 15m 43s\tremaining: 15m 57s\n",
      "826:\tlearn: 6.6722463\ttotal: 1h 15m 49s\tremaining: 15m 51s\n",
      "827:\tlearn: 6.6688288\ttotal: 1h 15m 55s\tremaining: 15m 46s\n",
      "828:\tlearn: 6.6599542\ttotal: 1h 15m 59s\tremaining: 15m 40s\n",
      "829:\tlearn: 6.6574548\ttotal: 1h 16m 5s\tremaining: 15m 35s\n",
      "830:\tlearn: 6.6557061\ttotal: 1h 16m 10s\tremaining: 15m 29s\n",
      "831:\tlearn: 6.6526265\ttotal: 1h 16m 15s\tremaining: 15m 23s\n",
      "832:\tlearn: 6.6506686\ttotal: 1h 16m 21s\tremaining: 15m 18s\n",
      "833:\tlearn: 6.6469260\ttotal: 1h 16m 27s\tremaining: 15m 13s\n",
      "834:\tlearn: 6.6428371\ttotal: 1h 16m 32s\tremaining: 15m 7s\n",
      "835:\tlearn: 6.6387386\ttotal: 1h 16m 38s\tremaining: 15m 2s\n",
      "836:\tlearn: 6.6343556\ttotal: 1h 16m 42s\tremaining: 14m 56s\n",
      "837:\tlearn: 6.6315539\ttotal: 1h 16m 47s\tremaining: 14m 50s\n",
      "838:\tlearn: 6.6288678\ttotal: 1h 16m 53s\tremaining: 14m 45s\n",
      "839:\tlearn: 6.6263321\ttotal: 1h 16m 58s\tremaining: 14m 39s\n",
      "840:\tlearn: 6.6212593\ttotal: 1h 17m 4s\tremaining: 14m 34s\n",
      "841:\tlearn: 6.6171123\ttotal: 1h 17m 9s\tremaining: 14m 28s\n",
      "842:\tlearn: 6.6148567\ttotal: 1h 17m 15s\tremaining: 14m 23s\n",
      "843:\tlearn: 6.6100873\ttotal: 1h 17m 20s\tremaining: 14m 17s\n",
      "844:\tlearn: 6.6069078\ttotal: 1h 17m 25s\tremaining: 14m 12s\n",
      "845:\tlearn: 6.6019123\ttotal: 1h 17m 30s\tremaining: 14m 6s\n",
      "846:\tlearn: 6.6002867\ttotal: 1h 17m 35s\tremaining: 14m 1s\n",
      "847:\tlearn: 6.5978667\ttotal: 1h 17m 41s\tremaining: 13m 55s\n",
      "848:\tlearn: 6.5939023\ttotal: 1h 17m 46s\tremaining: 13m 49s\n",
      "849:\tlearn: 6.5917619\ttotal: 1h 17m 51s\tremaining: 13m 44s\n",
      "850:\tlearn: 6.5866105\ttotal: 1h 17m 56s\tremaining: 13m 38s\n",
      "851:\tlearn: 6.5808899\ttotal: 1h 18m 1s\tremaining: 13m 33s\n",
      "852:\tlearn: 6.5784664\ttotal: 1h 18m 6s\tremaining: 13m 27s\n",
      "853:\tlearn: 6.5741308\ttotal: 1h 18m 12s\tremaining: 13m 22s\n",
      "854:\tlearn: 6.5662494\ttotal: 1h 18m 17s\tremaining: 13m 16s\n",
      "855:\tlearn: 6.5645288\ttotal: 1h 18m 23s\tremaining: 13m 11s\n",
      "856:\tlearn: 6.5622153\ttotal: 1h 18m 28s\tremaining: 13m 5s\n",
      "857:\tlearn: 6.5584119\ttotal: 1h 18m 33s\tremaining: 13m\n",
      "858:\tlearn: 6.5548442\ttotal: 1h 18m 39s\tremaining: 12m 54s\n"
     ]
    },
    {
     "name": "stdout",
     "output_type": "stream",
     "text": [
      "859:\tlearn: 6.5484435\ttotal: 1h 18m 45s\tremaining: 12m 49s\n",
      "860:\tlearn: 6.5448816\ttotal: 1h 18m 50s\tremaining: 12m 43s\n",
      "861:\tlearn: 6.5404435\ttotal: 1h 18m 56s\tremaining: 12m 38s\n",
      "862:\tlearn: 6.5390502\ttotal: 1h 19m 1s\tremaining: 12m 32s\n",
      "863:\tlearn: 6.5365794\ttotal: 1h 19m 7s\tremaining: 12m 27s\n",
      "864:\tlearn: 6.5342335\ttotal: 1h 19m 12s\tremaining: 12m 21s\n",
      "865:\tlearn: 6.5315164\ttotal: 1h 19m 17s\tremaining: 12m 16s\n",
      "866:\tlearn: 6.5256295\ttotal: 1h 19m 22s\tremaining: 12m 10s\n",
      "867:\tlearn: 6.5227875\ttotal: 1h 19m 28s\tremaining: 12m 5s\n",
      "868:\tlearn: 6.5208363\ttotal: 1h 19m 33s\tremaining: 11m 59s\n",
      "869:\tlearn: 6.5186512\ttotal: 1h 19m 39s\tremaining: 11m 54s\n",
      "870:\tlearn: 6.5140908\ttotal: 1h 19m 44s\tremaining: 11m 48s\n",
      "871:\tlearn: 6.5112646\ttotal: 1h 19m 50s\tremaining: 11m 43s\n",
      "872:\tlearn: 6.5083229\ttotal: 1h 19m 55s\tremaining: 11m 37s\n",
      "873:\tlearn: 6.5051054\ttotal: 1h 20m 1s\tremaining: 11m 32s\n",
      "874:\tlearn: 6.5015742\ttotal: 1h 20m 6s\tremaining: 11m 26s\n",
      "875:\tlearn: 6.4992571\ttotal: 1h 20m 11s\tremaining: 11m 21s\n",
      "876:\tlearn: 6.4963876\ttotal: 1h 20m 17s\tremaining: 11m 15s\n",
      "877:\tlearn: 6.4931760\ttotal: 1h 20m 22s\tremaining: 11m 10s\n",
      "878:\tlearn: 6.4888048\ttotal: 1h 20m 28s\tremaining: 11m 4s\n",
      "879:\tlearn: 6.4829682\ttotal: 1h 20m 33s\tremaining: 10m 59s\n",
      "880:\tlearn: 6.4791257\ttotal: 1h 20m 38s\tremaining: 10m 53s\n",
      "881:\tlearn: 6.4767002\ttotal: 1h 20m 44s\tremaining: 10m 48s\n",
      "882:\tlearn: 6.4739060\ttotal: 1h 20m 49s\tremaining: 10m 42s\n",
      "883:\tlearn: 6.4710543\ttotal: 1h 20m 55s\tremaining: 10m 37s\n",
      "884:\tlearn: 6.4649804\ttotal: 1h 21m\tremaining: 10m 31s\n",
      "885:\tlearn: 6.4611366\ttotal: 1h 21m 5s\tremaining: 10m 26s\n",
      "886:\tlearn: 6.4585170\ttotal: 1h 21m 10s\tremaining: 10m 20s\n",
      "887:\tlearn: 6.4555386\ttotal: 1h 21m 16s\tremaining: 10m 15s\n",
      "888:\tlearn: 6.4537786\ttotal: 1h 21m 22s\tremaining: 10m 9s\n",
      "889:\tlearn: 6.4508288\ttotal: 1h 21m 27s\tremaining: 10m 4s\n",
      "890:\tlearn: 6.4491744\ttotal: 1h 21m 33s\tremaining: 9m 58s\n",
      "891:\tlearn: 6.4454951\ttotal: 1h 21m 39s\tremaining: 9m 53s\n",
      "892:\tlearn: 6.4438024\ttotal: 1h 21m 44s\tremaining: 9m 47s\n",
      "893:\tlearn: 6.4417852\ttotal: 1h 21m 50s\tremaining: 9m 42s\n",
      "894:\tlearn: 6.4359055\ttotal: 1h 21m 56s\tremaining: 9m 36s\n",
      "895:\tlearn: 6.4318166\ttotal: 1h 22m 1s\tremaining: 9m 31s\n",
      "896:\tlearn: 6.4294597\ttotal: 1h 22m 6s\tremaining: 9m 25s\n",
      "897:\tlearn: 6.4276351\ttotal: 1h 22m 11s\tremaining: 9m 20s\n",
      "898:\tlearn: 6.4241525\ttotal: 1h 22m 16s\tremaining: 9m 14s\n",
      "899:\tlearn: 6.4225446\ttotal: 1h 22m 22s\tremaining: 9m 9s\n",
      "900:\tlearn: 6.4197585\ttotal: 1h 22m 27s\tremaining: 9m 3s\n",
      "901:\tlearn: 6.4171839\ttotal: 1h 22m 33s\tremaining: 8m 58s\n",
      "902:\tlearn: 6.4129437\ttotal: 1h 22m 38s\tremaining: 8m 52s\n",
      "903:\tlearn: 6.4100288\ttotal: 1h 22m 44s\tremaining: 8m 47s\n",
      "904:\tlearn: 6.4082722\ttotal: 1h 22m 49s\tremaining: 8m 41s\n",
      "905:\tlearn: 6.4060549\ttotal: 1h 22m 55s\tremaining: 8m 36s\n",
      "906:\tlearn: 6.4040627\ttotal: 1h 23m\tremaining: 8m 30s\n",
      "907:\tlearn: 6.3991389\ttotal: 1h 23m 6s\tremaining: 8m 25s\n",
      "908:\tlearn: 6.3968871\ttotal: 1h 23m 11s\tremaining: 8m 19s\n",
      "909:\tlearn: 6.3951219\ttotal: 1h 23m 16s\tremaining: 8m 14s\n",
      "910:\tlearn: 6.3930250\ttotal: 1h 23m 22s\tremaining: 8m 8s\n",
      "911:\tlearn: 6.3885257\ttotal: 1h 23m 27s\tremaining: 8m 3s\n",
      "912:\tlearn: 6.3868517\ttotal: 1h 23m 32s\tremaining: 7m 57s\n",
      "913:\tlearn: 6.3839416\ttotal: 1h 23m 38s\tremaining: 7m 52s\n",
      "914:\tlearn: 6.3816651\ttotal: 1h 23m 44s\tremaining: 7m 46s\n",
      "915:\tlearn: 6.3784226\ttotal: 1h 23m 49s\tremaining: 7m 41s\n",
      "916:\tlearn: 6.3748909\ttotal: 1h 23m 54s\tremaining: 7m 35s\n",
      "917:\tlearn: 6.3728963\ttotal: 1h 24m\tremaining: 7m 30s\n",
      "918:\tlearn: 6.3707375\ttotal: 1h 24m 5s\tremaining: 7m 24s\n",
      "919:\tlearn: 6.3694003\ttotal: 1h 24m 11s\tremaining: 7m 19s\n",
      "920:\tlearn: 6.3650266\ttotal: 1h 24m 15s\tremaining: 7m 13s\n",
      "921:\tlearn: 6.3622922\ttotal: 1h 24m 21s\tremaining: 7m 8s\n",
      "922:\tlearn: 6.3580617\ttotal: 1h 24m 27s\tremaining: 7m 2s\n",
      "923:\tlearn: 6.3552218\ttotal: 1h 24m 32s\tremaining: 6m 57s\n",
      "924:\tlearn: 6.3509456\ttotal: 1h 24m 38s\tremaining: 6m 51s\n",
      "925:\tlearn: 6.3485289\ttotal: 1h 24m 43s\tremaining: 6m 46s\n",
      "926:\tlearn: 6.3455428\ttotal: 1h 24m 49s\tremaining: 6m 40s\n",
      "927:\tlearn: 6.3424749\ttotal: 1h 24m 54s\tremaining: 6m 35s\n",
      "928:\tlearn: 6.3372099\ttotal: 1h 24m 59s\tremaining: 6m 29s\n",
      "929:\tlearn: 6.3306768\ttotal: 1h 25m 4s\tremaining: 6m 24s\n",
      "930:\tlearn: 6.3277918\ttotal: 1h 25m 9s\tremaining: 6m 18s\n",
      "931:\tlearn: 6.3226960\ttotal: 1h 25m 15s\tremaining: 6m 13s\n",
      "932:\tlearn: 6.3178091\ttotal: 1h 25m 20s\tremaining: 6m 7s\n",
      "933:\tlearn: 6.3158114\ttotal: 1h 25m 26s\tremaining: 6m 2s\n",
      "934:\tlearn: 6.3134871\ttotal: 1h 25m 31s\tremaining: 5m 56s\n",
      "935:\tlearn: 6.3089673\ttotal: 1h 25m 36s\tremaining: 5m 51s\n",
      "936:\tlearn: 6.3054817\ttotal: 1h 25m 42s\tremaining: 5m 45s\n",
      "937:\tlearn: 6.3035123\ttotal: 1h 25m 47s\tremaining: 5m 40s\n",
      "938:\tlearn: 6.3019154\ttotal: 1h 25m 52s\tremaining: 5m 34s\n",
      "939:\tlearn: 6.2994107\ttotal: 1h 25m 58s\tremaining: 5m 29s\n",
      "940:\tlearn: 6.2973160\ttotal: 1h 26m 3s\tremaining: 5m 23s\n",
      "941:\tlearn: 6.2956991\ttotal: 1h 26m 8s\tremaining: 5m 18s\n",
      "942:\tlearn: 6.2938856\ttotal: 1h 26m 13s\tremaining: 5m 12s\n",
      "943:\tlearn: 6.2919898\ttotal: 1h 26m 19s\tremaining: 5m 7s\n",
      "944:\tlearn: 6.2862526\ttotal: 1h 26m 24s\tremaining: 5m 1s\n",
      "945:\tlearn: 6.2850175\ttotal: 1h 26m 30s\tremaining: 4m 56s\n",
      "946:\tlearn: 6.2816977\ttotal: 1h 26m 35s\tremaining: 4m 50s\n",
      "947:\tlearn: 6.2782066\ttotal: 1h 26m 40s\tremaining: 4m 45s\n",
      "948:\tlearn: 6.2758663\ttotal: 1h 26m 46s\tremaining: 4m 39s\n",
      "949:\tlearn: 6.2728056\ttotal: 1h 26m 51s\tremaining: 4m 34s\n",
      "950:\tlearn: 6.2712441\ttotal: 1h 26m 56s\tremaining: 4m 28s\n",
      "951:\tlearn: 6.2669450\ttotal: 1h 27m 2s\tremaining: 4m 23s\n",
      "952:\tlearn: 6.2648032\ttotal: 1h 27m 8s\tremaining: 4m 17s\n",
      "953:\tlearn: 6.2623723\ttotal: 1h 27m 14s\tremaining: 4m 12s\n",
      "954:\tlearn: 6.2610039\ttotal: 1h 27m 20s\tremaining: 4m 6s\n",
      "955:\tlearn: 6.2598015\ttotal: 1h 27m 25s\tremaining: 4m 1s\n",
      "956:\tlearn: 6.2564279\ttotal: 1h 27m 31s\tremaining: 3m 55s\n",
      "957:\tlearn: 6.2533506\ttotal: 1h 27m 37s\tremaining: 3m 50s\n",
      "958:\tlearn: 6.2511982\ttotal: 1h 27m 42s\tremaining: 3m 44s\n",
      "959:\tlearn: 6.2496273\ttotal: 1h 27m 47s\tremaining: 3m 39s\n",
      "960:\tlearn: 6.2461278\ttotal: 1h 27m 52s\tremaining: 3m 33s\n",
      "961:\tlearn: 6.2444003\ttotal: 1h 27m 57s\tremaining: 3m 28s\n",
      "962:\tlearn: 6.2424550\ttotal: 1h 28m 3s\tremaining: 3m 22s\n",
      "963:\tlearn: 6.2406713\ttotal: 1h 28m 8s\tremaining: 3m 17s\n",
      "964:\tlearn: 6.2374855\ttotal: 1h 28m 14s\tremaining: 3m 12s\n",
      "965:\tlearn: 6.2327600\ttotal: 1h 28m 19s\tremaining: 3m 6s\n",
      "966:\tlearn: 6.2310262\ttotal: 1h 28m 25s\tremaining: 3m 1s\n",
      "967:\tlearn: 6.2278239\ttotal: 1h 28m 29s\tremaining: 2m 55s\n",
      "968:\tlearn: 6.2260719\ttotal: 1h 28m 34s\tremaining: 2m 50s\n",
      "969:\tlearn: 6.2228799\ttotal: 1h 28m 40s\tremaining: 2m 44s\n",
      "970:\tlearn: 6.2198201\ttotal: 1h 28m 44s\tremaining: 2m 39s\n",
      "971:\tlearn: 6.2165874\ttotal: 1h 28m 50s\tremaining: 2m 33s\n",
      "972:\tlearn: 6.2139980\ttotal: 1h 28m 56s\tremaining: 2m 28s\n",
      "973:\tlearn: 6.2079180\ttotal: 1h 29m\tremaining: 2m 22s\n",
      "974:\tlearn: 6.2041074\ttotal: 1h 29m 6s\tremaining: 2m 17s\n",
      "975:\tlearn: 6.2018432\ttotal: 1h 29m 12s\tremaining: 2m 11s\n",
      "976:\tlearn: 6.1998095\ttotal: 1h 29m 17s\tremaining: 2m 6s\n",
      "977:\tlearn: 6.1976591\ttotal: 1h 29m 22s\tremaining: 2m\n",
      "978:\tlearn: 6.1945451\ttotal: 1h 29m 27s\tremaining: 1m 55s\n",
      "979:\tlearn: 6.1899973\ttotal: 1h 29m 33s\tremaining: 1m 49s\n",
      "980:\tlearn: 6.1881235\ttotal: 1h 29m 39s\tremaining: 1m 44s\n",
      "981:\tlearn: 6.1864425\ttotal: 1h 29m 44s\tremaining: 1m 38s\n",
      "982:\tlearn: 6.1819544\ttotal: 1h 29m 49s\tremaining: 1m 33s\n",
      "983:\tlearn: 6.1800324\ttotal: 1h 29m 54s\tremaining: 1m 27s\n",
      "984:\tlearn: 6.1777999\ttotal: 1h 30m\tremaining: 1m 22s\n",
      "985:\tlearn: 6.1739524\ttotal: 1h 30m 6s\tremaining: 1m 16s\n",
      "986:\tlearn: 6.1713654\ttotal: 1h 30m 11s\tremaining: 1m 11s\n",
      "987:\tlearn: 6.1697237\ttotal: 1h 30m 16s\tremaining: 1m 5s\n",
      "988:\tlearn: 6.1662040\ttotal: 1h 30m 21s\tremaining: 1m\n",
      "989:\tlearn: 6.1642745\ttotal: 1h 30m 27s\tremaining: 54.8s\n",
      "990:\tlearn: 6.1611177\ttotal: 1h 30m 32s\tremaining: 49.3s\n",
      "991:\tlearn: 6.1586195\ttotal: 1h 30m 38s\tremaining: 43.9s\n",
      "992:\tlearn: 6.1532657\ttotal: 1h 30m 43s\tremaining: 38.4s\n",
      "993:\tlearn: 6.1512054\ttotal: 1h 30m 49s\tremaining: 32.9s\n",
      "994:\tlearn: 6.1494591\ttotal: 1h 30m 54s\tremaining: 27.4s\n",
      "995:\tlearn: 6.1478069\ttotal: 1h 30m 59s\tremaining: 21.9s\n",
      "996:\tlearn: 6.1435019\ttotal: 1h 31m 5s\tremaining: 16.4s\n",
      "997:\tlearn: 6.1386983\ttotal: 1h 31m 11s\tremaining: 11s\n",
      "998:\tlearn: 6.1369319\ttotal: 1h 31m 16s\tremaining: 5.48s\n",
      "999:\tlearn: 6.1346170\ttotal: 1h 31m 21s\tremaining: 0us\n"
     ]
    },
    {
     "data": {
      "text/plain": [
       "<catboost.core.CatBoostRegressor at 0x17aa18690a0>"
      ]
     },
     "execution_count": 42,
     "metadata": {},
     "output_type": "execute_result"
    }
   ],
   "source": [
    "from catboost import CatBoostRegressor\n",
    "from sklearn.model_selection import train_test_split\n",
    "seed =1422\n",
    "model1= CatBoostRegressor(\n",
    "                          eval_metric = 'RMSE',\n",
    "                          cat_features = ['vehicleCode','route_name','is_in_target','weekday'],\n",
    "                          random_state=seed,\n",
    "                         verbose = True)\n",
    "\n",
    "X_train = train_data.iloc[:,:-1]\n",
    "y_train = train_data.iloc[:,-1]\n",
    "X_test = test_data.iloc[:,:-1]\n",
    "y_test = test_data.iloc[:,-1]\n",
    "\n",
    "model1.fit(X_train , y_train)"
   ]
  },
  {
   "cell_type": "code",
   "execution_count": 2,
   "metadata": {},
   "outputs": [],
   "source": [
    "import pickle\n",
    "# 파일명\n",
    "filename = 'final_model_insight.model'\n",
    "\n",
    "# 모델 저장\n",
    "pickle.dump(model1, open(filename, 'wb'))"
   ]
  },
  {
   "cell_type": "code",
   "execution_count": 110,
   "metadata": {
    "ExecuteTime": {
     "end_time": "2022-11-07T21:51:40.018257Z",
     "start_time": "2022-11-07T21:51:34.936921Z"
    }
   },
   "outputs": [
    {
     "name": "stdout",
     "output_type": "stream",
     "text": [
      "rmse : 11.890973595281583\n",
      "r2 : 0.9983619446736846\n"
     ]
    }
   ],
   "source": [
    "# check the performance\n",
    "\n",
    "from sklearn.metrics import mean_squared_error, r2_score\n",
    "pred = model1.predict(X_test)\n",
    "mse = mean_squared_error(y_test , pred)\n",
    "r2 = r2_score(y_test, pred)\n",
    "print(f'rmse : {np.sqrt(mse)}')\n",
    "print(f'r2 : {r2}')"
   ]
  },
  {
   "cell_type": "code",
   "execution_count": 97,
   "metadata": {},
   "outputs": [
    {
     "name": "stderr",
     "output_type": "stream",
     "text": [
      "  3%|▎         | 2/73 [00:00<00:11,  6.10it/s]"
     ]
    },
    {
     "name": "stdout",
     "output_type": "stream",
     "text": [
      "vehicle code : W102 , rmse : 2.440710285094783\n",
      "vehicle code : W103 , rmse : 10.401355358940952\n"
     ]
    },
    {
     "name": "stderr",
     "output_type": "stream",
     "text": [
      "  5%|▌         | 4/73 [00:00<00:10,  6.81it/s]"
     ]
    },
    {
     "name": "stdout",
     "output_type": "stream",
     "text": [
      "vehicle code : W104 , rmse : 3.7513489392037305\n",
      "vehicle code : W105 , rmse : 2.8044030363755126\n"
     ]
    },
    {
     "name": "stderr",
     "output_type": "stream",
     "text": [
      "  8%|▊         | 6/73 [00:00<00:10,  6.66it/s]"
     ]
    },
    {
     "name": "stdout",
     "output_type": "stream",
     "text": [
      "vehicle code : W106 , rmse : 4.103472755899457\n",
      "vehicle code : W108 , rmse : 3.5048557392662993\n"
     ]
    },
    {
     "name": "stderr",
     "output_type": "stream",
     "text": [
      " 11%|█         | 8/73 [00:01<00:09,  6.65it/s]"
     ]
    },
    {
     "name": "stdout",
     "output_type": "stream",
     "text": [
      "vehicle code : W109 , rmse : 3.692375611472862\n",
      "vehicle code : W110 , rmse : 2.735318325114075\n"
     ]
    },
    {
     "name": "stderr",
     "output_type": "stream",
     "text": [
      "\r",
      " 14%|█▎        | 10/73 [00:01<00:09,  6.68it/s]"
     ]
    },
    {
     "name": "stdout",
     "output_type": "stream",
     "text": [
      "vehicle code : W111 , rmse : 3.0252874370585983\n",
      "vehicle code : W112 , rmse : 2.8302491421433524\n"
     ]
    },
    {
     "name": "stderr",
     "output_type": "stream",
     "text": [
      " 16%|█▋        | 12/73 [00:01<00:09,  6.68it/s]"
     ]
    },
    {
     "name": "stdout",
     "output_type": "stream",
     "text": [
      "vehicle code : W113 , rmse : 2.2834819732073877\n",
      "vehicle code : W114 , rmse : 2.765169035694966\n"
     ]
    },
    {
     "name": "stderr",
     "output_type": "stream",
     "text": [
      " 19%|█▉        | 14/73 [00:02<00:10,  5.84it/s]"
     ]
    },
    {
     "name": "stdout",
     "output_type": "stream",
     "text": [
      "vehicle code : W115 , rmse : 2.5158691734747953\n",
      "vehicle code : W117 , rmse : 3.8060000832329495\n"
     ]
    },
    {
     "name": "stderr",
     "output_type": "stream",
     "text": [
      " 22%|██▏       | 16/73 [00:02<00:08,  6.37it/s]"
     ]
    },
    {
     "name": "stdout",
     "output_type": "stream",
     "text": [
      "vehicle code : W118 , rmse : 9.099737972565112\n",
      "vehicle code : W119 , rmse : 4.186978746539346\n"
     ]
    },
    {
     "name": "stderr",
     "output_type": "stream",
     "text": [
      " 25%|██▍       | 18/73 [00:02<00:07,  6.94it/s]"
     ]
    },
    {
     "name": "stdout",
     "output_type": "stream",
     "text": [
      "vehicle code : W120-1 , rmse : 3.3786428453339887\n",
      "vehicle code : W120-2 , rmse : 4.234133229479819\n"
     ]
    },
    {
     "name": "stderr",
     "output_type": "stream",
     "text": [
      " 27%|██▋       | 20/73 [00:03<00:07,  6.91it/s]"
     ]
    },
    {
     "name": "stdout",
     "output_type": "stream",
     "text": [
      "vehicle code : W40-1 , rmse : 8.348574531510689\n",
      "vehicle code : W40-2 , rmse : 11.38796003683214\n"
     ]
    },
    {
     "name": "stderr",
     "output_type": "stream",
     "text": [
      " 30%|███       | 22/73 [00:03<00:07,  6.82it/s]"
     ]
    },
    {
     "name": "stdout",
     "output_type": "stream",
     "text": [
      "vehicle code : W41-1 , rmse : 5.115532565846587\n",
      "vehicle code : W41-2 , rmse : 4.45172404716102\n"
     ]
    },
    {
     "name": "stderr",
     "output_type": "stream",
     "text": [
      " 33%|███▎      | 24/73 [00:03<00:07,  6.82it/s]"
     ]
    },
    {
     "name": "stdout",
     "output_type": "stream",
     "text": [
      "vehicle code : W42-1 , rmse : 3.6416690571536563\n",
      "vehicle code : W42-2 , rmse : 5.123733816859869\n"
     ]
    },
    {
     "name": "stderr",
     "output_type": "stream",
     "text": [
      " 36%|███▌      | 26/73 [00:03<00:07,  6.65it/s]"
     ]
    },
    {
     "name": "stdout",
     "output_type": "stream",
     "text": [
      "vehicle code : W44-1 , rmse : 15.11297937191627\n",
      "vehicle code : W44-2 , rmse : 10.836183840141105\n"
     ]
    },
    {
     "name": "stderr",
     "output_type": "stream",
     "text": [
      " 38%|███▊      | 28/73 [00:04<00:07,  6.10it/s]"
     ]
    },
    {
     "name": "stdout",
     "output_type": "stream",
     "text": [
      "vehicle code : W44-スポット , rmse : 8.074603255925394\n",
      "vehicle code : W45-1 , rmse : 8.512636841793691\n"
     ]
    },
    {
     "name": "stderr",
     "output_type": "stream",
     "text": [
      " 41%|████      | 30/73 [00:04<00:07,  5.65it/s]"
     ]
    },
    {
     "name": "stdout",
     "output_type": "stream",
     "text": [
      "vehicle code : W45-2 , rmse : 5.383256771166033\n",
      "vehicle code : W46 , rmse : 36.492278025427055\n"
     ]
    },
    {
     "name": "stderr",
     "output_type": "stream",
     "text": [
      " 44%|████▍     | 32/73 [00:04<00:07,  5.85it/s]"
     ]
    },
    {
     "name": "stdout",
     "output_type": "stream",
     "text": [
      "vehicle code : W46-スポット , rmse : 20.194829493520377\n",
      "vehicle code : W47-1 , rmse : 4.30982806357285\n"
     ]
    },
    {
     "name": "stderr",
     "output_type": "stream",
     "text": [
      " 47%|████▋     | 34/73 [00:05<00:06,  5.91it/s]"
     ]
    },
    {
     "name": "stdout",
     "output_type": "stream",
     "text": [
      "vehicle code : W47-2 , rmse : 68.81551454862796\n",
      "vehicle code : W47-3 , rmse : 9.527639572595126\n"
     ]
    },
    {
     "name": "stderr",
     "output_type": "stream",
     "text": [
      " 49%|████▉     | 36/73 [00:05<00:05,  6.35it/s]"
     ]
    },
    {
     "name": "stdout",
     "output_type": "stream",
     "text": [
      "vehicle code : W52 , rmse : 3.227633151323395\n",
      "vehicle code : W53 , rmse : 3.2900010002066553\n"
     ]
    },
    {
     "name": "stderr",
     "output_type": "stream",
     "text": [
      " 52%|█████▏    | 38/73 [00:05<00:05,  6.03it/s]"
     ]
    },
    {
     "name": "stdout",
     "output_type": "stream",
     "text": [
      "vehicle code : W54 , rmse : 17.118755743461954\n",
      "vehicle code : W69 , rmse : 2.8400108181688597\n"
     ]
    },
    {
     "name": "stderr",
     "output_type": "stream",
     "text": [
      " 55%|█████▍    | 40/73 [00:06<00:04,  6.67it/s]"
     ]
    },
    {
     "name": "stdout",
     "output_type": "stream",
     "text": [
      "vehicle code : W70 , rmse : 2.411508241568788\n",
      "vehicle code : W71 , rmse : 4.25227574873193\n"
     ]
    },
    {
     "name": "stderr",
     "output_type": "stream",
     "text": [
      " 58%|█████▊    | 42/73 [00:06<00:04,  6.92it/s]"
     ]
    },
    {
     "name": "stdout",
     "output_type": "stream",
     "text": [
      "vehicle code : W72 , rmse : 3.6727485926292163\n",
      "vehicle code : W73 , rmse : 2.3592989216162397\n"
     ]
    },
    {
     "name": "stderr",
     "output_type": "stream",
     "text": [
      " 60%|██████    | 44/73 [00:06<00:04,  6.37it/s]"
     ]
    },
    {
     "name": "stdout",
     "output_type": "stream",
     "text": [
      "vehicle code : W74 , rmse : 3.004034179858167\n",
      "vehicle code : W75 , rmse : 3.9192755153484318\n"
     ]
    },
    {
     "name": "stderr",
     "output_type": "stream",
     "text": [
      " 63%|██████▎   | 46/73 [00:07<00:04,  6.75it/s]"
     ]
    },
    {
     "name": "stdout",
     "output_type": "stream",
     "text": [
      "vehicle code : W76 , rmse : 2.9013254402901762\n",
      "vehicle code : W77 , rmse : 2.3282597575865305\n"
     ]
    },
    {
     "name": "stderr",
     "output_type": "stream",
     "text": [
      " 66%|██████▌   | 48/73 [00:07<00:03,  6.50it/s]"
     ]
    },
    {
     "name": "stdout",
     "output_type": "stream",
     "text": [
      "vehicle code : W78 , rmse : 2.2706847832425394\n",
      "vehicle code : W79 , rmse : 4.115090572017384\n"
     ]
    },
    {
     "name": "stderr",
     "output_type": "stream",
     "text": [
      " 68%|██████▊   | 50/73 [00:07<00:03,  6.60it/s]"
     ]
    },
    {
     "name": "stdout",
     "output_type": "stream",
     "text": [
      "vehicle code : W80 , rmse : 2.6402305999951783\n",
      "vehicle code : W82-2 , rmse : 4.040145747874769\n"
     ]
    },
    {
     "name": "stderr",
     "output_type": "stream",
     "text": [
      " 71%|███████   | 52/73 [00:08<00:02,  7.02it/s]"
     ]
    },
    {
     "name": "stdout",
     "output_type": "stream",
     "text": [
      "vehicle code : W83-1 , rmse : 19.108824006579084\n",
      "vehicle code : W83-2 , rmse : 6.05727356567255\n"
     ]
    },
    {
     "name": "stderr",
     "output_type": "stream",
     "text": [
      " 74%|███████▍  | 54/73 [00:08<00:02,  6.88it/s]"
     ]
    },
    {
     "name": "stdout",
     "output_type": "stream",
     "text": [
      "vehicle code : W83-3 , rmse : 4.145617581915901\n",
      "vehicle code : W84 , rmse : 5.428721131849214\n"
     ]
    },
    {
     "name": "stderr",
     "output_type": "stream",
     "text": [
      " 78%|███████▊  | 57/73 [00:08<00:02,  7.83it/s]"
     ]
    },
    {
     "name": "stdout",
     "output_type": "stream",
     "text": [
      "vehicle code : W86 , rmse : 3.1949463114544194\n",
      "vehicle code : W87-1 , rmse : 2.686039262430143\n",
      "vehicle code : W87-2 , rmse : 4.861705014538233\n"
     ]
    },
    {
     "name": "stderr",
     "output_type": "stream",
     "text": [
      " 81%|████████  | 59/73 [00:08<00:01,  7.24it/s]"
     ]
    },
    {
     "name": "stdout",
     "output_type": "stream",
     "text": [
      "vehicle code : W90 , rmse : 3.39615729631464\n",
      "vehicle code : W91 , rmse : 4.598845867238962\n"
     ]
    },
    {
     "name": "stderr",
     "output_type": "stream",
     "text": [
      " 84%|████████▎ | 61/73 [00:09<00:01,  7.39it/s]"
     ]
    },
    {
     "name": "stdout",
     "output_type": "stream",
     "text": [
      "vehicle code : W92-1 , rmse : 3.100408432985313\n",
      "vehicle code : W93-1 , rmse : 2.755856380723653\n"
     ]
    },
    {
     "name": "stderr",
     "output_type": "stream",
     "text": [
      " 86%|████████▋ | 63/73 [00:09<00:01,  7.49it/s]"
     ]
    },
    {
     "name": "stdout",
     "output_type": "stream",
     "text": [
      "vehicle code : W93-2 , rmse : 20.220575447838822\n",
      "vehicle code : W94 , rmse : 4.312026694097341\n"
     ]
    },
    {
     "name": "stderr",
     "output_type": "stream",
     "text": [
      " 89%|████████▉ | 65/73 [00:09<00:01,  6.76it/s]"
     ]
    },
    {
     "name": "stdout",
     "output_type": "stream",
     "text": [
      "vehicle code : W95-1 , rmse : 3.1376723401196123\n",
      "vehicle code : W95-2 , rmse : 2.416859859046929\n"
     ]
    },
    {
     "name": "stderr",
     "output_type": "stream",
     "text": [
      " 92%|█████████▏| 67/73 [00:10<00:01,  5.66it/s]"
     ]
    },
    {
     "name": "stdout",
     "output_type": "stream",
     "text": [
      "vehicle code : W97-1 , rmse : 18.326159510218137\n",
      "vehicle code : W97-2 , rmse : 13.99327104738137\n"
     ]
    },
    {
     "name": "stderr",
     "output_type": "stream",
     "text": [
      "\r",
      " 93%|█████████▎| 68/73 [00:10<00:00,  6.27it/s]"
     ]
    },
    {
     "name": "stdout",
     "output_type": "stream",
     "text": [
      "vehicle code : W98-1 , rmse : 2.301766841732547\n",
      "vehicle code : W98-2 , rmse : 3.5467570188245277\n"
     ]
    },
    {
     "name": "stderr",
     "output_type": "stream",
     "text": [
      " 97%|█████████▋| 71/73 [00:10<00:00,  6.54it/s]"
     ]
    },
    {
     "name": "stdout",
     "output_type": "stream",
     "text": [
      "vehicle code : 座間エンジン（1・2・4時区）-1 , rmse : 6.337039974390664\n",
      "vehicle code : 座間エンジン（1・2・4時区）-2 , rmse : 2.9992232553906213\n"
     ]
    },
    {
     "name": "stderr",
     "output_type": "stream",
     "text": [
      "100%|██████████| 73/73 [00:10<00:00,  6.64it/s]"
     ]
    },
    {
     "name": "stdout",
     "output_type": "stream",
     "text": [
      "vehicle code : 座間エンジン（3時区）-1 , rmse : 22.942310367058834\n",
      "vehicle code : 座間エンジン（3時区）-2 , rmse : 5.8523442480061965\n"
     ]
    },
    {
     "name": "stderr",
     "output_type": "stream",
     "text": [
      "\n"
     ]
    }
   ],
   "source": [
    "# RMSE by VehicleCode\n",
    "\n",
    "from tqdm import tqdm\n",
    "vehicleCode = test_data['vehicleCode'].unique()\n",
    "res = []\n",
    "for vehicle in tqdm(vehicleCode):\n",
    "    temp = test_data[test_data['vehicleCode']==vehicle]\n",
    "    X_temp = temp.iloc[:, :-1]\n",
    "    y_temp= temp.iloc[:, -1]\n",
    "    pred = model1.predict(X_temp)\n",
    "    mse = mean_squared_error(y_temp , pred)\n",
    "    rmse = np.sqrt(mse)\n",
    "    res.append(rmse)\n",
    "    #r2 = r2_score(y_test, pred)\n",
    "    print(\"vehicle code : {} , rmse : {}\".format(vehicle, rmse))\n",
    "    #print(f'r2 : {r2}')\n",
    "    "
   ]
  },
  {
   "cell_type": "code",
   "execution_count": 111,
   "metadata": {},
   "outputs": [
    {
     "data": {
      "text/plain": [
       "<AxesSubplot:xlabel='dif', ylabel='Density'>"
      ]
     },
     "execution_count": 111,
     "metadata": {},
     "output_type": "execute_result"
    },
    {
     "data": {
      "image/png": "[encoded data removed]",
      "text/plain": [
       "<Figure size 432x288 with 1 Axes>"
      ]
     },
     "metadata": {
      "needs_background": "light"
     },
     "output_type": "display_data"
    }
   ],
   "source": [
    "show = pd.DataFrame()\n",
    "show['gt'] = y_test\n",
    "show['pred'] = pred\n",
    "show['dif'] = show['gt']-show['pred']\n",
    "sns.kdeplot(show['dif'])\n"
   ]
  },
  {
   "cell_type": "code",
   "execution_count": 113,
   "metadata": {},
   "outputs": [
    {
     "data": {
      "text/html": [
       "<div>\n",
       "<style scoped>\n",
       "    .dataframe tbody tr th:only-of-type {\n",
       "        vertical-align: middle;\n",
       "    }\n",
       "\n",
       "    .dataframe tbody tr th {\n",
       "        vertical-align: top;\n",
       "    }\n",
       "\n",
       "    .dataframe thead th {\n",
       "        text-align: right;\n",
       "    }\n",
       "</style>\n",
       "<table border=\"1\" class=\"dataframe\">\n",
       "  <thead>\n",
       "    <tr style=\"text-align: right;\">\n",
       "      <th></th>\n",
       "      <th>vehicleCode</th>\n",
       "      <th>lat</th>\n",
       "      <th>lng</th>\n",
       "      <th>velocity</th>\n",
       "      <th>distance</th>\n",
       "      <th>is_in_target</th>\n",
       "      <th>total_distance_mean_vehicle</th>\n",
       "      <th>left_distance</th>\n",
       "      <th>cum_sum_time</th>\n",
       "      <th>total_time</th>\n",
       "      <th>route_name</th>\n",
       "      <th>weekday</th>\n",
       "      <th>velocity_mean_5sec</th>\n",
       "      <th>velocity_std_5sec</th>\n",
       "      <th>velocity_mean_weekday</th>\n",
       "      <th>velocity_std_weekday</th>\n",
       "      <th>left_time</th>\n",
       "      <th>gt</th>\n",
       "      <th>pred</th>\n",
       "    </tr>\n",
       "  </thead>\n",
       "  <tbody>\n",
       "    <tr>\n",
       "      <th>31273</th>\n",
       "      <td>W102</td>\n",
       "      <td>35.535017</td>\n",
       "      <td>139.651147</td>\n",
       "      <td>0.000000</td>\n",
       "      <td>0.000000</td>\n",
       "      <td>0</td>\n",
       "      <td>112856.851854</td>\n",
       "      <td>122138.193257</td>\n",
       "      <td>0.0</td>\n",
       "      <td>42657.0</td>\n",
       "      <td>00W102</td>\n",
       "      <td>4</td>\n",
       "      <td>12.780346</td>\n",
       "      <td>8.063523</td>\n",
       "      <td>12.702903</td>\n",
       "      <td>49.704713</td>\n",
       "      <td>710</td>\n",
       "      <td>710</td>\n",
       "      <td>712.087958</td>\n",
       "    </tr>\n",
       "    <tr>\n",
       "      <th>31274</th>\n",
       "      <td>W102</td>\n",
       "      <td>35.534988</td>\n",
       "      <td>139.651211</td>\n",
       "      <td>0.018537</td>\n",
       "      <td>6.636338</td>\n",
       "      <td>0</td>\n",
       "      <td>112856.851854</td>\n",
       "      <td>122131.556919</td>\n",
       "      <td>358.0</td>\n",
       "      <td>42657.0</td>\n",
       "      <td>02W102</td>\n",
       "      <td>4</td>\n",
       "      <td>12.842753</td>\n",
       "      <td>10.408428</td>\n",
       "      <td>12.702903</td>\n",
       "      <td>49.704713</td>\n",
       "      <td>704</td>\n",
       "      <td>704</td>\n",
       "      <td>709.224480</td>\n",
       "    </tr>\n",
       "    <tr>\n",
       "      <th>31275</th>\n",
       "      <td>W102</td>\n",
       "      <td>35.534988</td>\n",
       "      <td>139.651211</td>\n",
       "      <td>0.000000</td>\n",
       "      <td>0.000000</td>\n",
       "      <td>0</td>\n",
       "      <td>112856.851854</td>\n",
       "      <td>122131.556919</td>\n",
       "      <td>359.0</td>\n",
       "      <td>42657.0</td>\n",
       "      <td>02W102</td>\n",
       "      <td>4</td>\n",
       "      <td>12.842753</td>\n",
       "      <td>10.408428</td>\n",
       "      <td>12.702903</td>\n",
       "      <td>49.704713</td>\n",
       "      <td>704</td>\n",
       "      <td>704</td>\n",
       "      <td>709.275554</td>\n",
       "    </tr>\n",
       "    <tr>\n",
       "      <th>31276</th>\n",
       "      <td>W102</td>\n",
       "      <td>35.534990</td>\n",
       "      <td>139.651403</td>\n",
       "      <td>0.028831</td>\n",
       "      <td>17.413900</td>\n",
       "      <td>0</td>\n",
       "      <td>112856.851854</td>\n",
       "      <td>122114.143019</td>\n",
       "      <td>963.0</td>\n",
       "      <td>42657.0</td>\n",
       "      <td>02W102</td>\n",
       "      <td>4</td>\n",
       "      <td>11.489974</td>\n",
       "      <td>7.494859</td>\n",
       "      <td>12.702903</td>\n",
       "      <td>49.704713</td>\n",
       "      <td>694</td>\n",
       "      <td>694</td>\n",
       "      <td>698.119580</td>\n",
       "    </tr>\n",
       "    <tr>\n",
       "      <th>31277</th>\n",
       "      <td>W102</td>\n",
       "      <td>35.535023</td>\n",
       "      <td>139.651470</td>\n",
       "      <td>0.004539</td>\n",
       "      <td>7.094093</td>\n",
       "      <td>0</td>\n",
       "      <td>112856.851854</td>\n",
       "      <td>122107.048926</td>\n",
       "      <td>2526.0</td>\n",
       "      <td>42657.0</td>\n",
       "      <td>02W102</td>\n",
       "      <td>4</td>\n",
       "      <td>10.716876</td>\n",
       "      <td>7.883613</td>\n",
       "      <td>12.702903</td>\n",
       "      <td>49.704713</td>\n",
       "      <td>668</td>\n",
       "      <td>668</td>\n",
       "      <td>671.411244</td>\n",
       "    </tr>\n",
       "  </tbody>\n",
       "</table>\n",
       "</div>"
      ],
      "text/plain": [
       "      vehicleCode        lat         lng  velocity   distance  is_in_target  \\\n",
       "31273        W102  35.535017  139.651147  0.000000   0.000000             0   \n",
       "31274        W102  35.534988  139.651211  0.018537   6.636338             0   \n",
       "31275        W102  35.534988  139.651211  0.000000   0.000000             0   \n",
       "31276        W102  35.534990  139.651403  0.028831  17.413900             0   \n",
       "31277        W102  35.535023  139.651470  0.004539   7.094093             0   \n",
       "\n",
       "       total_distance_mean_vehicle  left_distance  cum_sum_time  total_time  \\\n",
       "31273                112856.851854  122138.193257           0.0     42657.0   \n",
       "31274                112856.851854  122131.556919         358.0     42657.0   \n",
       "31275                112856.851854  122131.556919         359.0     42657.0   \n",
       "31276                112856.851854  122114.143019         963.0     42657.0   \n",
       "31277                112856.851854  122107.048926        2526.0     42657.0   \n",
       "\n",
       "      route_name  weekday  velocity_mean_5sec  velocity_std_5sec  \\\n",
       "31273     00W102        4           12.780346           8.063523   \n",
       "31274     02W102        4           12.842753          10.408428   \n",
       "31275     02W102        4           12.842753          10.408428   \n",
       "31276     02W102        4           11.489974           7.494859   \n",
       "31277     02W102        4           10.716876           7.883613   \n",
       "\n",
       "       velocity_mean_weekday  velocity_std_weekday  left_time   gt        pred  \n",
       "31273              12.702903             49.704713        710  710  712.087958  \n",
       "31274              12.702903             49.704713        704  704  709.224480  \n",
       "31275              12.702903             49.704713        704  704  709.275554  \n",
       "31276              12.702903             49.704713        694  694  698.119580  \n",
       "31277              12.702903             49.704713        668  668  671.411244  "
      ]
     },
     "execution_count": 113,
     "metadata": {},
     "output_type": "execute_result"
    }
   ],
   "source": [
    "t= test_data\n",
    "t['gt'] = show['gt']\n",
    "t['pred'] = show['pred']\n",
    "t.head()"
   ]
  },
  {
   "cell_type": "code",
   "execution_count": 118,
   "metadata": {},
   "outputs": [
    {
     "name": "stdout",
     "output_type": "stream",
     "text": [
      "rmse : 9.340824596037129\n",
      "r2 : 0.9983619446736846\n"
     ]
    }
   ],
   "source": [
    "#Except Exceptional vehicleCode\n",
    "adjust_mse = mean_squared_error(t[~t['vehicleCode'].isin(['W47-2'])]['pred'],t[~t['vehicleCode'].isin(['W47-2'])]['gt'])\n",
    "adjust_r2 = r2_score(y_test, pred)\n",
    "print(f'rmse : {np.sqrt(adjust_mse)}')\n",
    "print(f'r2 : {adjust_r2}')"
   ]
  },
  {
   "cell_type": "markdown",
   "metadata": {},
   "source": [
    "### get insight from the modeling result"
   ]
  },
  {
   "cell_type": "code",
   "execution_count": 120,
   "metadata": {},
   "outputs": [
    {
     "data": {
      "text/plain": [
       "(0.0, 10.0]          45.974920\n",
       "(-10.0, 0.0]         44.582698\n",
       "(10.0, 30.0]          3.641830\n",
       "(-30.0, -10.0]        3.202919\n",
       "(30.0, 60.0]          0.781149\n",
       "(-129.248, -60.0]     0.746378\n",
       "(-60.0, -30.0]        0.651555\n",
       "(60.0, 181.28]        0.418513\n",
       "Name: dif, dtype: float64"
      ]
     },
     "execution_count": 120,
     "metadata": {},
     "output_type": "execute_result"
    }
   ],
   "source": [
    "pd.cut(show.dif,[show['dif'].min(),-60,-30,-10,0,10,30,60,show['dif'].max()]).value_counts()/len(show)*100"
   ]
  },
  {
   "cell_type": "code",
   "execution_count": 121,
   "metadata": {},
   "outputs": [
    {
     "data": {
      "text/plain": [
       "<AxesSubplot:>"
      ]
     },
     "execution_count": 121,
     "metadata": {},
     "output_type": "execute_result"
    },
    {
     "data": {
      "image/png": "[encoded data removed]",
      "text/plain": [
       "<Figure size 432x288 with 1 Axes>"
      ]
     },
     "metadata": {
      "needs_background": "light"
     },
     "output_type": "display_data"
    }
   ],
   "source": [
    "show['dif'].hist(bins=150)"
   ]
  },
  {
   "cell_type": "code",
   "execution_count": 71,
   "metadata": {},
   "outputs": [
    {
     "data": {
      "image/png": "[encoded data removed]",
      "text/plain": [
       "<Figure size 432x288 with 1 Axes>"
      ]
     },
     "metadata": {
      "needs_background": "light"
     },
     "output_type": "display_data"
    }
   ],
   "source": [
    "sns.kdeplot(show['dif'])\n"
   ]
  },
  {
   "cell_type": "code",
   "execution_count": 25,
   "metadata": {},
   "outputs": [
    {
     "name": "stderr",
     "output_type": "stream",
     "text": [
      "C:\\Users\\rkd20\\anaconda3\\lib\\site-packages\\seaborn\\_decorators.py:36: FutureWarning: Pass the following variables as keyword args: x, y. From version 0.12, the only valid positional argument will be `data`, and passing other arguments without an explicit keyword will result in an error or misinterpretation.\n",
      "  warnings.warn(\n"
     ]
    },
    {
     "data": {
      "text/plain": [
       "<AxesSubplot:ylabel='dif'>"
      ]
     },
     "execution_count": 25,
     "metadata": {},
     "output_type": "execute_result"
    },
    {
     "data": {
      "image/png": "[encoded data removed]",
      "text/plain": [
       "<Figure size 432x288 with 1 Axes>"
      ]
     },
     "metadata": {
      "needs_background": "light"
     },
     "output_type": "display_data"
    }
   ],
   "source": [
    "sns.scatterplot(show.index, show['dif'])"
   ]
  },
  {
   "cell_type": "code",
   "execution_count": null,
   "metadata": {},
   "outputs": [],
   "source": [
    "explainer_1 = shap.Explainer(model1)\n",
    "shap_values = explainer_1(X_train)"
   ]
  },
  {
   "cell_type": "code",
   "execution_count": null,
   "metadata": {},
   "outputs": [],
   "source": [
    "shap.summary_plot(shap_values, X_train, max_display=10)"
   ]
  },
  {
   "cell_type": "code",
   "execution_count": null,
   "metadata": {},
   "outputs": [],
   "source": [
    "shap.summary_plot(shap_values, X_train, plot_type='bar',max_display = 10)"
   ]
  },
  {
   "cell_type": "code",
   "execution_count": 3,
   "metadata": {},
   "outputs": [
    {
     "data": {
      "text/plain": [
       "array([1.55772148e-01, 1.37824166e-01, 3.13969173e-02, 1.41409981e-04,\n",
       "       6.95004927e-05, 5.61439884e-04, 1.55146128e+00, 1.81101398e+01,\n",
       "       3.30012373e+01, 4.53798126e+01, 1.24006282e+00, 1.30576993e-02,\n",
       "       2.66302903e-01, 8.97036076e-04, 5.44998820e-02, 5.67631503e-02])"
      ]
     },
     "execution_count": 3,
     "metadata": {},
     "output_type": "execute_result"
    }
   ],
   "source": [
    "importances = model1.feature_importances_\n",
    "importances"
   ]
  },
  {
   "cell_type": "code",
   "execution_count": 16,
   "metadata": {},
   "outputs": [
    {
     "data": {
      "text/html": [
       "<div>\n",
       "<style scoped>\n",
       "    .dataframe tbody tr th:only-of-type {\n",
       "        vertical-align: middle;\n",
       "    }\n",
       "\n",
       "    .dataframe tbody tr th {\n",
       "        vertical-align: top;\n",
       "    }\n",
       "\n",
       "    .dataframe thead th {\n",
       "        text-align: right;\n",
       "    }\n",
       "</style>\n",
       "<table border=\"1\" class=\"dataframe\">\n",
       "  <thead>\n",
       "    <tr style=\"text-align: right;\">\n",
       "      <th></th>\n",
       "      <th>vehicleCode</th>\n",
       "      <th>lat</th>\n",
       "      <th>lng</th>\n",
       "      <th>velocity</th>\n",
       "      <th>distance</th>\n",
       "      <th>is_in_target</th>\n",
       "      <th>total_distance_mean_vehicle</th>\n",
       "      <th>left_distance</th>\n",
       "      <th>cum_sum_time</th>\n",
       "      <th>total_time</th>\n",
       "      <th>route_name</th>\n",
       "      <th>weekday</th>\n",
       "      <th>velocity_mean_5sec</th>\n",
       "      <th>velocity_std_5sec</th>\n",
       "      <th>velocity_mean_weekday</th>\n",
       "      <th>velocity_std_weekday</th>\n",
       "    </tr>\n",
       "  </thead>\n",
       "  <tbody>\n",
       "  </tbody>\n",
       "</table>\n",
       "</div>"
      ],
      "text/plain": [
       "Empty DataFrame\n",
       "Columns: [vehicleCode, lat, lng, velocity, distance, is_in_target, total_distance_mean_vehicle, left_distance, cum_sum_time, total_time, route_name, weekday, velocity_mean_5sec, velocity_std_5sec, velocity_mean_weekday, velocity_std_weekday]\n",
       "Index: []"
      ]
     },
     "execution_count": 16,
     "metadata": {},
     "output_type": "execute_result"
    }
   ],
   "source": [
    "k = pd.DataFrame(columns = ['vehicleCode', 'lat', 'lng', 'velocity', 'distance', 'is_in_target','total_distance_mean_vehicle','left_distance', 'cum_sum_time', 'total_time','route_name','weekday', 'velocity_mean_5sec', 'velocity_std_5sec','velocity_mean_weekday', 'velocity_std_weekday'])\n",
    "\n",
    "\n",
    "k"
   ]
  },
  {
   "cell_type": "code",
   "execution_count": 17,
   "metadata": {},
   "outputs": [
    {
     "data": {
      "text/plain": [
       "(0, 16)"
      ]
     },
     "execution_count": 17,
     "metadata": {},
     "output_type": "execute_result"
    }
   ],
   "source": [
    "k.shape"
   ]
  },
  {
   "cell_type": "code",
   "execution_count": 18,
   "metadata": {
    "scrolled": true
   },
   "outputs": [
    {
     "data": {
      "image/png": "[encoded data removed]",
      "text/plain": [
       "<Figure size 432x288 with 1 Axes>"
      ]
     },
     "metadata": {
      "needs_background": "light"
     },
     "output_type": "display_data"
    }
   ],
   "source": [
    "\n",
    "sorted_indices = np.argsort(importances)[::-1]\n",
    "\n",
    "plt.title('Feature Importance')\n",
    "plt.bar(range(k.shape[1]), importances[sorted_indices], align='center')\n",
    "plt.xticks(range(k.shape[1]), k.columns[sorted_indices], rotation=90)\n",
    "plt.tight_layout()\n",
    "plt.show()"
   ]
  },
  {
   "cell_type": "code",
   "execution_count": null,
   "metadata": {},
   "outputs": [],
   "source": [
    "\n",
    "sorted_indices = np.argsort(importances)[::-1]\n",
    "\n",
    "plt.title('Feature Importance')\n",
    "plt.bar(range(X_train.shape[1]), importances[sorted_indices], align='center')\n",
    "plt.xticks(range(X_train.shape[1]), X_train.columns[sorted_indices], rotation=90)\n",
    "plt.tight_layout()\n",
    "plt.show()"
   ]
  },
  {
   "cell_type": "code",
   "execution_count": 123,
   "metadata": {},
   "outputs": [],
   "source": [
    "def show_temp(c):\n",
    "    \n",
    "    fig, ax1 = plt.subplots()\n",
    "    n = t[t['course']==c]\n",
    "    print(len(n))\n",
    "    ax1 = sns.scatterplot(n.index,n['pred'], color = 'r', s= 2)\n",
    "    ax1.plot\n",
    "    ax2= ax1.twinx()\n",
    "    ax2 = sns.scatterplot(n.index,n['gt'], s =2)\n",
    "    plt.title(\"gt vs ourmodel\")\n"
   ]
  }
 ],
 "metadata": {
  "kernelspec": {
   "display_name": "Python 3 (ipykernel)",
   "language": "python",
   "name": "python3"
  },
  "language_info": {
   "codemirror_mode": {
    "name": "ipython",
    "version": 3
   },
   "file_extension": ".py",
   "mimetype": "text/x-python",
   "name": "python",
   "nbconvert_exporter": "python",
   "pygments_lexer": "ipython3",
   "version": "3.9.7"
  },
  "toc": {
   "base_numbering": 1,
   "nav_menu": {},
   "number_sections": true,
   "sideBar": true,
   "skip_h1_title": false,
   "title_cell": "Table of Contents",
   "title_sidebar": "Contents",
   "toc_cell": false,
   "toc_position": {
    "height": "calc(100% - 180px)",
    "left": "10px",
    "top": "150px",
    "width": "279.273px"
   },
   "toc_section_display": true,
   "toc_window_display": true
  }
 },
 "nbformat": 4,
 "nbformat_minor": 4
}
